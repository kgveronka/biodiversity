{
 "cells": [
  {
   "cell_type": "code",
   "execution_count": 233,
   "metadata": {},
   "outputs": [],
   "source": [
    "# import libraries\n",
    "import pandas as pd\n",
    "import numpy as np\n",
    "import matplotlib.pyplot as plt \n",
    "import seaborn as sns"
   ]
  },
  {
   "cell_type": "code",
   "execution_count": 234,
   "metadata": {},
   "outputs": [],
   "source": [
    "# loading data\n",
    "observations=pd.read_csv('observations.csv')\n",
    "species=pd.read_csv('species_info.csv')"
   ]
  },
  {
   "cell_type": "markdown",
   "metadata": {},
   "source": [
    "### Data Wrangling ###"
   ]
  },
  {
   "cell_type": "markdown",
   "metadata": {},
   "source": [
    "#### Dataframe Observations ###"
   ]
  },
  {
   "cell_type": "code",
   "execution_count": 235,
   "metadata": {},
   "outputs": [
    {
     "data": {
      "text/html": [
       "<div>\n",
       "<style scoped>\n",
       "    .dataframe tbody tr th:only-of-type {\n",
       "        vertical-align: middle;\n",
       "    }\n",
       "\n",
       "    .dataframe tbody tr th {\n",
       "        vertical-align: top;\n",
       "    }\n",
       "\n",
       "    .dataframe thead th {\n",
       "        text-align: right;\n",
       "    }\n",
       "</style>\n",
       "<table border=\"1\" class=\"dataframe\">\n",
       "  <thead>\n",
       "    <tr style=\"text-align: right;\">\n",
       "      <th></th>\n",
       "      <th>scientific_name</th>\n",
       "      <th>park_name</th>\n",
       "      <th>observations</th>\n",
       "    </tr>\n",
       "  </thead>\n",
       "  <tbody>\n",
       "    <tr>\n",
       "      <th>0</th>\n",
       "      <td>Vicia benghalensis</td>\n",
       "      <td>Great Smoky Mountains National Park</td>\n",
       "      <td>68</td>\n",
       "    </tr>\n",
       "    <tr>\n",
       "      <th>1</th>\n",
       "      <td>Neovison vison</td>\n",
       "      <td>Great Smoky Mountains National Park</td>\n",
       "      <td>77</td>\n",
       "    </tr>\n",
       "    <tr>\n",
       "      <th>2</th>\n",
       "      <td>Prunus subcordata</td>\n",
       "      <td>Yosemite National Park</td>\n",
       "      <td>138</td>\n",
       "    </tr>\n",
       "    <tr>\n",
       "      <th>3</th>\n",
       "      <td>Abutilon theophrasti</td>\n",
       "      <td>Bryce National Park</td>\n",
       "      <td>84</td>\n",
       "    </tr>\n",
       "    <tr>\n",
       "      <th>4</th>\n",
       "      <td>Githopsis specularioides</td>\n",
       "      <td>Great Smoky Mountains National Park</td>\n",
       "      <td>85</td>\n",
       "    </tr>\n",
       "  </tbody>\n",
       "</table>\n",
       "</div>"
      ],
      "text/plain": [
       "            scientific_name                            park_name  observations\n",
       "0        Vicia benghalensis  Great Smoky Mountains National Park            68\n",
       "1            Neovison vison  Great Smoky Mountains National Park            77\n",
       "2         Prunus subcordata               Yosemite National Park           138\n",
       "3      Abutilon theophrasti                  Bryce National Park            84\n",
       "4  Githopsis specularioides  Great Smoky Mountains National Park            85"
      ]
     },
     "execution_count": 235,
     "metadata": {},
     "output_type": "execute_result"
    }
   ],
   "source": [
    "observations.head()"
   ]
  },
  {
   "cell_type": "code",
   "execution_count": 236,
   "metadata": {},
   "outputs": [
    {
     "data": {
      "text/html": [
       "<div>\n",
       "<style scoped>\n",
       "    .dataframe tbody tr th:only-of-type {\n",
       "        vertical-align: middle;\n",
       "    }\n",
       "\n",
       "    .dataframe tbody tr th {\n",
       "        vertical-align: top;\n",
       "    }\n",
       "\n",
       "    .dataframe thead th {\n",
       "        text-align: right;\n",
       "    }\n",
       "</style>\n",
       "<table border=\"1\" class=\"dataframe\">\n",
       "  <thead>\n",
       "    <tr style=\"text-align: right;\">\n",
       "      <th></th>\n",
       "      <th>scientific_name</th>\n",
       "      <th>park_name</th>\n",
       "      <th>obs_num</th>\n",
       "    </tr>\n",
       "  </thead>\n",
       "  <tbody>\n",
       "    <tr>\n",
       "      <th>0</th>\n",
       "      <td>Vicia benghalensis</td>\n",
       "      <td>Great Smoky Mountains National Park</td>\n",
       "      <td>68</td>\n",
       "    </tr>\n",
       "    <tr>\n",
       "      <th>1</th>\n",
       "      <td>Neovison vison</td>\n",
       "      <td>Great Smoky Mountains National Park</td>\n",
       "      <td>77</td>\n",
       "    </tr>\n",
       "    <tr>\n",
       "      <th>2</th>\n",
       "      <td>Prunus subcordata</td>\n",
       "      <td>Yosemite National Park</td>\n",
       "      <td>138</td>\n",
       "    </tr>\n",
       "    <tr>\n",
       "      <th>3</th>\n",
       "      <td>Abutilon theophrasti</td>\n",
       "      <td>Bryce National Park</td>\n",
       "      <td>84</td>\n",
       "    </tr>\n",
       "    <tr>\n",
       "      <th>4</th>\n",
       "      <td>Githopsis specularioides</td>\n",
       "      <td>Great Smoky Mountains National Park</td>\n",
       "      <td>85</td>\n",
       "    </tr>\n",
       "  </tbody>\n",
       "</table>\n",
       "</div>"
      ],
      "text/plain": [
       "            scientific_name                            park_name  obs_num\n",
       "0        Vicia benghalensis  Great Smoky Mountains National Park       68\n",
       "1            Neovison vison  Great Smoky Mountains National Park       77\n",
       "2         Prunus subcordata               Yosemite National Park      138\n",
       "3      Abutilon theophrasti                  Bryce National Park       84\n",
       "4  Githopsis specularioides  Great Smoky Mountains National Park       85"
      ]
     },
     "execution_count": 236,
     "metadata": {},
     "output_type": "execute_result"
    }
   ],
   "source": [
    "# rename column header which is identific with df name\n",
    "observations.rename(columns={'observations': 'obs_num'}, inplace=True)\n",
    "observations.head()"
   ]
  },
  {
   "cell_type": "code",
   "execution_count": 237,
   "metadata": {},
   "outputs": [
    {
     "name": "stdout",
     "output_type": "stream",
     "text": [
      "<class 'pandas.core.frame.DataFrame'>\n",
      "RangeIndex: 23296 entries, 0 to 23295\n",
      "Data columns (total 3 columns):\n",
      " #   Column           Non-Null Count  Dtype \n",
      "---  ------           --------------  ----- \n",
      " 0   scientific_name  23296 non-null  object\n",
      " 1   park_name        23296 non-null  object\n",
      " 2   obs_num          23296 non-null  int64 \n",
      "dtypes: int64(1), object(2)\n",
      "memory usage: 546.1+ KB\n"
     ]
    }
   ],
   "source": [
    "observations.info()"
   ]
  },
  {
   "cell_type": "code",
   "execution_count": 238,
   "metadata": {},
   "outputs": [
    {
     "data": {
      "text/plain": [
       "(23296, 3)"
      ]
     },
     "execution_count": 238,
     "metadata": {},
     "output_type": "execute_result"
    }
   ],
   "source": [
    "# number of rows\n",
    "observations.shape"
   ]
  },
  {
   "cell_type": "code",
   "execution_count": 239,
   "metadata": {},
   "outputs": [
    {
     "data": {
      "text/plain": [
       "scientific_name    object\n",
       "park_name          object\n",
       "obs_num             int64\n",
       "dtype: object"
      ]
     },
     "execution_count": 239,
     "metadata": {},
     "output_type": "execute_result"
    }
   ],
   "source": [
    "# data types\n",
    "observations.dtypes"
   ]
  },
  {
   "cell_type": "code",
   "execution_count": 240,
   "metadata": {},
   "outputs": [
    {
     "data": {
      "text/plain": [
       "scientific_name    5541\n",
       "park_name             4\n",
       "obs_num             304\n",
       "dtype: int64"
      ]
     },
     "execution_count": 240,
     "metadata": {},
     "output_type": "execute_result"
    }
   ],
   "source": [
    "# number of unique values in each column\n",
    "observations.nunique()"
   ]
  },
  {
   "cell_type": "code",
   "execution_count": 241,
   "metadata": {},
   "outputs": [
    {
     "data": {
      "text/html": [
       "<div>\n",
       "<style scoped>\n",
       "    .dataframe tbody tr th:only-of-type {\n",
       "        vertical-align: middle;\n",
       "    }\n",
       "\n",
       "    .dataframe tbody tr th {\n",
       "        vertical-align: top;\n",
       "    }\n",
       "\n",
       "    .dataframe thead th {\n",
       "        text-align: right;\n",
       "    }\n",
       "</style>\n",
       "<table border=\"1\" class=\"dataframe\">\n",
       "  <thead>\n",
       "    <tr style=\"text-align: right;\">\n",
       "      <th></th>\n",
       "      <th>scientific_name</th>\n",
       "      <th>park_name</th>\n",
       "      <th>obs_num</th>\n",
       "    </tr>\n",
       "  </thead>\n",
       "  <tbody>\n",
       "    <tr>\n",
       "      <th>count</th>\n",
       "      <td>23296</td>\n",
       "      <td>23296</td>\n",
       "      <td>23296.000000</td>\n",
       "    </tr>\n",
       "    <tr>\n",
       "      <th>unique</th>\n",
       "      <td>5541</td>\n",
       "      <td>4</td>\n",
       "      <td>NaN</td>\n",
       "    </tr>\n",
       "    <tr>\n",
       "      <th>top</th>\n",
       "      <td>Myotis lucifugus</td>\n",
       "      <td>Great Smoky Mountains National Park</td>\n",
       "      <td>NaN</td>\n",
       "    </tr>\n",
       "    <tr>\n",
       "      <th>freq</th>\n",
       "      <td>12</td>\n",
       "      <td>5824</td>\n",
       "      <td>NaN</td>\n",
       "    </tr>\n",
       "    <tr>\n",
       "      <th>mean</th>\n",
       "      <td>NaN</td>\n",
       "      <td>NaN</td>\n",
       "      <td>142.287904</td>\n",
       "    </tr>\n",
       "    <tr>\n",
       "      <th>std</th>\n",
       "      <td>NaN</td>\n",
       "      <td>NaN</td>\n",
       "      <td>69.890532</td>\n",
       "    </tr>\n",
       "    <tr>\n",
       "      <th>min</th>\n",
       "      <td>NaN</td>\n",
       "      <td>NaN</td>\n",
       "      <td>9.000000</td>\n",
       "    </tr>\n",
       "    <tr>\n",
       "      <th>25%</th>\n",
       "      <td>NaN</td>\n",
       "      <td>NaN</td>\n",
       "      <td>86.000000</td>\n",
       "    </tr>\n",
       "    <tr>\n",
       "      <th>50%</th>\n",
       "      <td>NaN</td>\n",
       "      <td>NaN</td>\n",
       "      <td>124.000000</td>\n",
       "    </tr>\n",
       "    <tr>\n",
       "      <th>75%</th>\n",
       "      <td>NaN</td>\n",
       "      <td>NaN</td>\n",
       "      <td>195.000000</td>\n",
       "    </tr>\n",
       "    <tr>\n",
       "      <th>max</th>\n",
       "      <td>NaN</td>\n",
       "      <td>NaN</td>\n",
       "      <td>321.000000</td>\n",
       "    </tr>\n",
       "  </tbody>\n",
       "</table>\n",
       "</div>"
      ],
      "text/plain": [
       "         scientific_name                            park_name       obs_num\n",
       "count              23296                                23296  23296.000000\n",
       "unique              5541                                    4           NaN\n",
       "top     Myotis lucifugus  Great Smoky Mountains National Park           NaN\n",
       "freq                  12                                 5824           NaN\n",
       "mean                 NaN                                  NaN    142.287904\n",
       "std                  NaN                                  NaN     69.890532\n",
       "min                  NaN                                  NaN      9.000000\n",
       "25%                  NaN                                  NaN     86.000000\n",
       "50%                  NaN                                  NaN    124.000000\n",
       "75%                  NaN                                  NaN    195.000000\n",
       "max                  NaN                                  NaN    321.000000"
      ]
     },
     "execution_count": 241,
     "metadata": {},
     "output_type": "execute_result"
    }
   ],
   "source": [
    "observations.describe(include = 'all')"
   ]
  },
  {
   "cell_type": "code",
   "execution_count": 242,
   "metadata": {},
   "outputs": [
    {
     "data": {
      "image/png": "[encoded data removed]",
      "text/plain": [
       "<Figure size 640x480 with 1 Axes>"
      ]
     },
     "metadata": {},
     "output_type": "display_data"
    },
    {
     "data": {
      "text/plain": [
       "<Figure size 640x480 with 0 Axes>"
      ]
     },
     "metadata": {},
     "output_type": "display_data"
    }
   ],
   "source": [
    "plt.hist(observations.obs_num)\n",
    "plt.show()\n",
    "plt.clf()"
   ]
  },
  {
   "cell_type": "code",
   "execution_count": 243,
   "metadata": {},
   "outputs": [
    {
     "data": {
      "text/plain": [
       "array(['Great Smoky Mountains National Park', 'Yosemite National Park',\n",
       "       'Bryce National Park', 'Yellowstone National Park'], dtype=object)"
      ]
     },
     "execution_count": 243,
     "metadata": {},
     "output_type": "execute_result"
    }
   ],
   "source": [
    "observations['park_name'].unique()"
   ]
  },
  {
   "cell_type": "code",
   "execution_count": 244,
   "metadata": {},
   "outputs": [
    {
     "data": {
      "text/plain": [
       "scientific_name    0\n",
       "park_name          0\n",
       "obs_num            0\n",
       "dtype: int64"
      ]
     },
     "execution_count": 244,
     "metadata": {},
     "output_type": "execute_result"
    }
   ],
   "source": [
    "# finding missing values\n",
    "observations.isna().sum()"
   ]
  },
  {
   "cell_type": "code",
   "execution_count": 245,
   "metadata": {},
   "outputs": [
    {
     "data": {
      "text/plain": [
       "scientific_name    0\n",
       "park_name          0\n",
       "obs_num            0\n",
       "dtype: int64"
      ]
     },
     "execution_count": 245,
     "metadata": {},
     "output_type": "execute_result"
    }
   ],
   "source": [
    "# finding missing values in column with datatype int64\n",
    "observations['obs_num']=observations['obs_num'].where(observations['obs_num']!=0, np.nan)\n",
    "observations.isna().sum()"
   ]
  },
  {
   "cell_type": "code",
   "execution_count": 246,
   "metadata": {},
   "outputs": [
    {
     "data": {
      "text/plain": [
       "False    23281\n",
       "True        15\n",
       "dtype: int64"
      ]
     },
     "execution_count": 246,
     "metadata": {},
     "output_type": "execute_result"
    }
   ],
   "source": [
    "# finding duplicates\n",
    "observations.duplicated().value_counts()"
   ]
  },
  {
   "cell_type": "markdown",
   "metadata": {},
   "source": [
    "##### Description of observations dataframe #####\n",
    "In the dataframe observations there are 23296 records in 3 columns: \n",
    "- scientific_name: Latin name of the plant/animal\n",
    "- park_name: locating of the observations\n",
    "- obs_num: number of observations  \n",
    "\n",
    "The first two columns' datatype is objective, they are names, the third column (which is a count) has intreger values, so there is no need to change datatype.  \n",
    "In the dataframe, there is 5541 different creatures listed in 4 national parks (Great Smoky Mountains National Park, Yosemite National Park, Bryce National Park, Yellowstone National Park). It might be useful to cut the end-string of the par_name (' National Park) because it will be shorter. \n",
    "The minimum of observations is 9, the maximum value is 321. In the distribution, 2 peaks can be seen on the histoplot. The data is right-skewed.\n",
    "Probably, there is no missing value in the dataframe. \n",
    "There is 15 duplicated observations."
   ]
  },
  {
   "cell_type": "markdown",
   "metadata": {},
   "source": [
    "#### Dataframe Species ###"
   ]
  },
  {
   "cell_type": "code",
   "execution_count": 247,
   "metadata": {
    "scrolled": true
   },
   "outputs": [
    {
     "data": {
      "text/html": [
       "<div>\n",
       "<style scoped>\n",
       "    .dataframe tbody tr th:only-of-type {\n",
       "        vertical-align: middle;\n",
       "    }\n",
       "\n",
       "    .dataframe tbody tr th {\n",
       "        vertical-align: top;\n",
       "    }\n",
       "\n",
       "    .dataframe thead th {\n",
       "        text-align: right;\n",
       "    }\n",
       "</style>\n",
       "<table border=\"1\" class=\"dataframe\">\n",
       "  <thead>\n",
       "    <tr style=\"text-align: right;\">\n",
       "      <th></th>\n",
       "      <th>category</th>\n",
       "      <th>scientific_name</th>\n",
       "      <th>common_names</th>\n",
       "      <th>conservation_status</th>\n",
       "    </tr>\n",
       "  </thead>\n",
       "  <tbody>\n",
       "    <tr>\n",
       "      <th>0</th>\n",
       "      <td>Mammal</td>\n",
       "      <td>Clethrionomys gapperi gapperi</td>\n",
       "      <td>Gapper's Red-Backed Vole</td>\n",
       "      <td>NaN</td>\n",
       "    </tr>\n",
       "    <tr>\n",
       "      <th>1</th>\n",
       "      <td>Mammal</td>\n",
       "      <td>Bos bison</td>\n",
       "      <td>American Bison, Bison</td>\n",
       "      <td>NaN</td>\n",
       "    </tr>\n",
       "    <tr>\n",
       "      <th>2</th>\n",
       "      <td>Mammal</td>\n",
       "      <td>Bos taurus</td>\n",
       "      <td>Aurochs, Aurochs, Domestic Cattle (Feral), Dom...</td>\n",
       "      <td>NaN</td>\n",
       "    </tr>\n",
       "    <tr>\n",
       "      <th>3</th>\n",
       "      <td>Mammal</td>\n",
       "      <td>Ovis aries</td>\n",
       "      <td>Domestic Sheep, Mouflon, Red Sheep, Sheep (Feral)</td>\n",
       "      <td>NaN</td>\n",
       "    </tr>\n",
       "    <tr>\n",
       "      <th>4</th>\n",
       "      <td>Mammal</td>\n",
       "      <td>Cervus elaphus</td>\n",
       "      <td>Wapiti Or Elk</td>\n",
       "      <td>NaN</td>\n",
       "    </tr>\n",
       "  </tbody>\n",
       "</table>\n",
       "</div>"
      ],
      "text/plain": [
       "  category                scientific_name  \\\n",
       "0   Mammal  Clethrionomys gapperi gapperi   \n",
       "1   Mammal                      Bos bison   \n",
       "2   Mammal                     Bos taurus   \n",
       "3   Mammal                     Ovis aries   \n",
       "4   Mammal                 Cervus elaphus   \n",
       "\n",
       "                                        common_names conservation_status  \n",
       "0                           Gapper's Red-Backed Vole                 NaN  \n",
       "1                              American Bison, Bison                 NaN  \n",
       "2  Aurochs, Aurochs, Domestic Cattle (Feral), Dom...                 NaN  \n",
       "3  Domestic Sheep, Mouflon, Red Sheep, Sheep (Feral)                 NaN  \n",
       "4                                      Wapiti Or Elk                 NaN  "
      ]
     },
     "execution_count": 247,
     "metadata": {},
     "output_type": "execute_result"
    }
   ],
   "source": [
    "species.head()"
   ]
  },
  {
   "cell_type": "code",
   "execution_count": 248,
   "metadata": {},
   "outputs": [
    {
     "name": "stdout",
     "output_type": "stream",
     "text": [
      "<class 'pandas.core.frame.DataFrame'>\n",
      "RangeIndex: 5824 entries, 0 to 5823\n",
      "Data columns (total 4 columns):\n",
      " #   Column               Non-Null Count  Dtype \n",
      "---  ------               --------------  ----- \n",
      " 0   category             5824 non-null   object\n",
      " 1   scientific_name      5824 non-null   object\n",
      " 2   common_names         5824 non-null   object\n",
      " 3   conservation_status  191 non-null    object\n",
      "dtypes: object(4)\n",
      "memory usage: 182.1+ KB\n"
     ]
    }
   ],
   "source": [
    "species.info()"
   ]
  },
  {
   "cell_type": "code",
   "execution_count": 249,
   "metadata": {},
   "outputs": [
    {
     "data": {
      "text/plain": [
       "(5824, 4)"
      ]
     },
     "execution_count": 249,
     "metadata": {},
     "output_type": "execute_result"
    }
   ],
   "source": [
    "# number of rows\n",
    "species.shape"
   ]
  },
  {
   "cell_type": "code",
   "execution_count": 250,
   "metadata": {},
   "outputs": [
    {
     "data": {
      "text/plain": [
       "category               object\n",
       "scientific_name        object\n",
       "common_names           object\n",
       "conservation_status    object\n",
       "dtype: object"
      ]
     },
     "execution_count": 250,
     "metadata": {},
     "output_type": "execute_result"
    }
   ],
   "source": [
    "# data types\n",
    "species.dtypes"
   ]
  },
  {
   "cell_type": "code",
   "execution_count": 251,
   "metadata": {},
   "outputs": [
    {
     "data": {
      "text/html": [
       "<div>\n",
       "<style scoped>\n",
       "    .dataframe tbody tr th:only-of-type {\n",
       "        vertical-align: middle;\n",
       "    }\n",
       "\n",
       "    .dataframe tbody tr th {\n",
       "        vertical-align: top;\n",
       "    }\n",
       "\n",
       "    .dataframe thead th {\n",
       "        text-align: right;\n",
       "    }\n",
       "</style>\n",
       "<table border=\"1\" class=\"dataframe\">\n",
       "  <thead>\n",
       "    <tr style=\"text-align: right;\">\n",
       "      <th></th>\n",
       "      <th>category</th>\n",
       "      <th>scientific_name</th>\n",
       "      <th>common_names</th>\n",
       "      <th>conservation_status</th>\n",
       "    </tr>\n",
       "  </thead>\n",
       "  <tbody>\n",
       "    <tr>\n",
       "      <th>count</th>\n",
       "      <td>5824</td>\n",
       "      <td>5824</td>\n",
       "      <td>5824</td>\n",
       "      <td>191</td>\n",
       "    </tr>\n",
       "    <tr>\n",
       "      <th>unique</th>\n",
       "      <td>7</td>\n",
       "      <td>5541</td>\n",
       "      <td>5504</td>\n",
       "      <td>4</td>\n",
       "    </tr>\n",
       "    <tr>\n",
       "      <th>top</th>\n",
       "      <td>Vascular Plant</td>\n",
       "      <td>Castor canadensis</td>\n",
       "      <td>Brachythecium Moss</td>\n",
       "      <td>Species of Concern</td>\n",
       "    </tr>\n",
       "    <tr>\n",
       "      <th>freq</th>\n",
       "      <td>4470</td>\n",
       "      <td>3</td>\n",
       "      <td>7</td>\n",
       "      <td>161</td>\n",
       "    </tr>\n",
       "  </tbody>\n",
       "</table>\n",
       "</div>"
      ],
      "text/plain": [
       "              category    scientific_name        common_names  \\\n",
       "count             5824               5824                5824   \n",
       "unique               7               5541                5504   \n",
       "top     Vascular Plant  Castor canadensis  Brachythecium Moss   \n",
       "freq              4470                  3                   7   \n",
       "\n",
       "       conservation_status  \n",
       "count                  191  \n",
       "unique                   4  \n",
       "top     Species of Concern  \n",
       "freq                   161  "
      ]
     },
     "execution_count": 251,
     "metadata": {},
     "output_type": "execute_result"
    }
   ],
   "source": [
    "species.describe(include = 'all')"
   ]
  },
  {
   "cell_type": "code",
   "execution_count": 252,
   "metadata": {},
   "outputs": [
    {
     "data": {
      "text/plain": [
       "category                  7\n",
       "scientific_name        5541\n",
       "common_names           5504\n",
       "conservation_status       4\n",
       "dtype: int64"
      ]
     },
     "execution_count": 252,
     "metadata": {},
     "output_type": "execute_result"
    }
   ],
   "source": [
    "# number of unique values in each column\n",
    "species.nunique()"
   ]
  },
  {
   "cell_type": "code",
   "execution_count": 253,
   "metadata": {},
   "outputs": [
    {
     "data": {
      "text/plain": [
       "array(['Mammal', 'Bird', 'Reptile', 'Amphibian', 'Fish', 'Vascular Plant',\n",
       "       'Nonvascular Plant'], dtype=object)"
      ]
     },
     "execution_count": 253,
     "metadata": {},
     "output_type": "execute_result"
    }
   ],
   "source": [
    "# values of category\n",
    "species['category'].unique()"
   ]
  },
  {
   "cell_type": "code",
   "execution_count": 254,
   "metadata": {},
   "outputs": [
    {
     "data": {
      "text/plain": [
       "array([nan, 'Species of Concern', 'Endangered', 'Threatened',\n",
       "       'In Recovery'], dtype=object)"
      ]
     },
     "execution_count": 254,
     "metadata": {},
     "output_type": "execute_result"
    }
   ],
   "source": [
    "# unique values in column coservation_status\n",
    "species.conservation_status.unique()"
   ]
  },
  {
   "cell_type": "code",
   "execution_count": 255,
   "metadata": {},
   "outputs": [
    {
     "data": {
      "text/plain": [
       "category                  0\n",
       "scientific_name           0\n",
       "common_names              0\n",
       "conservation_status    5633\n",
       "dtype: int64"
      ]
     },
     "execution_count": 255,
     "metadata": {},
     "output_type": "execute_result"
    }
   ],
   "source": [
    "# finding missing values\n",
    "species.isna().sum()"
   ]
  },
  {
   "cell_type": "code",
   "execution_count": 256,
   "metadata": {},
   "outputs": [
    {
     "data": {
      "text/plain": [
       "False    5824\n",
       "dtype: int64"
      ]
     },
     "execution_count": 256,
     "metadata": {},
     "output_type": "execute_result"
    }
   ],
   "source": [
    "# finding duplicates\n",
    "species.duplicated().value_counts()"
   ]
  },
  {
   "cell_type": "markdown",
   "metadata": {},
   "source": [
    "##### Description of species dataframe #####\n",
    "\n",
    "In the dataframe, there is 5824 records in 4 column:\n",
    "- category: taxonomy of species. There are 7 category: 'Mammal', 'Bird', 'Reptile', 'Amphibian', 'Fish', 'Vascular Plant', 'Nonvascular Plant'\n",
    "- scientific_name: Latin name of species\n",
    "- common_names: common used names of species\n",
    "- conservation_status: in the column there are 4 values, and a big percentof them is NaN. The other values of the variable (Species of Concern', 'Endangered', 'Threatened', 'In Recovery') mean that the animal/plant is in kind of danger. Maybe the data is missing structurally, and means that the conservation status is 'not endangered' \n",
    "\n",
    "The datatype for all columns is object. It can be maybe usful to change the datatype of columns conversation_status and category into categorical datatype to scale the values.\n",
    "There are not any duplicated records in the dataframe."
   ]
  },
  {
   "cell_type": "markdown",
   "metadata": {},
   "source": [
    "### Data Cleaning and Organizing ###"
   ]
  },
  {
   "cell_type": "markdown",
   "metadata": {},
   "source": [
    "#### Tasks ####\n",
    "- [x] characterizing missingness in column conservation_status (df species)\n",
    "- [x] fill data in df species \n",
    "- [x] change conservation_status dtype (df species)\n",
    "- [x] change category dtype (df species)\n",
    "- [x] exploring and dropping duplications in df observations  \n",
    "- [x] cut ' National Park' - observations.park_name"
   ]
  },
  {
   "cell_type": "code",
   "execution_count": 257,
   "metadata": {},
   "outputs": [
    {
     "data": {
      "text/plain": [
       "Species of Concern    161\n",
       "Endangered             16\n",
       "Threatened             10\n",
       "In Recovery             4\n",
       "Name: conservation_status, dtype: int64"
      ]
     },
     "execution_count": 257,
     "metadata": {},
     "output_type": "execute_result"
    }
   ],
   "source": [
    "# characterizing missingness in column conservation_status\n",
    "species.conservation_status.value_counts()"
   ]
  },
  {
   "cell_type": "code",
   "execution_count": 258,
   "metadata": {},
   "outputs": [
    {
     "data": {
      "text/html": [
       "<div>\n",
       "<style scoped>\n",
       "    .dataframe tbody tr th:only-of-type {\n",
       "        vertical-align: middle;\n",
       "    }\n",
       "\n",
       "    .dataframe tbody tr th {\n",
       "        vertical-align: top;\n",
       "    }\n",
       "\n",
       "    .dataframe thead th {\n",
       "        text-align: right;\n",
       "    }\n",
       "</style>\n",
       "<table border=\"1\" class=\"dataframe\">\n",
       "  <thead>\n",
       "    <tr style=\"text-align: right;\">\n",
       "      <th>conservation is na</th>\n",
       "      <th>False</th>\n",
       "      <th>True</th>\n",
       "    </tr>\n",
       "    <tr>\n",
       "      <th>category</th>\n",
       "      <th></th>\n",
       "      <th></th>\n",
       "    </tr>\n",
       "  </thead>\n",
       "  <tbody>\n",
       "    <tr>\n",
       "      <th>Amphibian</th>\n",
       "      <td>7</td>\n",
       "      <td>73</td>\n",
       "    </tr>\n",
       "    <tr>\n",
       "      <th>Bird</th>\n",
       "      <td>79</td>\n",
       "      <td>442</td>\n",
       "    </tr>\n",
       "    <tr>\n",
       "      <th>Fish</th>\n",
       "      <td>11</td>\n",
       "      <td>116</td>\n",
       "    </tr>\n",
       "    <tr>\n",
       "      <th>Mammal</th>\n",
       "      <td>38</td>\n",
       "      <td>176</td>\n",
       "    </tr>\n",
       "    <tr>\n",
       "      <th>Nonvascular Plant</th>\n",
       "      <td>5</td>\n",
       "      <td>328</td>\n",
       "    </tr>\n",
       "    <tr>\n",
       "      <th>Reptile</th>\n",
       "      <td>5</td>\n",
       "      <td>74</td>\n",
       "    </tr>\n",
       "    <tr>\n",
       "      <th>Vascular Plant</th>\n",
       "      <td>46</td>\n",
       "      <td>4424</td>\n",
       "    </tr>\n",
       "  </tbody>\n",
       "</table>\n",
       "</div>"
      ],
      "text/plain": [
       "conservation is na  False  True\n",
       "category                       \n",
       "Amphibian               7    73\n",
       "Bird                   79   442\n",
       "Fish                   11   116\n",
       "Mammal                 38   176\n",
       "Nonvascular Plant       5   328\n",
       "Reptile                 5    74\n",
       "Vascular Plant         46  4424"
      ]
     },
     "execution_count": 258,
     "metadata": {},
     "output_type": "execute_result"
    }
   ],
   "source": [
    "# count of categories not in danger\n",
    "pd.crosstab(species['category'], species['conservation_status'].isna(),rownames=['category'], colnames=['conservation is na'])"
   ]
  },
  {
   "cell_type": "code",
   "execution_count": 259,
   "metadata": {},
   "outputs": [
    {
     "data": {
      "text/html": [
       "<div>\n",
       "<style scoped>\n",
       "    .dataframe tbody tr th:only-of-type {\n",
       "        vertical-align: middle;\n",
       "    }\n",
       "\n",
       "    .dataframe tbody tr th {\n",
       "        vertical-align: top;\n",
       "    }\n",
       "\n",
       "    .dataframe thead th {\n",
       "        text-align: right;\n",
       "    }\n",
       "</style>\n",
       "<table border=\"1\" class=\"dataframe\">\n",
       "  <thead>\n",
       "    <tr style=\"text-align: right;\">\n",
       "      <th></th>\n",
       "      <th>category</th>\n",
       "      <th>scientific_name</th>\n",
       "      <th>common_names</th>\n",
       "      <th>conservation_status</th>\n",
       "    </tr>\n",
       "  </thead>\n",
       "  <tbody>\n",
       "    <tr>\n",
       "      <th>0</th>\n",
       "      <td>Mammal</td>\n",
       "      <td>Clethrionomys gapperi gapperi</td>\n",
       "      <td>Gapper's Red-Backed Vole</td>\n",
       "      <td>Not Endangered</td>\n",
       "    </tr>\n",
       "    <tr>\n",
       "      <th>1</th>\n",
       "      <td>Mammal</td>\n",
       "      <td>Bos bison</td>\n",
       "      <td>American Bison, Bison</td>\n",
       "      <td>Not Endangered</td>\n",
       "    </tr>\n",
       "    <tr>\n",
       "      <th>2</th>\n",
       "      <td>Mammal</td>\n",
       "      <td>Bos taurus</td>\n",
       "      <td>Aurochs, Aurochs, Domestic Cattle (Feral), Dom...</td>\n",
       "      <td>Not Endangered</td>\n",
       "    </tr>\n",
       "    <tr>\n",
       "      <th>3</th>\n",
       "      <td>Mammal</td>\n",
       "      <td>Ovis aries</td>\n",
       "      <td>Domestic Sheep, Mouflon, Red Sheep, Sheep (Feral)</td>\n",
       "      <td>Not Endangered</td>\n",
       "    </tr>\n",
       "    <tr>\n",
       "      <th>4</th>\n",
       "      <td>Mammal</td>\n",
       "      <td>Cervus elaphus</td>\n",
       "      <td>Wapiti Or Elk</td>\n",
       "      <td>Not Endangered</td>\n",
       "    </tr>\n",
       "  </tbody>\n",
       "</table>\n",
       "</div>"
      ],
      "text/plain": [
       "  category                scientific_name  \\\n",
       "0   Mammal  Clethrionomys gapperi gapperi   \n",
       "1   Mammal                      Bos bison   \n",
       "2   Mammal                     Bos taurus   \n",
       "3   Mammal                     Ovis aries   \n",
       "4   Mammal                 Cervus elaphus   \n",
       "\n",
       "                                        common_names conservation_status  \n",
       "0                           Gapper's Red-Backed Vole      Not Endangered  \n",
       "1                              American Bison, Bison      Not Endangered  \n",
       "2  Aurochs, Aurochs, Domestic Cattle (Feral), Dom...      Not Endangered  \n",
       "3  Domestic Sheep, Mouflon, Red Sheep, Sheep (Feral)      Not Endangered  \n",
       "4                                      Wapiti Or Elk      Not Endangered  "
      ]
     },
     "execution_count": 259,
     "metadata": {},
     "output_type": "execute_result"
    }
   ],
   "source": [
    "# filling data\n",
    "species['conservation_status'].fillna(value = 'Not Endangered', inplace = True)\n",
    "species.head()"
   ]
  },
  {
   "cell_type": "code",
   "execution_count": 260,
   "metadata": {},
   "outputs": [
    {
     "name": "stdout",
     "output_type": "stream",
     "text": [
      "              scientific_name                            park_name  obs_num\n",
      "513             Arctium minus               Yosemite National Park      162\n",
      "10674           Arctium minus               Yosemite National Park      162\n",
      "4527   Botrychium virginianum            Yellowstone National Park      232\n",
      "20294  Botrychium virginianum            Yellowstone National Park      232\n",
      "19392       Cichorium intybus            Yellowstone National Park      266\n",
      "14142       Cichorium intybus            Yellowstone National Park      266\n",
      "7263   Echinochloa crus-galli  Great Smoky Mountains National Park       62\n",
      "1454   Echinochloa crus-galli  Great Smoky Mountains National Park       62\n",
      "1020     Eleocharis palustris  Great Smoky Mountains National Park       62\n",
      "12381    Eleocharis palustris  Great Smoky Mountains National Park       62\n",
      "1032      Hesperis matronalis                  Bryce National Park      124\n",
      "13372     Hesperis matronalis                  Bryce National Park      124\n",
      "4178     Monotropa hypopithys  Great Smoky Mountains National Park       73\n",
      "20820    Monotropa hypopithys  Great Smoky Mountains National Park       73\n",
      "10038          Plantago major  Great Smoky Mountains National Park       90\n",
      "365            Plantago major  Great Smoky Mountains National Park       90\n",
      "18141           Poa compressa  Great Smoky Mountains National Park       80\n",
      "13097           Poa compressa  Great Smoky Mountains National Park       80\n",
      "17378    Potentilla norvegica               Yosemite National Park      148\n",
      "10809    Potentilla norvegica               Yosemite National Park      148\n",
      "7219        Prunella vulgaris  Great Smoky Mountains National Park       75\n",
      "16741       Prunella vulgaris  Great Smoky Mountains National Park       75\n",
      "19575            Salix exigua               Yosemite National Park      186\n",
      "22698            Salix exigua               Yosemite National Park      186\n",
      "17577      Spilogale putorius            Yellowstone National Park      256\n",
      "627        Spilogale putorius            Yellowstone National Park      256\n",
      "8710    Streptopelia decaocto            Yellowstone National Park      255\n",
      "1635    Streptopelia decaocto            Yellowstone National Park      255\n",
      "21151     Trifolium campestre            Yellowstone National Park      239\n",
      "18435     Trifolium campestre            Yellowstone National Park      239\n"
     ]
    }
   ],
   "source": [
    "# exploring duplications\n",
    "duplicates = observations[observations.duplicated(keep=False)].sort_values(by = ['scientific_name'])\n",
    "print(duplicates)"
   ]
  },
  {
   "cell_type": "code",
   "execution_count": 261,
   "metadata": {},
   "outputs": [
    {
     "name": "stdout",
     "output_type": "stream",
     "text": [
      "Empty DataFrame\n",
      "Columns: [scientific_name, park_name, obs_num]\n",
      "Index: []\n"
     ]
    }
   ],
   "source": [
    "# drop duplicates\n",
    "observations = observations.drop_duplicates()\n",
    "duplicates = observations[observations.duplicated(keep=False)]\n",
    "print(duplicates)"
   ]
  },
  {
   "cell_type": "code",
   "execution_count": 262,
   "metadata": {},
   "outputs": [
    {
     "data": {
      "text/html": [
       "<div>\n",
       "<style scoped>\n",
       "    .dataframe tbody tr th:only-of-type {\n",
       "        vertical-align: middle;\n",
       "    }\n",
       "\n",
       "    .dataframe tbody tr th {\n",
       "        vertical-align: top;\n",
       "    }\n",
       "\n",
       "    .dataframe thead th {\n",
       "        text-align: right;\n",
       "    }\n",
       "</style>\n",
       "<table border=\"1\" class=\"dataframe\">\n",
       "  <thead>\n",
       "    <tr style=\"text-align: right;\">\n",
       "      <th></th>\n",
       "      <th>scientific_name</th>\n",
       "      <th>park_name</th>\n",
       "      <th>obs_num</th>\n",
       "    </tr>\n",
       "  </thead>\n",
       "  <tbody>\n",
       "    <tr>\n",
       "      <th>0</th>\n",
       "      <td>Vicia benghalensis</td>\n",
       "      <td>Great Smoky Mountains</td>\n",
       "      <td>68</td>\n",
       "    </tr>\n",
       "    <tr>\n",
       "      <th>1</th>\n",
       "      <td>Neovison vison</td>\n",
       "      <td>Great Smoky Mountains</td>\n",
       "      <td>77</td>\n",
       "    </tr>\n",
       "    <tr>\n",
       "      <th>2</th>\n",
       "      <td>Prunus subcordata</td>\n",
       "      <td>Yosemite</td>\n",
       "      <td>138</td>\n",
       "    </tr>\n",
       "    <tr>\n",
       "      <th>3</th>\n",
       "      <td>Abutilon theophrasti</td>\n",
       "      <td>Bryce</td>\n",
       "      <td>84</td>\n",
       "    </tr>\n",
       "    <tr>\n",
       "      <th>4</th>\n",
       "      <td>Githopsis specularioides</td>\n",
       "      <td>Great Smoky Mountains</td>\n",
       "      <td>85</td>\n",
       "    </tr>\n",
       "  </tbody>\n",
       "</table>\n",
       "</div>"
      ],
      "text/plain": [
       "            scientific_name              park_name  obs_num\n",
       "0        Vicia benghalensis  Great Smoky Mountains       68\n",
       "1            Neovison vison  Great Smoky Mountains       77\n",
       "2         Prunus subcordata               Yosemite      138\n",
       "3      Abutilon theophrasti                  Bryce       84\n",
       "4  Githopsis specularioides  Great Smoky Mountains       85"
      ]
     },
     "execution_count": 262,
     "metadata": {},
     "output_type": "execute_result"
    }
   ],
   "source": [
    "# cut 'National Park' - observations\n",
    "observations['park_name']=observations['park_name'].str.strip(' National Park')\n",
    "observations.head()"
   ]
  },
  {
   "cell_type": "code",
   "execution_count": 263,
   "metadata": {},
   "outputs": [],
   "source": [
    "# changing conservation_status dtype (df species)\n",
    "# species['conservation_status']=pd.Categorical(species['conservation_status'], ['Not Endangered', 'Species of Concern', 'Threatened', 'Endangered', 'In Recovery'], ordered=True)"
   ]
  },
  {
   "cell_type": "code",
   "execution_count": 264,
   "metadata": {},
   "outputs": [],
   "source": [
    "# changing category dtype (df species)\n",
    "species['category']=pd.Categorical(species['category'], ['Mammal', 'Bird', 'Reptile', 'Amphibian', 'Fish', 'Vascular Plant',\n",
    "       'Nonvascular Plant'], ordered=True)"
   ]
  },
  {
   "cell_type": "markdown",
   "metadata": {},
   "source": [
    "### Purposes of Analysis ###"
   ]
  },
  {
   "cell_type": "markdown",
   "metadata": {},
   "source": [
    "#### Questions ####\n",
    "-  **are there any patterns or themes to the types of species that become endangered?**\n",
    "- relation of category and endangered status\n",
    "- relation of endangered status and park name"
   ]
  },
  {
   "cell_type": "markdown",
   "metadata": {},
   "source": [
    "At first, I have to analyze the data of dataframe species bcause there are basic informations about conservation status. It could be interesting to see the relation between categories and conservation status:\n",
    "- what are the proportions of categories to each other, which is the most representative category in this data,\n",
    "- how is the proportion of species in somehow endangered status to all species\n",
    "- how representative are the grades among conservation status\n",
    "- is there a connection between categories and being in somehow endangered"
   ]
  },
  {
   "cell_type": "markdown",
   "metadata": {},
   "source": [
    "#### Tasks ####\n",
    "- [x] create a df for species in somehow danger\n",
    "- [x] create a bar chart about the number each species in danger grouped by category\n",
    "- [ ] chi-square statistic for categories and conservation_status\n",
    "- [x] merge the 2 dfs\n",
    "- [x] create a chart about the number each species in danger grouped by park name"
   ]
  },
  {
   "cell_type": "markdown",
   "metadata": {},
   "source": [
    "### Analysing of Data Species ####"
   ]
  },
  {
   "cell_type": "markdown",
   "metadata": {},
   "source": [
    "#### Inspecting Conservation Status ####\n"
   ]
  },
  {
   "cell_type": "code",
   "execution_count": 265,
   "metadata": {},
   "outputs": [
    {
     "data": {
      "text/html": [
       "<div>\n",
       "<style scoped>\n",
       "    .dataframe tbody tr th:only-of-type {\n",
       "        vertical-align: middle;\n",
       "    }\n",
       "\n",
       "    .dataframe tbody tr th {\n",
       "        vertical-align: top;\n",
       "    }\n",
       "\n",
       "    .dataframe thead th {\n",
       "        text-align: right;\n",
       "    }\n",
       "</style>\n",
       "<table border=\"1\" class=\"dataframe\">\n",
       "  <thead>\n",
       "    <tr style=\"text-align: right;\">\n",
       "      <th></th>\n",
       "      <th>category</th>\n",
       "      <th>scientific_name</th>\n",
       "      <th>common_names</th>\n",
       "      <th>conservation_status</th>\n",
       "    </tr>\n",
       "  </thead>\n",
       "  <tbody>\n",
       "    <tr>\n",
       "      <th>7</th>\n",
       "      <td>Mammal</td>\n",
       "      <td>Canis latrans</td>\n",
       "      <td>Coyote</td>\n",
       "      <td>Species of Concern</td>\n",
       "    </tr>\n",
       "    <tr>\n",
       "      <th>8</th>\n",
       "      <td>Mammal</td>\n",
       "      <td>Canis lupus</td>\n",
       "      <td>Gray Wolf</td>\n",
       "      <td>Endangered</td>\n",
       "    </tr>\n",
       "    <tr>\n",
       "      <th>9</th>\n",
       "      <td>Mammal</td>\n",
       "      <td>Canis rufus</td>\n",
       "      <td>Red Wolf</td>\n",
       "      <td>Endangered</td>\n",
       "    </tr>\n",
       "    <tr>\n",
       "      <th>29</th>\n",
       "      <td>Mammal</td>\n",
       "      <td>Eptesicus fuscus</td>\n",
       "      <td>Big Brown Bat</td>\n",
       "      <td>Species of Concern</td>\n",
       "    </tr>\n",
       "    <tr>\n",
       "      <th>30</th>\n",
       "      <td>Mammal</td>\n",
       "      <td>Lasionycteris noctivagans</td>\n",
       "      <td>Silver-Haired Bat</td>\n",
       "      <td>Species of Concern</td>\n",
       "    </tr>\n",
       "  </tbody>\n",
       "</table>\n",
       "</div>"
      ],
      "text/plain": [
       "   category            scientific_name       common_names conservation_status\n",
       "7    Mammal              Canis latrans             Coyote  Species of Concern\n",
       "8    Mammal                Canis lupus          Gray Wolf          Endangered\n",
       "9    Mammal                Canis rufus           Red Wolf          Endangered\n",
       "29   Mammal           Eptesicus fuscus      Big Brown Bat  Species of Concern\n",
       "30   Mammal  Lasionycteris noctivagans  Silver-Haired Bat  Species of Concern"
      ]
     },
     "execution_count": 265,
     "metadata": {},
     "output_type": "execute_result"
    }
   ],
   "source": [
    "# create a df for species in somehow danger\n",
    "species_in_danger = species[species['conservation_status']!='Not Endangered']\n",
    "# species_in_danger.rename(columns={'index': 'original_index'}, inplace=True)\n",
    "species_in_danger.head()"
   ]
  },
  {
   "cell_type": "code",
   "execution_count": 266,
   "metadata": {},
   "outputs": [
    {
     "data": {
      "text/plain": [
       "Species of Concern    161\n",
       "Endangered             16\n",
       "Threatened             10\n",
       "In Recovery             4\n",
       "Name: conservation_status, dtype: int64"
      ]
     },
     "execution_count": 266,
     "metadata": {},
     "output_type": "execute_result"
    }
   ],
   "source": [
    "species_in_danger.conservation_status.value_counts()"
   ]
  },
  {
   "cell_type": "code",
   "execution_count": 267,
   "metadata": {},
   "outputs": [
    {
     "data": {
      "text/plain": [
       "191"
      ]
     },
     "execution_count": 267,
     "metadata": {},
     "output_type": "execute_result"
    }
   ],
   "source": [
    "len(species_in_danger.conservation_status)"
   ]
  },
  {
   "cell_type": "code",
   "execution_count": 268,
   "metadata": {},
   "outputs": [
    {
     "data": {
      "image/png": "[encoded data removed]",
      "text/plain": [
       "<Figure size 640x480 with 1 Axes>"
      ]
     },
     "metadata": {},
     "output_type": "display_data"
    },
    {
     "data": {
      "text/plain": [
       "<Figure size 640x480 with 0 Axes>"
      ]
     },
     "metadata": {},
     "output_type": "display_data"
    }
   ],
   "source": [
    "sns.countplot(x='conservation_status', data=species_in_danger)\n",
    "plt.xticks(rotation=30)\n",
    "plt.title('Conservation Status by Species in Danger')\n",
    "plt.xlabel('Conservation Status')\n",
    "plt.ylabel('Count of Species')\n",
    "plt.show()\n",
    "plt.clf()"
   ]
  },
  {
   "cell_type": "markdown",
   "metadata": {},
   "source": [
    "The most species of endangered status is by concerned grade, there are 161 species in this category of 191. This is 84 %!\n",
    "There are 16 species which are really \"endangered, it is only 8 % of all species in danger. 10 species are threatened and 4 in recovery, these grades have really small numbers.\n",
    "It seems to be  effective to concentrate the grades of \"speices of concern\" and \"endangered\"."
   ]
  },
  {
   "cell_type": "markdown",
   "metadata": {},
   "source": [
    "#### Inspecting Category ####"
   ]
  },
  {
   "cell_type": "code",
   "execution_count": 269,
   "metadata": {},
   "outputs": [
    {
     "data": {
      "image/png": "[encoded data removed]",
      "text/plain": [
       "<Figure size 1000x600 with 2 Axes>"
      ]
     },
     "metadata": {},
     "output_type": "display_data"
    },
    {
     "data": {
      "text/plain": [
       "<Figure size 640x480 with 0 Axes>"
      ]
     },
     "metadata": {},
     "output_type": "display_data"
    }
   ],
   "source": [
    "# category count all species vs species in danger \n",
    "plt.figure(figsize=(10,6))\n",
    "plt.subplot(1,2,1)\n",
    "sns.countplot(x='category', data=species)\n",
    "plt.xticks(rotation=30)\n",
    "plt.title('Category Count by All Species')\n",
    "plt.xlabel('Categories')\n",
    "\n",
    "plt.subplot(1,2,2)\n",
    "sns.countplot(x='category', data=species_in_danger)\n",
    "plt.xticks(rotation=30)\n",
    "plt.title('Count of Categories in Danger')\n",
    "plt.xlabel('Categories')\n",
    "\n",
    "plt.show()\n",
    "plt.clf()"
   ]
  },
  {
   "cell_type": "code",
   "execution_count": 270,
   "metadata": {},
   "outputs": [
    {
     "data": {
      "text/plain": [
       "Vascular Plant       4470\n",
       "Bird                  521\n",
       "Nonvascular Plant     333\n",
       "Mammal                214\n",
       "Fish                  127\n",
       "Amphibian              80\n",
       "Reptile                79\n",
       "Name: category, dtype: int64"
      ]
     },
     "execution_count": 270,
     "metadata": {},
     "output_type": "execute_result"
    }
   ],
   "source": [
    "species.category.value_counts()"
   ]
  },
  {
   "cell_type": "code",
   "execution_count": 271,
   "metadata": {},
   "outputs": [
    {
     "data": {
      "text/plain": [
       "Bird                 79\n",
       "Vascular Plant       46\n",
       "Mammal               38\n",
       "Fish                 11\n",
       "Amphibian             7\n",
       "Reptile               5\n",
       "Nonvascular Plant     5\n",
       "Name: category, dtype: int64"
      ]
     },
     "execution_count": 271,
     "metadata": {},
     "output_type": "execute_result"
    }
   ],
   "source": [
    "species_in_danger.category.value_counts()"
   ]
  },
  {
   "cell_type": "markdown",
   "metadata": {},
   "source": [
    "Among species in danger, the largest number belongs to the birds (79), followed by vascular plants (46) and mammal (38). In all data birds are on second place, vascular plants are the most represented category. Nonvascular plants are at the third position in all data, among endangered species, they have the least count.  \n",
    "The most representative categories are mammals, birds and vascular plants.\n",
    "If we look at the proportion of the grades of \"somehow in danger\", we can see, that in endangered status, the most are mammal (7 of 16, 44%) and birds (4 of 16, 25%). In status \"species of concern\" we can find 72 birds, 43 vascular plants and 28 mammals - the other values are much smaller.  \n",
    "Now, I want to investigate, how relate the percentage of species in danger to all species."
   ]
  },
  {
   "cell_type": "code",
   "execution_count": 272,
   "metadata": {},
   "outputs": [
    {
     "data": {
      "text/plain": [
       "['Mammal', 'Bird', 'Reptile', 'Amphibian', 'Fish', 'Vascular Plant', 'Nonvascular Plant']\n",
       "Categories (7, object): ['Mammal' < 'Bird' < 'Reptile' < 'Amphibian' < 'Fish' < 'Vascular Plant' < 'Nonvascular Plant']"
      ]
     },
     "execution_count": 272,
     "metadata": {},
     "output_type": "execute_result"
    }
   ],
   "source": [
    "species.category.unique()"
   ]
  },
  {
   "cell_type": "code",
   "execution_count": 273,
   "metadata": {},
   "outputs": [
    {
     "name": "stdout",
     "output_type": "stream",
     "text": [
      "            category  total_num  in_danger_num    percent\n",
      "0             Mammal        214             38  17.757009\n",
      "1               Bird        521             79  15.163148\n",
      "3          Amphibian         80              7   8.750000\n",
      "4               Fish        127             11   8.661417\n",
      "2            Reptile         79              5   6.329114\n",
      "6  Nonvascular Plant        333              5   1.501502\n",
      "5     Vascular Plant       4470             46   1.029083\n"
     ]
    }
   ],
   "source": [
    "# percent of species in danger in all data\n",
    "d = {'category': ['Mammal', 'Bird', 'Reptile', 'Amphibian', 'Fish', 'Vascular Plant',\n",
    "       'Nonvascular Plant'], \n",
    "     'total_num': [214, 521, 79, 80, 127, 4470, 333], \n",
    "     'in_danger_num':[38, 79, 5, 7, 11, 46, 5]}\n",
    "percent_in_danger = pd.DataFrame(data = d)\n",
    "percent_in_danger['percent']=percent_in_danger['in_danger_num']/percent_in_danger['total_num']*100\n",
    "print(percent_in_danger.sort_values('percent', ascending=False))\n"
   ]
  },
  {
   "cell_type": "code",
   "execution_count": 274,
   "metadata": {},
   "outputs": [
    {
     "data": {
      "text/plain": [
       "<Figure size 1000x1000 with 0 Axes>"
      ]
     },
     "metadata": {},
     "output_type": "display_data"
    },
    {
     "data": {
      "image/png": "[encoded data removed]",
      "text/plain": [
       "<Figure size 1000x500 with 1 Axes>"
      ]
     },
     "metadata": {},
     "output_type": "display_data"
    },
    {
     "data": {
      "text/plain": [
       "<Figure size 640x480 with 0 Axes>"
      ]
     },
     "metadata": {},
     "output_type": "display_data"
    }
   ],
   "source": [
    "# plotting percentage of endangered species by category\n",
    "plt.figure(figsize=(10, 10))\n",
    "sns.catplot(x = 'category', y = 'percent', \n",
    "            data = percent_in_danger, \n",
    "            kind = 'bar', \n",
    "            aspect =2,\n",
    "            order =percent_in_danger.sort_values('percent', ascending=False).category)\n",
    "\n",
    "plt.xticks(rotation=30)\n",
    "\n",
    "plt.title('Percent of Species in Danger by Category')\n",
    "plt.show()\n",
    "plt.clf()"
   ]
  },
  {
   "cell_type": "markdown",
   "metadata": {},
   "source": [
    "#### Relation between Category and Conservation Status ####"
   ]
  },
  {
   "cell_type": "code",
   "execution_count": 275,
   "metadata": {},
   "outputs": [
    {
     "data": {
      "text/html": [
       "<div>\n",
       "<style scoped>\n",
       "    .dataframe tbody tr th:only-of-type {\n",
       "        vertical-align: middle;\n",
       "    }\n",
       "\n",
       "    .dataframe tbody tr th {\n",
       "        vertical-align: top;\n",
       "    }\n",
       "\n",
       "    .dataframe thead th {\n",
       "        text-align: right;\n",
       "    }\n",
       "</style>\n",
       "<table border=\"1\" class=\"dataframe\">\n",
       "  <thead>\n",
       "    <tr style=\"text-align: right;\">\n",
       "      <th>category</th>\n",
       "      <th>Mammal</th>\n",
       "      <th>Bird</th>\n",
       "      <th>Reptile</th>\n",
       "      <th>Amphibian</th>\n",
       "      <th>Fish</th>\n",
       "      <th>Vascular Plant</th>\n",
       "      <th>Nonvascular Plant</th>\n",
       "    </tr>\n",
       "    <tr>\n",
       "      <th>conservation_status</th>\n",
       "      <th></th>\n",
       "      <th></th>\n",
       "      <th></th>\n",
       "      <th></th>\n",
       "      <th></th>\n",
       "      <th></th>\n",
       "      <th></th>\n",
       "    </tr>\n",
       "  </thead>\n",
       "  <tbody>\n",
       "    <tr>\n",
       "      <th>Endangered</th>\n",
       "      <td>7</td>\n",
       "      <td>4</td>\n",
       "      <td>0</td>\n",
       "      <td>1</td>\n",
       "      <td>3</td>\n",
       "      <td>1</td>\n",
       "      <td>0</td>\n",
       "    </tr>\n",
       "    <tr>\n",
       "      <th>In Recovery</th>\n",
       "      <td>1</td>\n",
       "      <td>3</td>\n",
       "      <td>0</td>\n",
       "      <td>0</td>\n",
       "      <td>0</td>\n",
       "      <td>0</td>\n",
       "      <td>0</td>\n",
       "    </tr>\n",
       "    <tr>\n",
       "      <th>Species of Concern</th>\n",
       "      <td>28</td>\n",
       "      <td>72</td>\n",
       "      <td>5</td>\n",
       "      <td>4</td>\n",
       "      <td>4</td>\n",
       "      <td>43</td>\n",
       "      <td>5</td>\n",
       "    </tr>\n",
       "    <tr>\n",
       "      <th>Threatened</th>\n",
       "      <td>2</td>\n",
       "      <td>0</td>\n",
       "      <td>0</td>\n",
       "      <td>2</td>\n",
       "      <td>4</td>\n",
       "      <td>2</td>\n",
       "      <td>0</td>\n",
       "    </tr>\n",
       "  </tbody>\n",
       "</table>\n",
       "</div>"
      ],
      "text/plain": [
       "category             Mammal  Bird  Reptile  Amphibian  Fish  Vascular Plant  \\\n",
       "conservation_status                                                           \n",
       "Endangered                7     4        0          1     3               1   \n",
       "In Recovery               1     3        0          0     0               0   \n",
       "Species of Concern       28    72        5          4     4              43   \n",
       "Threatened                2     0        0          2     4               2   \n",
       "\n",
       "category             Nonvascular Plant  \n",
       "conservation_status                     \n",
       "Endangered                           0  \n",
       "In Recovery                          0  \n",
       "Species of Concern                   5  \n",
       "Threatened                           0  "
      ]
     },
     "execution_count": 275,
     "metadata": {},
     "output_type": "execute_result"
    }
   ],
   "source": [
    "# conservation status and categories\n",
    "cat_conservation=species_in_danger.groupby(['category', 'conservation_status']).agg({'scientific_name': 'count'})\n",
    "cat_conservation_pivot = pd.pivot_table(\n",
    "data=cat_conservation,\n",
    "    values= 'scientific_name',\n",
    "index='conservation_status',\n",
    "columns='category',\n",
    "aggfunc='sum')\n",
    "cat_conservation_pivot"
   ]
  },
  {
   "cell_type": "markdown",
   "metadata": {},
   "source": [
    "If we inspect the percentage of species in danger to all species by category, we see that mammals have the largest percent (17.75%), followed by birds (15.16%). The third and 4th positioned categories (amphibians' and fishes) have about 9 % endangered species. Only 1 % of vascular plants is in danger. \n",
    "From that we can say, that maybe mammals and birds are the most endangered categories. However, most of them are \"species of concern\" (72 birds, 28 mammals). Really endangered are 7 mammals and 4 birds of 16 endangered species.  \n",
    "I want to investigate the relation of the two variables category and conservaton status wit chi-square test.\n",
    "From variable conservation status I want to test the values \"in danger' and \"not in danger\", from category \"mammal\" and \"bird\", principally."
   ]
  },
  {
   "cell_type": "markdown",
   "metadata": {},
   "source": [
    "##### Chi-square Tests #####"
   ]
  },
  {
   "cell_type": "code",
   "execution_count": 276,
   "metadata": {},
   "outputs": [
    {
     "data": {
      "text/html": [
       "<div>\n",
       "<style scoped>\n",
       "    .dataframe tbody tr th:only-of-type {\n",
       "        vertical-align: middle;\n",
       "    }\n",
       "\n",
       "    .dataframe tbody tr th {\n",
       "        vertical-align: top;\n",
       "    }\n",
       "\n",
       "    .dataframe thead th {\n",
       "        text-align: right;\n",
       "    }\n",
       "</style>\n",
       "<table border=\"1\" class=\"dataframe\">\n",
       "  <thead>\n",
       "    <tr style=\"text-align: right;\">\n",
       "      <th></th>\n",
       "      <th>category</th>\n",
       "      <th>scientific_name</th>\n",
       "      <th>common_names</th>\n",
       "      <th>conservation_status</th>\n",
       "      <th>in_danger</th>\n",
       "    </tr>\n",
       "  </thead>\n",
       "  <tbody>\n",
       "    <tr>\n",
       "      <th>0</th>\n",
       "      <td>Mammal</td>\n",
       "      <td>Clethrionomys gapperi gapperi</td>\n",
       "      <td>Gapper's Red-Backed Vole</td>\n",
       "      <td>Not Endangered</td>\n",
       "      <td>False</td>\n",
       "    </tr>\n",
       "    <tr>\n",
       "      <th>1</th>\n",
       "      <td>Mammal</td>\n",
       "      <td>Bos bison</td>\n",
       "      <td>American Bison, Bison</td>\n",
       "      <td>Not Endangered</td>\n",
       "      <td>False</td>\n",
       "    </tr>\n",
       "    <tr>\n",
       "      <th>2</th>\n",
       "      <td>Mammal</td>\n",
       "      <td>Bos taurus</td>\n",
       "      <td>Aurochs, Aurochs, Domestic Cattle (Feral), Dom...</td>\n",
       "      <td>Not Endangered</td>\n",
       "      <td>False</td>\n",
       "    </tr>\n",
       "    <tr>\n",
       "      <th>3</th>\n",
       "      <td>Mammal</td>\n",
       "      <td>Ovis aries</td>\n",
       "      <td>Domestic Sheep, Mouflon, Red Sheep, Sheep (Feral)</td>\n",
       "      <td>Not Endangered</td>\n",
       "      <td>False</td>\n",
       "    </tr>\n",
       "    <tr>\n",
       "      <th>4</th>\n",
       "      <td>Mammal</td>\n",
       "      <td>Cervus elaphus</td>\n",
       "      <td>Wapiti Or Elk</td>\n",
       "      <td>Not Endangered</td>\n",
       "      <td>False</td>\n",
       "    </tr>\n",
       "    <tr>\n",
       "      <th>5</th>\n",
       "      <td>Mammal</td>\n",
       "      <td>Odocoileus virginianus</td>\n",
       "      <td>White-Tailed Deer</td>\n",
       "      <td>Not Endangered</td>\n",
       "      <td>False</td>\n",
       "    </tr>\n",
       "    <tr>\n",
       "      <th>6</th>\n",
       "      <td>Mammal</td>\n",
       "      <td>Sus scrofa</td>\n",
       "      <td>Feral Hog, Wild Pig</td>\n",
       "      <td>Not Endangered</td>\n",
       "      <td>False</td>\n",
       "    </tr>\n",
       "    <tr>\n",
       "      <th>7</th>\n",
       "      <td>Mammal</td>\n",
       "      <td>Canis latrans</td>\n",
       "      <td>Coyote</td>\n",
       "      <td>Species of Concern</td>\n",
       "      <td>True</td>\n",
       "    </tr>\n",
       "    <tr>\n",
       "      <th>8</th>\n",
       "      <td>Mammal</td>\n",
       "      <td>Canis lupus</td>\n",
       "      <td>Gray Wolf</td>\n",
       "      <td>Endangered</td>\n",
       "      <td>True</td>\n",
       "    </tr>\n",
       "    <tr>\n",
       "      <th>9</th>\n",
       "      <td>Mammal</td>\n",
       "      <td>Canis rufus</td>\n",
       "      <td>Red Wolf</td>\n",
       "      <td>Endangered</td>\n",
       "      <td>True</td>\n",
       "    </tr>\n",
       "  </tbody>\n",
       "</table>\n",
       "</div>"
      ],
      "text/plain": [
       "  category                scientific_name  \\\n",
       "0   Mammal  Clethrionomys gapperi gapperi   \n",
       "1   Mammal                      Bos bison   \n",
       "2   Mammal                     Bos taurus   \n",
       "3   Mammal                     Ovis aries   \n",
       "4   Mammal                 Cervus elaphus   \n",
       "5   Mammal         Odocoileus virginianus   \n",
       "6   Mammal                     Sus scrofa   \n",
       "7   Mammal                  Canis latrans   \n",
       "8   Mammal                    Canis lupus   \n",
       "9   Mammal                    Canis rufus   \n",
       "\n",
       "                                        common_names conservation_status  \\\n",
       "0                           Gapper's Red-Backed Vole      Not Endangered   \n",
       "1                              American Bison, Bison      Not Endangered   \n",
       "2  Aurochs, Aurochs, Domestic Cattle (Feral), Dom...      Not Endangered   \n",
       "3  Domestic Sheep, Mouflon, Red Sheep, Sheep (Feral)      Not Endangered   \n",
       "4                                      Wapiti Or Elk      Not Endangered   \n",
       "5                                  White-Tailed Deer      Not Endangered   \n",
       "6                                Feral Hog, Wild Pig      Not Endangered   \n",
       "7                                             Coyote  Species of Concern   \n",
       "8                                          Gray Wolf          Endangered   \n",
       "9                                           Red Wolf          Endangered   \n",
       "\n",
       "   in_danger  \n",
       "0      False  \n",
       "1      False  \n",
       "2      False  \n",
       "3      False  \n",
       "4      False  \n",
       "5      False  \n",
       "6      False  \n",
       "7       True  \n",
       "8       True  \n",
       "9       True  "
      ]
     },
     "execution_count": 276,
     "metadata": {},
     "output_type": "execute_result"
    }
   ],
   "source": [
    "# create bool column: in_danger (True if the animal/plant is somehow in danger)\n",
    "species['in_danger']=species.conservation_status.apply(lambda x: False if x == 'Not Endangered' else True)\n",
    "species.head(10)"
   ]
  },
  {
   "cell_type": "code",
   "execution_count": 277,
   "metadata": {},
   "outputs": [
    {
     "data": {
      "text/html": [
       "<div>\n",
       "<style scoped>\n",
       "    .dataframe tbody tr th:only-of-type {\n",
       "        vertical-align: middle;\n",
       "    }\n",
       "\n",
       "    .dataframe tbody tr th {\n",
       "        vertical-align: top;\n",
       "    }\n",
       "\n",
       "    .dataframe thead th {\n",
       "        text-align: right;\n",
       "    }\n",
       "</style>\n",
       "<table border=\"1\" class=\"dataframe\">\n",
       "  <thead>\n",
       "    <tr style=\"text-align: right;\">\n",
       "      <th>in_danger</th>\n",
       "      <th>False</th>\n",
       "      <th>True</th>\n",
       "    </tr>\n",
       "    <tr>\n",
       "      <th>category</th>\n",
       "      <th></th>\n",
       "      <th></th>\n",
       "    </tr>\n",
       "  </thead>\n",
       "  <tbody>\n",
       "    <tr>\n",
       "      <th>Mammal</th>\n",
       "      <td>176</td>\n",
       "      <td>38</td>\n",
       "    </tr>\n",
       "    <tr>\n",
       "      <th>Bird</th>\n",
       "      <td>442</td>\n",
       "      <td>79</td>\n",
       "    </tr>\n",
       "    <tr>\n",
       "      <th>Reptile</th>\n",
       "      <td>74</td>\n",
       "      <td>5</td>\n",
       "    </tr>\n",
       "    <tr>\n",
       "      <th>Amphibian</th>\n",
       "      <td>73</td>\n",
       "      <td>7</td>\n",
       "    </tr>\n",
       "    <tr>\n",
       "      <th>Fish</th>\n",
       "      <td>116</td>\n",
       "      <td>11</td>\n",
       "    </tr>\n",
       "    <tr>\n",
       "      <th>Vascular Plant</th>\n",
       "      <td>4424</td>\n",
       "      <td>46</td>\n",
       "    </tr>\n",
       "    <tr>\n",
       "      <th>Nonvascular Plant</th>\n",
       "      <td>328</td>\n",
       "      <td>5</td>\n",
       "    </tr>\n",
       "  </tbody>\n",
       "</table>\n",
       "</div>"
      ],
      "text/plain": [
       "in_danger          False  True\n",
       "category                      \n",
       "Mammal               176    38\n",
       "Bird                 442    79\n",
       "Reptile               74     5\n",
       "Amphibian             73     7\n",
       "Fish                 116    11\n",
       "Vascular Plant      4424    46\n",
       "Nonvascular Plant    328     5"
      ]
     },
     "execution_count": 277,
     "metadata": {},
     "output_type": "execute_result"
    }
   ],
   "source": [
    "# contingency tables: categories- in_danger in species\n",
    "categories_in_danger_freq= pd.crosstab(species.category, species.in_danger)\n",
    "categories_in_danger_freq"
   ]
  },
  {
   "cell_type": "code",
   "execution_count": 278,
   "metadata": {},
   "outputs": [
    {
     "data": {
      "text/html": [
       "<div>\n",
       "<style scoped>\n",
       "    .dataframe tbody tr th:only-of-type {\n",
       "        vertical-align: middle;\n",
       "    }\n",
       "\n",
       "    .dataframe tbody tr th {\n",
       "        vertical-align: top;\n",
       "    }\n",
       "\n",
       "    .dataframe thead th {\n",
       "        text-align: right;\n",
       "    }\n",
       "</style>\n",
       "<table border=\"1\" class=\"dataframe\">\n",
       "  <thead>\n",
       "    <tr style=\"text-align: right;\">\n",
       "      <th>in_danger</th>\n",
       "      <th>False</th>\n",
       "      <th>True</th>\n",
       "    </tr>\n",
       "    <tr>\n",
       "      <th>category</th>\n",
       "      <th></th>\n",
       "      <th></th>\n",
       "    </tr>\n",
       "  </thead>\n",
       "  <tbody>\n",
       "    <tr>\n",
       "      <th>Mammal</th>\n",
       "      <td>3.021978</td>\n",
       "      <td>0.652473</td>\n",
       "    </tr>\n",
       "    <tr>\n",
       "      <th>Bird</th>\n",
       "      <td>7.589286</td>\n",
       "      <td>1.356456</td>\n",
       "    </tr>\n",
       "    <tr>\n",
       "      <th>Reptile</th>\n",
       "      <td>1.270604</td>\n",
       "      <td>0.085852</td>\n",
       "    </tr>\n",
       "    <tr>\n",
       "      <th>Amphibian</th>\n",
       "      <td>1.253434</td>\n",
       "      <td>0.120192</td>\n",
       "    </tr>\n",
       "    <tr>\n",
       "      <th>Fish</th>\n",
       "      <td>1.991758</td>\n",
       "      <td>0.188874</td>\n",
       "    </tr>\n",
       "    <tr>\n",
       "      <th>Vascular Plant</th>\n",
       "      <td>75.961538</td>\n",
       "      <td>0.789835</td>\n",
       "    </tr>\n",
       "    <tr>\n",
       "      <th>Nonvascular Plant</th>\n",
       "      <td>5.631868</td>\n",
       "      <td>0.085852</td>\n",
       "    </tr>\n",
       "  </tbody>\n",
       "</table>\n",
       "</div>"
      ],
      "text/plain": [
       "in_danger              False      True\n",
       "category                              \n",
       "Mammal              3.021978  0.652473\n",
       "Bird                7.589286  1.356456\n",
       "Reptile             1.270604  0.085852\n",
       "Amphibian           1.253434  0.120192\n",
       "Fish                1.991758  0.188874\n",
       "Vascular Plant     75.961538  0.789835\n",
       "Nonvascular Plant   5.631868  0.085852"
      ]
     },
     "execution_count": 278,
     "metadata": {},
     "output_type": "execute_result"
    }
   ],
   "source": [
    "#proportions\n",
    "categories_in_danger_prop = categories_in_danger_freq/len(species)*100\n",
    "categories_in_danger_prop"
   ]
  },
  {
   "cell_type": "code",
   "execution_count": 279,
   "metadata": {},
   "outputs": [
    {
     "data": {
      "text/plain": [
       "in_danger\n",
       "False    96.720467\n",
       "True      3.279533\n",
       "dtype: float64"
      ]
     },
     "execution_count": 279,
     "metadata": {},
     "output_type": "execute_result"
    }
   ],
   "source": [
    "# marginals - in_danger\n",
    "in_danger_marginals=categories_in_danger_prop.sum(axis=0)\n",
    "in_danger_marginals"
   ]
  },
  {
   "cell_type": "markdown",
   "metadata": {},
   "source": [
    "From the propotional contingency table we can see, that from all species, there are 3 % species in danger, 97 % not.  1% of all species are birds in danger, and 0.65% are mammals in danger."
   ]
  },
  {
   "cell_type": "code",
   "execution_count": 280,
   "metadata": {},
   "outputs": [
    {
     "name": "stdout",
     "output_type": "stream",
     "text": [
      "expected contingency table:\n",
      "[[2.06981799e+02 7.01820055e+00]\n",
      " [5.03913633e+02 1.70863668e+01]\n",
      " [7.64091690e+01 2.59083104e+00]\n",
      " [7.73763736e+01 2.62362637e+00]\n",
      " [1.22834993e+02 4.16500687e+00]\n",
      " [4.32340488e+03 1.46595124e+02]\n",
      " [3.22079155e+02 1.09208448e+01]]\n",
      "chi2 = 469.5114395774195\n",
      "p-value = 3.095911909904608e-98\n"
     ]
    }
   ],
   "source": [
    "# chi2 contingency for all category\n",
    "from scipy.stats import chi2_contingency\n",
    "chi2, pval, dof, expected = chi2_contingency(categories_in_danger_freq)\n",
    "print('expected contingency table:')\n",
    "print(expected)\n",
    "print(f'chi2 = {chi2}')\n",
    "print(f'p-value = {pval}')"
   ]
  },
  {
   "cell_type": "code",
   "execution_count": 281,
   "metadata": {},
   "outputs": [
    {
     "data": {
      "text/html": [
       "<div>\n",
       "<style scoped>\n",
       "    .dataframe tbody tr th:only-of-type {\n",
       "        vertical-align: middle;\n",
       "    }\n",
       "\n",
       "    .dataframe tbody tr th {\n",
       "        vertical-align: top;\n",
       "    }\n",
       "\n",
       "    .dataframe thead th {\n",
       "        text-align: right;\n",
       "    }\n",
       "</style>\n",
       "<table border=\"1\" class=\"dataframe\">\n",
       "  <thead>\n",
       "    <tr style=\"text-align: right;\">\n",
       "      <th></th>\n",
       "      <th>category</th>\n",
       "      <th>observed_false</th>\n",
       "      <th>observed_true</th>\n",
       "      <th>expected_false</th>\n",
       "      <th>expected_true</th>\n",
       "      <th>difference</th>\n",
       "    </tr>\n",
       "  </thead>\n",
       "  <tbody>\n",
       "    <tr>\n",
       "      <th>0</th>\n",
       "      <td>Mammal</td>\n",
       "      <td>176</td>\n",
       "      <td>38</td>\n",
       "      <td>206.981799</td>\n",
       "      <td>7.018201</td>\n",
       "      <td>30.981799</td>\n",
       "    </tr>\n",
       "    <tr>\n",
       "      <th>1</th>\n",
       "      <td>Bird</td>\n",
       "      <td>442</td>\n",
       "      <td>79</td>\n",
       "      <td>503.913633</td>\n",
       "      <td>17.086367</td>\n",
       "      <td>61.913633</td>\n",
       "    </tr>\n",
       "    <tr>\n",
       "      <th>2</th>\n",
       "      <td>Reptile</td>\n",
       "      <td>74</td>\n",
       "      <td>5</td>\n",
       "      <td>76.409169</td>\n",
       "      <td>2.590831</td>\n",
       "      <td>2.409169</td>\n",
       "    </tr>\n",
       "    <tr>\n",
       "      <th>3</th>\n",
       "      <td>Amphibian</td>\n",
       "      <td>73</td>\n",
       "      <td>7</td>\n",
       "      <td>77.376374</td>\n",
       "      <td>2.623626</td>\n",
       "      <td>4.376374</td>\n",
       "    </tr>\n",
       "    <tr>\n",
       "      <th>4</th>\n",
       "      <td>Fish</td>\n",
       "      <td>116</td>\n",
       "      <td>11</td>\n",
       "      <td>122.834993</td>\n",
       "      <td>4.165007</td>\n",
       "      <td>6.834993</td>\n",
       "    </tr>\n",
       "    <tr>\n",
       "      <th>5</th>\n",
       "      <td>Vascular Plant</td>\n",
       "      <td>4424</td>\n",
       "      <td>46</td>\n",
       "      <td>4323.404876</td>\n",
       "      <td>146.595124</td>\n",
       "      <td>-100.595124</td>\n",
       "    </tr>\n",
       "    <tr>\n",
       "      <th>6</th>\n",
       "      <td>Nonvascular Plant</td>\n",
       "      <td>328</td>\n",
       "      <td>5</td>\n",
       "      <td>322.079155</td>\n",
       "      <td>10.920845</td>\n",
       "      <td>-5.920845</td>\n",
       "    </tr>\n",
       "  </tbody>\n",
       "</table>\n",
       "</div>"
      ],
      "text/plain": [
       "            category  observed_false  observed_true  expected_false  \\\n",
       "0             Mammal             176             38      206.981799   \n",
       "1               Bird             442             79      503.913633   \n",
       "2            Reptile              74              5       76.409169   \n",
       "3          Amphibian              73              7       77.376374   \n",
       "4               Fish             116             11      122.834993   \n",
       "5     Vascular Plant            4424             46     4323.404876   \n",
       "6  Nonvascular Plant             328              5      322.079155   \n",
       "\n",
       "   expected_true  difference  \n",
       "0       7.018201   30.981799  \n",
       "1      17.086367   61.913633  \n",
       "2       2.590831    2.409169  \n",
       "3       2.623626    4.376374  \n",
       "4       4.165007    6.834993  \n",
       "5     146.595124 -100.595124  \n",
       "6      10.920845   -5.920845  "
      ]
     },
     "execution_count": 281,
     "metadata": {},
     "output_type": "execute_result"
    }
   ],
   "source": [
    "# comparing expected and observed values\n",
    "# creating df for expected values\n",
    "category=['Mammal', 'Bird', 'Reptile', 'Amphibian', 'Fish', 'Vascular Plant',\n",
    "       'Nonvascular Plant']\n",
    "\n",
    "expected_values=pd.DataFrame(expected, columns=['expected_false', 'expected_true'])\n",
    "expected_values.insert(loc=0, column='category', value=category)\n",
    "\n",
    "# creating df for observed values\n",
    "# categories_in_danger_freq = pd.DataFrame(data=categories_in_danger_freq, \n",
    "#                                          columns=['observed_false', 'observed_true'])\n",
    "# categories_in_danger_freq.insert(loc=0, column='category', value=category)\n",
    "\n",
    "# merge dfs\n",
    "# observed_expected=pd.merge(\n",
    "#     left=categories_in_danger_freq, \n",
    "#     right=expected_values,\n",
    "#     how='inner'\n",
    "# )\n",
    "# difference between observed and expected values\n",
    "observed_expected['difference']=observed_expected['expected_false']-observed_expected['observed_false']\n",
    "observed_expected"
   ]
  },
  {
   "cell_type": "markdown",
   "metadata": {},
   "source": [
    "From the table above can be seen the observed values, the expected values which was calculated with the chi2_contingency method, and the differences between the observed and expected values. The largest difference can be observed by vascular plants, this can be caused by the low proportion of being in danger of vascular plants. The second and third largest differences are by birds(around 62) and mammals (around 31). The smallest difference is by category reptile (2.4).  \n",
    "As next step, I will test mammal vs bird, mammal vs reptile and bird vs reptile to see whether I can see some association between the values. The significant treshold for the p-value is 0.05, for the chi2-value 4. "
   ]
  },
  {
   "cell_type": "markdown",
   "metadata": {},
   "source": [
    "##### Mammal vs Birds #####"
   ]
  },
  {
   "cell_type": "code",
   "execution_count": 282,
   "metadata": {
    "scrolled": false
   },
   "outputs": [
    {
     "name": "stdout",
     "output_type": "stream",
     "text": [
      "expected contingency table:\n",
      "[[179.93469388  34.06530612]\n",
      " [438.06530612  82.93469388]]\n",
      "chi2 = 0.5810483277947567\n",
      "p-value = 0.445901703047197\n"
     ]
    }
   ],
   "source": [
    "# contingency table mammal_bird\n",
    "contingency_mammal_bird=[[176, 38], [442, 79]]\n",
    "chi2, pval, dof, expected = chi2_contingency(contingency_mammal_bird)\n",
    "print('expected contingency table:')\n",
    "print(expected)\n",
    "print(f'chi2 = {chi2}')\n",
    "print(f'p-value = {pval}')"
   ]
  },
  {
   "cell_type": "markdown",
   "metadata": {},
   "source": [
    "The p-value is 0.44 which is larger than the genereal significance treshold 0.05, so there does not seem to be a relation between birds and mammals being in danger. The chi-square value with 0.58 is also smaller than the in general expected value for 2x2 tables (around 4)."
   ]
  },
  {
   "cell_type": "markdown",
   "metadata": {},
   "source": [
    "##### Mammal vs Reptile #####"
   ]
  },
  {
   "cell_type": "code",
   "execution_count": 283,
   "metadata": {},
   "outputs": [
    {
     "name": "stdout",
     "output_type": "stream",
     "text": [
      "expected contingency table:\n",
      "[[182.59385666  31.40614334]\n",
      " [ 67.40614334  11.59385666]]\n",
      "chi2 = 5.139702724228909\n",
      "p-value = 0.02338465214871547\n"
     ]
    }
   ],
   "source": [
    "# contingency table mammal_reptile\n",
    "contingency_mammal_reptile=[[176, 38], [74, 5]]\n",
    "chi2, pval, dof, expected = chi2_contingency(contingency_mammal_reptile)\n",
    "print('expected contingency table:')\n",
    "print(expected)\n",
    "print(f'chi2 = {chi2}')\n",
    "print(f'p-value = {pval}')"
   ]
  },
  {
   "cell_type": "markdown",
   "metadata": {},
   "source": [
    "The p-value is 0.02 which is smaller than the genereal significance treshold 0.05, the chi-square value with 5.13 is also greater than the in general expected value for 2x2 tables (around 4). It seems to be a relation between mammal and reptile being in danger: mammal have significant greater probability of being in danger than reptile. "
   ]
  },
  {
   "cell_type": "markdown",
   "metadata": {},
   "source": [
    "##### Birds vs Reptile #####"
   ]
  },
  {
   "cell_type": "code",
   "execution_count": 284,
   "metadata": {},
   "outputs": [
    {
     "name": "stdout",
     "output_type": "stream",
     "text": [
      "expected contingency table:\n",
      "[[448.06  72.94]\n",
      " [ 67.94  11.06]]\n",
      "chi2 = 3.742911272135716\n",
      "p-value = 0.053031969869125097\n"
     ]
    }
   ],
   "source": [
    "# contingency table bird_reptile\n",
    "contingency_bird_reptile=[[442, 79], [74, 5]]\n",
    "chi2, pval, dof, expected = chi2_contingency(contingency_bird_reptile)\n",
    "print('expected contingency table:')\n",
    "print(expected)\n",
    "print(f'chi2 = {chi2}')\n",
    "print(f'p-value = {pval}')"
   ]
  },
  {
   "cell_type": "markdown",
   "metadata": {},
   "source": [
    "The p-value is in this case 0.053 which is the significance treshold. The chi2-value is 3.74 which is a little bit smaller than 4. The relation between birds and reptile being in danger is maybe significant, but the relation is weak."
   ]
  },
  {
   "cell_type": "markdown",
   "metadata": {},
   "source": [
    "### Inspecting All Data ###"
   ]
  },
  {
   "cell_type": "markdown",
   "metadata": {},
   "source": [
    "In the next section I would like to inspect in wichich national park more endangered species occure. At first, I need to merge both datasets, than clean the merged dataset if needed."
   ]
  },
  {
   "cell_type": "code",
   "execution_count": 285,
   "metadata": {},
   "outputs": [
    {
     "data": {
      "text/html": [
       "<div>\n",
       "<style scoped>\n",
       "    .dataframe tbody tr th:only-of-type {\n",
       "        vertical-align: middle;\n",
       "    }\n",
       "\n",
       "    .dataframe tbody tr th {\n",
       "        vertical-align: top;\n",
       "    }\n",
       "\n",
       "    .dataframe thead th {\n",
       "        text-align: right;\n",
       "    }\n",
       "</style>\n",
       "<table border=\"1\" class=\"dataframe\">\n",
       "  <thead>\n",
       "    <tr style=\"text-align: right;\">\n",
       "      <th></th>\n",
       "      <th>category</th>\n",
       "      <th>scientific_name</th>\n",
       "      <th>common_names</th>\n",
       "      <th>conservation_status</th>\n",
       "      <th>in_danger</th>\n",
       "      <th>park_name</th>\n",
       "      <th>obs_num</th>\n",
       "    </tr>\n",
       "  </thead>\n",
       "  <tbody>\n",
       "    <tr>\n",
       "      <th>0</th>\n",
       "      <td>Mammal</td>\n",
       "      <td>Clethrionomys gapperi gapperi</td>\n",
       "      <td>Gapper's Red-Backed Vole</td>\n",
       "      <td>Not Endangered</td>\n",
       "      <td>False</td>\n",
       "      <td>Bryce</td>\n",
       "      <td>130</td>\n",
       "    </tr>\n",
       "    <tr>\n",
       "      <th>1</th>\n",
       "      <td>Mammal</td>\n",
       "      <td>Clethrionomys gapperi gapperi</td>\n",
       "      <td>Gapper's Red-Backed Vole</td>\n",
       "      <td>Not Endangered</td>\n",
       "      <td>False</td>\n",
       "      <td>Yellowstone</td>\n",
       "      <td>270</td>\n",
       "    </tr>\n",
       "    <tr>\n",
       "      <th>2</th>\n",
       "      <td>Mammal</td>\n",
       "      <td>Clethrionomys gapperi gapperi</td>\n",
       "      <td>Gapper's Red-Backed Vole</td>\n",
       "      <td>Not Endangered</td>\n",
       "      <td>False</td>\n",
       "      <td>Great Smoky Mountains</td>\n",
       "      <td>98</td>\n",
       "    </tr>\n",
       "    <tr>\n",
       "      <th>3</th>\n",
       "      <td>Mammal</td>\n",
       "      <td>Clethrionomys gapperi gapperi</td>\n",
       "      <td>Gapper's Red-Backed Vole</td>\n",
       "      <td>Not Endangered</td>\n",
       "      <td>False</td>\n",
       "      <td>Yosemite</td>\n",
       "      <td>117</td>\n",
       "    </tr>\n",
       "    <tr>\n",
       "      <th>4</th>\n",
       "      <td>Mammal</td>\n",
       "      <td>Bos bison</td>\n",
       "      <td>American Bison, Bison</td>\n",
       "      <td>Not Endangered</td>\n",
       "      <td>False</td>\n",
       "      <td>Yosemite</td>\n",
       "      <td>128</td>\n",
       "    </tr>\n",
       "  </tbody>\n",
       "</table>\n",
       "</div>"
      ],
      "text/plain": [
       "  category                scientific_name              common_names  \\\n",
       "0   Mammal  Clethrionomys gapperi gapperi  Gapper's Red-Backed Vole   \n",
       "1   Mammal  Clethrionomys gapperi gapperi  Gapper's Red-Backed Vole   \n",
       "2   Mammal  Clethrionomys gapperi gapperi  Gapper's Red-Backed Vole   \n",
       "3   Mammal  Clethrionomys gapperi gapperi  Gapper's Red-Backed Vole   \n",
       "4   Mammal                      Bos bison     American Bison, Bison   \n",
       "\n",
       "  conservation_status  in_danger              park_name  obs_num  \n",
       "0      Not Endangered      False                  Bryce      130  \n",
       "1      Not Endangered      False            Yellowstone      270  \n",
       "2      Not Endangered      False  Great Smoky Mountains       98  \n",
       "3      Not Endangered      False               Yosemite      117  \n",
       "4      Not Endangered      False               Yosemite      128  "
      ]
     },
     "execution_count": 285,
     "metadata": {},
     "output_type": "execute_result"
    }
   ],
   "source": [
    "# outer merge species and observations\n",
    "all_data = pd.merge(left=species, right=observations, left_on='scientific_name', right_on='scientific_name', how='outer')\n",
    "all_data.head()\n"
   ]
  },
  {
   "cell_type": "code",
   "execution_count": 286,
   "metadata": {},
   "outputs": [
    {
     "name": "stdout",
     "output_type": "stream",
     "text": [
      "<class 'pandas.core.frame.DataFrame'>\n",
      "Int64Index: 25601 entries, 0 to 25600\n",
      "Data columns (total 7 columns):\n",
      " #   Column               Non-Null Count  Dtype   \n",
      "---  ------               --------------  -----   \n",
      " 0   category             25601 non-null  category\n",
      " 1   scientific_name      25601 non-null  object  \n",
      " 2   common_names         25601 non-null  object  \n",
      " 3   conservation_status  25601 non-null  object  \n",
      " 4   in_danger            25601 non-null  bool    \n",
      " 5   park_name            25601 non-null  object  \n",
      " 6   obs_num              25601 non-null  int64   \n",
      "dtypes: bool(1), category(1), int64(1), object(4)\n",
      "memory usage: 1.2+ MB\n"
     ]
    }
   ],
   "source": [
    "all_data.info()"
   ]
  },
  {
   "cell_type": "code",
   "execution_count": 287,
   "metadata": {},
   "outputs": [
    {
     "data": {
      "text/plain": [
       "category  scientific_name  common_names  conservation_status  in_danger  park_name  obs_num\n",
       "False     False            False         False                False      False      False      25601\n",
       "dtype: int64"
      ]
     },
     "execution_count": 287,
     "metadata": {},
     "output_type": "execute_result"
    }
   ],
   "source": [
    "all_data.isna().value_counts()"
   ]
  },
  {
   "cell_type": "code",
   "execution_count": 288,
   "metadata": {},
   "outputs": [
    {
     "data": {
      "text/plain": [
       "category  scientific_name  common_names  conservation_status  in_danger  park_name  obs_num\n",
       "False     False            False         False                False      False      False      25601\n",
       "dtype: int64"
      ]
     },
     "execution_count": 288,
     "metadata": {},
     "output_type": "execute_result"
    }
   ],
   "source": [
    "all_data.isnull().value_counts()"
   ]
  },
  {
   "cell_type": "code",
   "execution_count": 289,
   "metadata": {},
   "outputs": [
    {
     "data": {
      "text/plain": [
       "False    25601\n",
       "dtype: int64"
      ]
     },
     "execution_count": 289,
     "metadata": {},
     "output_type": "execute_result"
    }
   ],
   "source": [
    "all_data.duplicated().value_counts()"
   ]
  },
  {
   "cell_type": "code",
   "execution_count": 290,
   "metadata": {},
   "outputs": [
    {
     "data": {
      "text/html": [
       "<div>\n",
       "<style scoped>\n",
       "    .dataframe tbody tr th:only-of-type {\n",
       "        vertical-align: middle;\n",
       "    }\n",
       "\n",
       "    .dataframe tbody tr th {\n",
       "        vertical-align: top;\n",
       "    }\n",
       "\n",
       "    .dataframe thead th {\n",
       "        text-align: right;\n",
       "    }\n",
       "</style>\n",
       "<table border=\"1\" class=\"dataframe\">\n",
       "  <thead>\n",
       "    <tr style=\"text-align: right;\">\n",
       "      <th></th>\n",
       "      <th>index</th>\n",
       "      <th>category</th>\n",
       "      <th>scientific_name</th>\n",
       "      <th>common_names</th>\n",
       "      <th>conservation_status</th>\n",
       "      <th>in_danger</th>\n",
       "      <th>park_name</th>\n",
       "      <th>obs_num</th>\n",
       "    </tr>\n",
       "  </thead>\n",
       "  <tbody>\n",
       "    <tr>\n",
       "      <th>0</th>\n",
       "      <td>64</td>\n",
       "      <td>Mammal</td>\n",
       "      <td>Canis latrans</td>\n",
       "      <td>Coyote</td>\n",
       "      <td>Species of Concern</td>\n",
       "      <td>True</td>\n",
       "      <td>Bryce</td>\n",
       "      <td>85</td>\n",
       "    </tr>\n",
       "    <tr>\n",
       "      <th>1</th>\n",
       "      <td>65</td>\n",
       "      <td>Mammal</td>\n",
       "      <td>Canis latrans</td>\n",
       "      <td>Coyote</td>\n",
       "      <td>Species of Concern</td>\n",
       "      <td>True</td>\n",
       "      <td>Yellowstone</td>\n",
       "      <td>206</td>\n",
       "    </tr>\n",
       "    <tr>\n",
       "      <th>2</th>\n",
       "      <td>66</td>\n",
       "      <td>Mammal</td>\n",
       "      <td>Canis latrans</td>\n",
       "      <td>Coyote</td>\n",
       "      <td>Species of Concern</td>\n",
       "      <td>True</td>\n",
       "      <td>Great Smoky Mountains</td>\n",
       "      <td>68</td>\n",
       "    </tr>\n",
       "    <tr>\n",
       "      <th>3</th>\n",
       "      <td>67</td>\n",
       "      <td>Mammal</td>\n",
       "      <td>Canis latrans</td>\n",
       "      <td>Coyote</td>\n",
       "      <td>Species of Concern</td>\n",
       "      <td>True</td>\n",
       "      <td>Yosemite</td>\n",
       "      <td>99</td>\n",
       "    </tr>\n",
       "    <tr>\n",
       "      <th>4</th>\n",
       "      <td>68</td>\n",
       "      <td>Mammal</td>\n",
       "      <td>Canis lupus</td>\n",
       "      <td>Gray Wolf</td>\n",
       "      <td>Endangered</td>\n",
       "      <td>True</td>\n",
       "      <td>Yosemite</td>\n",
       "      <td>35</td>\n",
       "    </tr>\n",
       "    <tr>\n",
       "      <th>5</th>\n",
       "      <td>69</td>\n",
       "      <td>Mammal</td>\n",
       "      <td>Canis lupus</td>\n",
       "      <td>Gray Wolf</td>\n",
       "      <td>Endangered</td>\n",
       "      <td>True</td>\n",
       "      <td>Bryce</td>\n",
       "      <td>27</td>\n",
       "    </tr>\n",
       "    <tr>\n",
       "      <th>6</th>\n",
       "      <td>70</td>\n",
       "      <td>Mammal</td>\n",
       "      <td>Canis lupus</td>\n",
       "      <td>Gray Wolf</td>\n",
       "      <td>Endangered</td>\n",
       "      <td>True</td>\n",
       "      <td>Bryce</td>\n",
       "      <td>29</td>\n",
       "    </tr>\n",
       "    <tr>\n",
       "      <th>7</th>\n",
       "      <td>71</td>\n",
       "      <td>Mammal</td>\n",
       "      <td>Canis lupus</td>\n",
       "      <td>Gray Wolf</td>\n",
       "      <td>Endangered</td>\n",
       "      <td>True</td>\n",
       "      <td>Bryce</td>\n",
       "      <td>74</td>\n",
       "    </tr>\n",
       "    <tr>\n",
       "      <th>8</th>\n",
       "      <td>72</td>\n",
       "      <td>Mammal</td>\n",
       "      <td>Canis lupus</td>\n",
       "      <td>Gray Wolf</td>\n",
       "      <td>Endangered</td>\n",
       "      <td>True</td>\n",
       "      <td>Great Smoky Mountains</td>\n",
       "      <td>15</td>\n",
       "    </tr>\n",
       "    <tr>\n",
       "      <th>9</th>\n",
       "      <td>73</td>\n",
       "      <td>Mammal</td>\n",
       "      <td>Canis lupus</td>\n",
       "      <td>Gray Wolf</td>\n",
       "      <td>Endangered</td>\n",
       "      <td>True</td>\n",
       "      <td>Yellowstone</td>\n",
       "      <td>60</td>\n",
       "    </tr>\n",
       "  </tbody>\n",
       "</table>\n",
       "</div>"
      ],
      "text/plain": [
       "   index category scientific_name common_names conservation_status  in_danger  \\\n",
       "0     64   Mammal   Canis latrans       Coyote  Species of Concern       True   \n",
       "1     65   Mammal   Canis latrans       Coyote  Species of Concern       True   \n",
       "2     66   Mammal   Canis latrans       Coyote  Species of Concern       True   \n",
       "3     67   Mammal   Canis latrans       Coyote  Species of Concern       True   \n",
       "4     68   Mammal     Canis lupus    Gray Wolf          Endangered       True   \n",
       "5     69   Mammal     Canis lupus    Gray Wolf          Endangered       True   \n",
       "6     70   Mammal     Canis lupus    Gray Wolf          Endangered       True   \n",
       "7     71   Mammal     Canis lupus    Gray Wolf          Endangered       True   \n",
       "8     72   Mammal     Canis lupus    Gray Wolf          Endangered       True   \n",
       "9     73   Mammal     Canis lupus    Gray Wolf          Endangered       True   \n",
       "\n",
       "               park_name  obs_num  \n",
       "0                  Bryce       85  \n",
       "1            Yellowstone      206  \n",
       "2  Great Smoky Mountains       68  \n",
       "3               Yosemite       99  \n",
       "4               Yosemite       35  \n",
       "5                  Bryce       27  \n",
       "6                  Bryce       29  \n",
       "7                  Bryce       74  \n",
       "8  Great Smoky Mountains       15  \n",
       "9            Yellowstone       60  "
      ]
     },
     "execution_count": 290,
     "metadata": {},
     "output_type": "execute_result"
    }
   ],
   "source": [
    "# create a df for species in somehow danger\n",
    "all_data_in_danger = all_data[all_data.conservation_status!='Not Endangered'].reset_index()\n",
    "all_data_in_danger.head(10)"
   ]
  },
  {
   "cell_type": "code",
   "execution_count": 291,
   "metadata": {},
   "outputs": [
    {
     "name": "stdout",
     "output_type": "stream",
     "text": [
      "<class 'pandas.core.frame.DataFrame'>\n",
      "RangeIndex: 880 entries, 0 to 879\n",
      "Data columns (total 8 columns):\n",
      " #   Column               Non-Null Count  Dtype   \n",
      "---  ------               --------------  -----   \n",
      " 0   index                880 non-null    int64   \n",
      " 1   category             880 non-null    category\n",
      " 2   scientific_name      880 non-null    object  \n",
      " 3   common_names         880 non-null    object  \n",
      " 4   conservation_status  880 non-null    object  \n",
      " 5   in_danger            880 non-null    bool    \n",
      " 6   park_name            880 non-null    object  \n",
      " 7   obs_num              880 non-null    int64   \n",
      "dtypes: bool(1), category(1), int64(2), object(4)\n",
      "memory usage: 43.4+ KB\n"
     ]
    }
   ],
   "source": [
    "all_data_in_danger.info()"
   ]
  },
  {
   "cell_type": "markdown",
   "metadata": {},
   "source": [
    "In the merged dataframe there are 25601 records, from which 880 records have a kind of endangered conservation status."
   ]
  },
  {
   "cell_type": "markdown",
   "metadata": {},
   "source": [
    "#### Inspecting Number of Observation ####"
   ]
  },
  {
   "cell_type": "code",
   "execution_count": 292,
   "metadata": {},
   "outputs": [
    {
     "data": {
      "image/png": "[encoded data removed]",
      "text/plain": [
       "<Figure size 640x480 with 1 Axes>"
      ]
     },
     "metadata": {},
     "output_type": "display_data"
    },
    {
     "data": {
      "text/plain": [
       "<Figure size 640x480 with 0 Axes>"
      ]
     },
     "metadata": {},
     "output_type": "display_data"
    }
   ],
   "source": [
    "plt.hist(all_data_in_danger.obs_num)\n",
    "plt.title('Distribution of Observation of Species in Danger')\n",
    "plt.show()\n",
    "plt.clf()"
   ]
  },
  {
   "cell_type": "code",
   "execution_count": 293,
   "metadata": {},
   "outputs": [
    {
     "name": "stdout",
     "output_type": "stream",
     "text": [
      "park_name\n",
      "Bryce                    18609\n",
      "Great Smoky Mountains    12816\n",
      "Yellowstone              44583\n",
      "Yosemite                 26913\n",
      "Name: obs_num, dtype: int64\n"
     ]
    }
   ],
   "source": [
    "# observations in parks\n",
    "obs_park = all_data_in_danger.groupby('park_name').obs_num.sum()\n",
    "print(obs_park)"
   ]
  },
  {
   "cell_type": "code",
   "execution_count": 294,
   "metadata": {},
   "outputs": [
    {
     "data": {
      "image/png": "[encoded data removed]",
      "text/plain": [
       "<Figure size 640x480 with 1 Axes>"
      ]
     },
     "metadata": {},
     "output_type": "display_data"
    },
    {
     "data": {
      "text/plain": [
       "<Figure size 640x480 with 0 Axes>"
      ]
     },
     "metadata": {},
     "output_type": "display_data"
    }
   ],
   "source": [
    "obs_park.plot(kind='bar', color='green')\n",
    "plt.title('Number of Observations of Species in Danger in National Parks')\n",
    "plt.xticks(rotation=20)\n",
    "plt.xlabel('National Park')\n",
    "plt.ylabel('Number of Observations')\n",
    "plt.show()\n",
    "plt.clf()"
   ]
  },
  {
   "cell_type": "markdown",
   "metadata": {},
   "source": [
    "The most observations was reported from Yellowstone National Park (44583). From the other parks come around the half of this observations or less than the half: 26913 from Yosemite National Park.    "
   ]
  },
  {
   "cell_type": "code",
   "execution_count": 295,
   "metadata": {},
   "outputs": [
    {
     "name": "stdout",
     "output_type": "stream",
     "text": [
      "category\n",
      "Mammal               25146\n",
      "Bird                 42724\n",
      "Reptile               2536\n",
      "Amphibian             2752\n",
      "Fish                  4209\n",
      "Vascular Plant       22849\n",
      "Nonvascular Plant     2705\n",
      "Name: obs_num, dtype: int64\n"
     ]
    }
   ],
   "source": [
    "# observation numbers of categories\n",
    "obs_category = all_data_in_danger.groupby('category').obs_num.sum()\n",
    "print(obs_category)"
   ]
  },
  {
   "cell_type": "code",
   "execution_count": 296,
   "metadata": {},
   "outputs": [
    {
     "data": {
      "image/png": "[encoded data removed]",
      "text/plain": [
       "<Figure size 640x480 with 1 Axes>"
      ]
     },
     "metadata": {},
     "output_type": "display_data"
    },
    {
     "data": {
      "text/plain": [
       "<Figure size 640x480 with 0 Axes>"
      ]
     },
     "metadata": {},
     "output_type": "display_data"
    }
   ],
   "source": [
    "obs_category.plot(kind='bar', color='red')\n",
    "plt.title('Number of Observations of Species in Danger by Categories')\n",
    "plt.xticks(rotation=20)\n",
    "plt.xlabel('Categories')\n",
    "plt.ylabel('Number of Observations')\n",
    "plt.show()\n",
    "plt.clf()"
   ]
  },
  {
   "cell_type": "markdown",
   "metadata": {},
   "source": [
    "Among endangered species the most observation referred to birds, followed by mammals and vascular plants. The other categories had a lot less observations."
   ]
  },
  {
   "cell_type": "markdown",
   "metadata": {},
   "source": [
    "#### National Parks ####"
   ]
  },
  {
   "cell_type": "code",
   "execution_count": 297,
   "metadata": {},
   "outputs": [
    {
     "data": {
      "text/plain": [
       "Bryce                    220\n",
       "Yellowstone              220\n",
       "Great Smoky Mountains    220\n",
       "Yosemite                 220\n",
       "Name: park_name, dtype: int64"
      ]
     },
     "execution_count": 297,
     "metadata": {},
     "output_type": "execute_result"
    }
   ],
   "source": [
    "all_data_in_danger.park_name.value_counts()"
   ]
  },
  {
   "cell_type": "code",
   "execution_count": 298,
   "metadata": {},
   "outputs": [
    {
     "data": {
      "text/html": [
       "<div>\n",
       "<style scoped>\n",
       "    .dataframe tbody tr th:only-of-type {\n",
       "        vertical-align: middle;\n",
       "    }\n",
       "\n",
       "    .dataframe tbody tr th {\n",
       "        vertical-align: top;\n",
       "    }\n",
       "\n",
       "    .dataframe thead th {\n",
       "        text-align: right;\n",
       "    }\n",
       "</style>\n",
       "<table border=\"1\" class=\"dataframe\">\n",
       "  <thead>\n",
       "    <tr style=\"text-align: right;\">\n",
       "      <th>category</th>\n",
       "      <th>Mammal</th>\n",
       "      <th>Bird</th>\n",
       "      <th>Reptile</th>\n",
       "      <th>Amphibian</th>\n",
       "      <th>Fish</th>\n",
       "      <th>Vascular Plant</th>\n",
       "      <th>Nonvascular Plant</th>\n",
       "    </tr>\n",
       "    <tr>\n",
       "      <th>park_name</th>\n",
       "      <th></th>\n",
       "      <th></th>\n",
       "      <th></th>\n",
       "      <th></th>\n",
       "      <th></th>\n",
       "      <th></th>\n",
       "      <th></th>\n",
       "    </tr>\n",
       "  </thead>\n",
       "  <tbody>\n",
       "    <tr>\n",
       "      <th>Bryce</th>\n",
       "      <td>4701</td>\n",
       "      <td>7608</td>\n",
       "      <td>387</td>\n",
       "      <td>498</td>\n",
       "      <td>731</td>\n",
       "      <td>4198</td>\n",
       "      <td>486</td>\n",
       "    </tr>\n",
       "    <tr>\n",
       "      <th>Great Smoky Mountains</th>\n",
       "      <td>2951</td>\n",
       "      <td>5297</td>\n",
       "      <td>365</td>\n",
       "      <td>333</td>\n",
       "      <td>547</td>\n",
       "      <td>2950</td>\n",
       "      <td>373</td>\n",
       "    </tr>\n",
       "    <tr>\n",
       "      <th>Yellowstone</th>\n",
       "      <td>11030</td>\n",
       "      <td>18526</td>\n",
       "      <td>1100</td>\n",
       "      <td>1167</td>\n",
       "      <td>1875</td>\n",
       "      <td>9716</td>\n",
       "      <td>1169</td>\n",
       "    </tr>\n",
       "    <tr>\n",
       "      <th>Yosemite</th>\n",
       "      <td>6464</td>\n",
       "      <td>11293</td>\n",
       "      <td>684</td>\n",
       "      <td>754</td>\n",
       "      <td>1056</td>\n",
       "      <td>5985</td>\n",
       "      <td>677</td>\n",
       "    </tr>\n",
       "  </tbody>\n",
       "</table>\n",
       "</div>"
      ],
      "text/plain": [
       "category               Mammal   Bird  Reptile  Amphibian  Fish  \\\n",
       "park_name                                                        \n",
       "Bryce                    4701   7608      387        498   731   \n",
       "Great Smoky Mountains    2951   5297      365        333   547   \n",
       "Yellowstone             11030  18526     1100       1167  1875   \n",
       "Yosemite                 6464  11293      684        754  1056   \n",
       "\n",
       "category               Vascular Plant  Nonvascular Plant  \n",
       "park_name                                                 \n",
       "Bryce                            4198                486  \n",
       "Great Smoky Mountains            2950                373  \n",
       "Yellowstone                      9716               1169  \n",
       "Yosemite                         5985                677  "
      ]
     },
     "execution_count": 298,
     "metadata": {},
     "output_type": "execute_result"
    }
   ],
   "source": [
    "# number of observationof species in danger in national parks by categories\n",
    "categories_in_parks = all_data_in_danger.groupby(['park_name', 'category']).agg({'obs_num': 'sum'})\n",
    "\n",
    "categories_in_parks_pivot= pd.pivot_table(\n",
    "    data=categories_in_parks,\n",
    "    values='obs_num',\n",
    "    index='park_name',\n",
    "    columns='category',\n",
    ")\n",
    "categories_in_parks_pivot"
   ]
  },
  {
   "cell_type": "markdown",
   "metadata": {},
   "source": [
    "kiszámolni parkonként a védett állatok százalékát a nem védettekéhez képest\n",
    "1. mindegyik parknak df: védett-nem védett állatok obs_num\n",
    "2. százalékok\n",
    "3. összefoglaló táblázat a százalékokról\n",
    "scatterplot ebből"
   ]
  },
  {
   "cell_type": "code",
   "execution_count": 312,
   "metadata": {},
   "outputs": [
    {
     "data": {
      "text/html": [
       "<div>\n",
       "<style scoped>\n",
       "    .dataframe tbody tr th:only-of-type {\n",
       "        vertical-align: middle;\n",
       "    }\n",
       "\n",
       "    .dataframe tbody tr th {\n",
       "        vertical-align: top;\n",
       "    }\n",
       "\n",
       "    .dataframe thead th {\n",
       "        text-align: right;\n",
       "    }\n",
       "</style>\n",
       "<table border=\"1\" class=\"dataframe\">\n",
       "  <thead>\n",
       "    <tr style=\"text-align: right;\">\n",
       "      <th></th>\n",
       "      <th>not_in_danger</th>\n",
       "      <th>in_danger</th>\n",
       "      <th>percent</th>\n",
       "    </tr>\n",
       "    <tr>\n",
       "      <th>park_name</th>\n",
       "      <th></th>\n",
       "      <th></th>\n",
       "      <th></th>\n",
       "    </tr>\n",
       "  </thead>\n",
       "  <tbody>\n",
       "    <tr>\n",
       "      <th>Bryce</th>\n",
       "      <td>614434</td>\n",
       "      <td>18609</td>\n",
       "      <td>3.028641</td>\n",
       "    </tr>\n",
       "    <tr>\n",
       "      <th>Great Smoky Mountains</th>\n",
       "      <td>461163</td>\n",
       "      <td>12816</td>\n",
       "      <td>2.779061</td>\n",
       "    </tr>\n",
       "    <tr>\n",
       "      <th>Yellowstone</th>\n",
       "      <td>1540307</td>\n",
       "      <td>44583</td>\n",
       "      <td>2.894423</td>\n",
       "    </tr>\n",
       "    <tr>\n",
       "      <th>Yosemite</th>\n",
       "      <td>921547</td>\n",
       "      <td>26913</td>\n",
       "      <td>2.920415</td>\n",
       "    </tr>\n",
       "  </tbody>\n",
       "</table>\n",
       "</div>"
      ],
      "text/plain": [
       "                       not_in_danger  in_danger   percent\n",
       "park_name                                                \n",
       "Bryce                         614434      18609  3.028641\n",
       "Great Smoky Mountains         461163      12816  2.779061\n",
       "Yellowstone                  1540307      44583  2.894423\n",
       "Yosemite                      921547      26913  2.920415"
      ]
     },
     "execution_count": 312,
     "metadata": {},
     "output_type": "execute_result"
    }
   ],
   "source": [
    "park_obs=all_data.groupby(['park_name', 'in_danger']).agg({'obs_num': 'sum'})\n",
    "park_obs_pivot=pd.pivot_table(\n",
    "data=park_obs,\n",
    "columns='in_danger',\n",
    "index='park_name',\n",
    "values='obs_num')\n",
    "\n",
    "park_obs_pivot.columns=['not_in_danger', 'in_danger']\n",
    "park_obs_pivot.reset_index()\n",
    "park_obs_pivot['percent']=park_obs_pivot['in_danger']/park_obs_pivot['not_in_danger']*100\n",
    "park_obs_pivot"
   ]
  },
  {
   "cell_type": "code",
   "execution_count": null,
   "metadata": {},
   "outputs": [],
   "source": [
    "#create df about endangered species\n",
    "all_data_endangered = all_data_in_danger[all_data_in_danger['conservation_status']=='Endangered']\n",
    "all_data_endangered.info()"
   ]
  },
  {
   "cell_type": "code",
   "execution_count": null,
   "metadata": {},
   "outputs": [],
   "source": [
    "all_data_endangered.head(30)"
   ]
  },
  {
   "cell_type": "code",
   "execution_count": null,
   "metadata": {},
   "outputs": [],
   "source": [
    "all_data_endangered['category'].value_counts()"
   ]
  },
  {
   "cell_type": "code",
   "execution_count": null,
   "metadata": {},
   "outputs": [],
   "source": [
    "endangered_obs_parks=all_data_endangered.groupby('park_name').agg({'obs_num':'sum'})\n",
    "endangered_obs_parks.obs_num.sum()\n",
    "endangered_obs_parks['percent']=endangered_obs_parks['obs_num']/endangered_obs_parks.obs_num.sum()*100\n",
    "endangered_obs_parks"
   ]
  }
 ],
 "metadata": {
  "kernelspec": {
   "display_name": "Python 3 (ipykernel)",
   "language": "python",
   "name": "python3"
  },
  "language_info": {
   "codemirror_mode": {
    "name": "ipython",
    "version": 3
   },
   "file_extension": ".py",
   "mimetype": "text/x-python",
   "name": "python",
   "nbconvert_exporter": "python",
   "pygments_lexer": "ipython3",
   "version": "3.9.13"
  }
 },
 "nbformat": 4,
 "nbformat_minor": 4
}

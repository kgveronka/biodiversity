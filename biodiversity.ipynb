{
 "cells": [
  {
   "cell_type": "code",
   "execution_count": 1,
   "metadata": {},
   "outputs": [],
   "source": [
    "# import libraries\n",
    "import pandas as pd\n",
    "import numpy as np\n",
    "import matplotlib.pyplot as plt \n",
    "import seaborn as sns"
   ]
  },
  {
   "cell_type": "code",
   "execution_count": 2,
   "metadata": {},
   "outputs": [],
   "source": [
    "# loading data\n",
    "observations=pd.read_csv('observations.csv')\n",
    "species=pd.read_csv('species_info.csv')"
   ]
  },
  {
   "cell_type": "markdown",
   "metadata": {},
   "source": [
    "### Data Wrangling ###"
   ]
  },
  {
   "cell_type": "markdown",
   "metadata": {},
   "source": [
    "#### Dataframe Observations ###"
   ]
  },
  {
   "cell_type": "code",
   "execution_count": 3,
   "metadata": {},
   "outputs": [
    {
     "data": {
      "text/html": [
       "<div>\n",
       "<style scoped>\n",
       "    .dataframe tbody tr th:only-of-type {\n",
       "        vertical-align: middle;\n",
       "    }\n",
       "\n",
       "    .dataframe tbody tr th {\n",
       "        vertical-align: top;\n",
       "    }\n",
       "\n",
       "    .dataframe thead th {\n",
       "        text-align: right;\n",
       "    }\n",
       "</style>\n",
       "<table border=\"1\" class=\"dataframe\">\n",
       "  <thead>\n",
       "    <tr style=\"text-align: right;\">\n",
       "      <th></th>\n",
       "      <th>scientific_name</th>\n",
       "      <th>park_name</th>\n",
       "      <th>observations</th>\n",
       "    </tr>\n",
       "  </thead>\n",
       "  <tbody>\n",
       "    <tr>\n",
       "      <th>0</th>\n",
       "      <td>Vicia benghalensis</td>\n",
       "      <td>Great Smoky Mountains National Park</td>\n",
       "      <td>68</td>\n",
       "    </tr>\n",
       "    <tr>\n",
       "      <th>1</th>\n",
       "      <td>Neovison vison</td>\n",
       "      <td>Great Smoky Mountains National Park</td>\n",
       "      <td>77</td>\n",
       "    </tr>\n",
       "    <tr>\n",
       "      <th>2</th>\n",
       "      <td>Prunus subcordata</td>\n",
       "      <td>Yosemite National Park</td>\n",
       "      <td>138</td>\n",
       "    </tr>\n",
       "    <tr>\n",
       "      <th>3</th>\n",
       "      <td>Abutilon theophrasti</td>\n",
       "      <td>Bryce National Park</td>\n",
       "      <td>84</td>\n",
       "    </tr>\n",
       "    <tr>\n",
       "      <th>4</th>\n",
       "      <td>Githopsis specularioides</td>\n",
       "      <td>Great Smoky Mountains National Park</td>\n",
       "      <td>85</td>\n",
       "    </tr>\n",
       "  </tbody>\n",
       "</table>\n",
       "</div>"
      ],
      "text/plain": [
       "            scientific_name                            park_name  observations\n",
       "0        Vicia benghalensis  Great Smoky Mountains National Park            68\n",
       "1            Neovison vison  Great Smoky Mountains National Park            77\n",
       "2         Prunus subcordata               Yosemite National Park           138\n",
       "3      Abutilon theophrasti                  Bryce National Park            84\n",
       "4  Githopsis specularioides  Great Smoky Mountains National Park            85"
      ]
     },
     "execution_count": 3,
     "metadata": {},
     "output_type": "execute_result"
    }
   ],
   "source": [
    "observations.head()"
   ]
  },
  {
   "cell_type": "code",
   "execution_count": 4,
   "metadata": {},
   "outputs": [
    {
     "data": {
      "text/html": [
       "<div>\n",
       "<style scoped>\n",
       "    .dataframe tbody tr th:only-of-type {\n",
       "        vertical-align: middle;\n",
       "    }\n",
       "\n",
       "    .dataframe tbody tr th {\n",
       "        vertical-align: top;\n",
       "    }\n",
       "\n",
       "    .dataframe thead th {\n",
       "        text-align: right;\n",
       "    }\n",
       "</style>\n",
       "<table border=\"1\" class=\"dataframe\">\n",
       "  <thead>\n",
       "    <tr style=\"text-align: right;\">\n",
       "      <th></th>\n",
       "      <th>scientific_name</th>\n",
       "      <th>park_name</th>\n",
       "      <th>obs_num</th>\n",
       "    </tr>\n",
       "  </thead>\n",
       "  <tbody>\n",
       "    <tr>\n",
       "      <th>0</th>\n",
       "      <td>Vicia benghalensis</td>\n",
       "      <td>Great Smoky Mountains National Park</td>\n",
       "      <td>68</td>\n",
       "    </tr>\n",
       "    <tr>\n",
       "      <th>1</th>\n",
       "      <td>Neovison vison</td>\n",
       "      <td>Great Smoky Mountains National Park</td>\n",
       "      <td>77</td>\n",
       "    </tr>\n",
       "    <tr>\n",
       "      <th>2</th>\n",
       "      <td>Prunus subcordata</td>\n",
       "      <td>Yosemite National Park</td>\n",
       "      <td>138</td>\n",
       "    </tr>\n",
       "    <tr>\n",
       "      <th>3</th>\n",
       "      <td>Abutilon theophrasti</td>\n",
       "      <td>Bryce National Park</td>\n",
       "      <td>84</td>\n",
       "    </tr>\n",
       "    <tr>\n",
       "      <th>4</th>\n",
       "      <td>Githopsis specularioides</td>\n",
       "      <td>Great Smoky Mountains National Park</td>\n",
       "      <td>85</td>\n",
       "    </tr>\n",
       "  </tbody>\n",
       "</table>\n",
       "</div>"
      ],
      "text/plain": [
       "            scientific_name                            park_name  obs_num\n",
       "0        Vicia benghalensis  Great Smoky Mountains National Park       68\n",
       "1            Neovison vison  Great Smoky Mountains National Park       77\n",
       "2         Prunus subcordata               Yosemite National Park      138\n",
       "3      Abutilon theophrasti                  Bryce National Park       84\n",
       "4  Githopsis specularioides  Great Smoky Mountains National Park       85"
      ]
     },
     "execution_count": 4,
     "metadata": {},
     "output_type": "execute_result"
    }
   ],
   "source": [
    "# rename column header which is identific with df name\n",
    "observations.rename(columns={'observations': 'obs_num'}, inplace=True)\n",
    "observations.head()"
   ]
  },
  {
   "cell_type": "code",
   "execution_count": 5,
   "metadata": {},
   "outputs": [
    {
     "name": "stdout",
     "output_type": "stream",
     "text": [
      "<class 'pandas.core.frame.DataFrame'>\n",
      "RangeIndex: 23296 entries, 0 to 23295\n",
      "Data columns (total 3 columns):\n",
      " #   Column           Non-Null Count  Dtype \n",
      "---  ------           --------------  ----- \n",
      " 0   scientific_name  23296 non-null  object\n",
      " 1   park_name        23296 non-null  object\n",
      " 2   obs_num          23296 non-null  int64 \n",
      "dtypes: int64(1), object(2)\n",
      "memory usage: 546.1+ KB\n"
     ]
    }
   ],
   "source": [
    "observations.info()"
   ]
  },
  {
   "cell_type": "code",
   "execution_count": 6,
   "metadata": {},
   "outputs": [
    {
     "data": {
      "text/plain": [
       "(23296, 3)"
      ]
     },
     "execution_count": 6,
     "metadata": {},
     "output_type": "execute_result"
    }
   ],
   "source": [
    "# number of rows\n",
    "observations.shape"
   ]
  },
  {
   "cell_type": "code",
   "execution_count": 7,
   "metadata": {},
   "outputs": [
    {
     "data": {
      "text/plain": [
       "scientific_name    object\n",
       "park_name          object\n",
       "obs_num             int64\n",
       "dtype: object"
      ]
     },
     "execution_count": 7,
     "metadata": {},
     "output_type": "execute_result"
    }
   ],
   "source": [
    "# data types\n",
    "observations.dtypes"
   ]
  },
  {
   "cell_type": "code",
   "execution_count": 8,
   "metadata": {},
   "outputs": [
    {
     "data": {
      "text/plain": [
       "scientific_name    5541\n",
       "park_name             4\n",
       "obs_num             304\n",
       "dtype: int64"
      ]
     },
     "execution_count": 8,
     "metadata": {},
     "output_type": "execute_result"
    }
   ],
   "source": [
    "# number of unique values in each column\n",
    "observations.nunique()"
   ]
  },
  {
   "cell_type": "code",
   "execution_count": 9,
   "metadata": {},
   "outputs": [
    {
     "data": {
      "text/html": [
       "<div>\n",
       "<style scoped>\n",
       "    .dataframe tbody tr th:only-of-type {\n",
       "        vertical-align: middle;\n",
       "    }\n",
       "\n",
       "    .dataframe tbody tr th {\n",
       "        vertical-align: top;\n",
       "    }\n",
       "\n",
       "    .dataframe thead th {\n",
       "        text-align: right;\n",
       "    }\n",
       "</style>\n",
       "<table border=\"1\" class=\"dataframe\">\n",
       "  <thead>\n",
       "    <tr style=\"text-align: right;\">\n",
       "      <th></th>\n",
       "      <th>scientific_name</th>\n",
       "      <th>park_name</th>\n",
       "      <th>obs_num</th>\n",
       "    </tr>\n",
       "  </thead>\n",
       "  <tbody>\n",
       "    <tr>\n",
       "      <th>count</th>\n",
       "      <td>23296</td>\n",
       "      <td>23296</td>\n",
       "      <td>23296.000000</td>\n",
       "    </tr>\n",
       "    <tr>\n",
       "      <th>unique</th>\n",
       "      <td>5541</td>\n",
       "      <td>4</td>\n",
       "      <td>NaN</td>\n",
       "    </tr>\n",
       "    <tr>\n",
       "      <th>top</th>\n",
       "      <td>Myotis lucifugus</td>\n",
       "      <td>Great Smoky Mountains National Park</td>\n",
       "      <td>NaN</td>\n",
       "    </tr>\n",
       "    <tr>\n",
       "      <th>freq</th>\n",
       "      <td>12</td>\n",
       "      <td>5824</td>\n",
       "      <td>NaN</td>\n",
       "    </tr>\n",
       "    <tr>\n",
       "      <th>mean</th>\n",
       "      <td>NaN</td>\n",
       "      <td>NaN</td>\n",
       "      <td>142.287904</td>\n",
       "    </tr>\n",
       "    <tr>\n",
       "      <th>std</th>\n",
       "      <td>NaN</td>\n",
       "      <td>NaN</td>\n",
       "      <td>69.890532</td>\n",
       "    </tr>\n",
       "    <tr>\n",
       "      <th>min</th>\n",
       "      <td>NaN</td>\n",
       "      <td>NaN</td>\n",
       "      <td>9.000000</td>\n",
       "    </tr>\n",
       "    <tr>\n",
       "      <th>25%</th>\n",
       "      <td>NaN</td>\n",
       "      <td>NaN</td>\n",
       "      <td>86.000000</td>\n",
       "    </tr>\n",
       "    <tr>\n",
       "      <th>50%</th>\n",
       "      <td>NaN</td>\n",
       "      <td>NaN</td>\n",
       "      <td>124.000000</td>\n",
       "    </tr>\n",
       "    <tr>\n",
       "      <th>75%</th>\n",
       "      <td>NaN</td>\n",
       "      <td>NaN</td>\n",
       "      <td>195.000000</td>\n",
       "    </tr>\n",
       "    <tr>\n",
       "      <th>max</th>\n",
       "      <td>NaN</td>\n",
       "      <td>NaN</td>\n",
       "      <td>321.000000</td>\n",
       "    </tr>\n",
       "  </tbody>\n",
       "</table>\n",
       "</div>"
      ],
      "text/plain": [
       "         scientific_name                            park_name       obs_num\n",
       "count              23296                                23296  23296.000000\n",
       "unique              5541                                    4           NaN\n",
       "top     Myotis lucifugus  Great Smoky Mountains National Park           NaN\n",
       "freq                  12                                 5824           NaN\n",
       "mean                 NaN                                  NaN    142.287904\n",
       "std                  NaN                                  NaN     69.890532\n",
       "min                  NaN                                  NaN      9.000000\n",
       "25%                  NaN                                  NaN     86.000000\n",
       "50%                  NaN                                  NaN    124.000000\n",
       "75%                  NaN                                  NaN    195.000000\n",
       "max                  NaN                                  NaN    321.000000"
      ]
     },
     "execution_count": 9,
     "metadata": {},
     "output_type": "execute_result"
    }
   ],
   "source": [
    "observations.describe(include = 'all')"
   ]
  },
  {
   "cell_type": "code",
   "execution_count": 10,
   "metadata": {},
   "outputs": [
    {
     "data": {
      "image/png": "[encoded data removed]",
      "text/plain": [
       "<Figure size 640x480 with 1 Axes>"
      ]
     },
     "metadata": {},
     "output_type": "display_data"
    },
    {
     "data": {
      "text/plain": [
       "<Figure size 640x480 with 0 Axes>"
      ]
     },
     "metadata": {},
     "output_type": "display_data"
    }
   ],
   "source": [
    "plt.hist(observations.obs_num)\n",
    "plt.show()\n",
    "plt.clf()"
   ]
  },
  {
   "cell_type": "code",
   "execution_count": 11,
   "metadata": {},
   "outputs": [
    {
     "data": {
      "text/plain": [
       "array(['Great Smoky Mountains National Park', 'Yosemite National Park',\n",
       "       'Bryce National Park', 'Yellowstone National Park'], dtype=object)"
      ]
     },
     "execution_count": 11,
     "metadata": {},
     "output_type": "execute_result"
    }
   ],
   "source": [
    "observations['park_name'].unique()"
   ]
  },
  {
   "cell_type": "code",
   "execution_count": 12,
   "metadata": {},
   "outputs": [
    {
     "data": {
      "text/plain": [
       "scientific_name    0\n",
       "park_name          0\n",
       "obs_num            0\n",
       "dtype: int64"
      ]
     },
     "execution_count": 12,
     "metadata": {},
     "output_type": "execute_result"
    }
   ],
   "source": [
    "# finding missing values\n",
    "observations.isna().sum()"
   ]
  },
  {
   "cell_type": "code",
   "execution_count": 13,
   "metadata": {},
   "outputs": [
    {
     "data": {
      "text/plain": [
       "scientific_name    0\n",
       "park_name          0\n",
       "obs_num            0\n",
       "dtype: int64"
      ]
     },
     "execution_count": 13,
     "metadata": {},
     "output_type": "execute_result"
    }
   ],
   "source": [
    "# finding missing values in column with datatype int64\n",
    "observations['obs_num']=observations['obs_num'].where(observations['obs_num']!=0, np.nan)\n",
    "observations.isna().sum()"
   ]
  },
  {
   "cell_type": "code",
   "execution_count": 14,
   "metadata": {},
   "outputs": [
    {
     "data": {
      "text/plain": [
       "False    23281\n",
       "True        15\n",
       "dtype: int64"
      ]
     },
     "execution_count": 14,
     "metadata": {},
     "output_type": "execute_result"
    }
   ],
   "source": [
    "# finding duplicates\n",
    "observations.duplicated().value_counts()"
   ]
  },
  {
   "cell_type": "markdown",
   "metadata": {},
   "source": [
    "##### Description of observations dataframe #####\n",
    "In the dataframe observations there are 23296 records in 3 columns: \n",
    "- scientific_name: Latin name of the plant/animal\n",
    "- park_name: locating of the observations\n",
    "- obs_num: number of observations  \n",
    "\n",
    "The first two columns' datatype is objective, they are names, the third column (which is a count) has intreger values, so there is no need to change datatype.  \n",
    "In the dataframe, there is 5541 different creatures listed in 4 national parks (Great Smoky Mountains National Park, Yosemite National Park, Bryce National Park, Yellowstone National Park). It might be useful to cut the end-string of the par_name (' National Park) because it will be shorter. \n",
    "The minimum of observations is 9, the maximum value is 321. In the distribution, 2 peaks can be seen on the histoplot. The data is right-skewed.\n",
    "Probably, there is no missing value in the dataframe. \n",
    "There is 15 duplicated observations."
   ]
  },
  {
   "cell_type": "markdown",
   "metadata": {},
   "source": [
    "#### Dataframe Species ###"
   ]
  },
  {
   "cell_type": "code",
   "execution_count": 15,
   "metadata": {
    "scrolled": true
   },
   "outputs": [
    {
     "data": {
      "text/html": [
       "<div>\n",
       "<style scoped>\n",
       "    .dataframe tbody tr th:only-of-type {\n",
       "        vertical-align: middle;\n",
       "    }\n",
       "\n",
       "    .dataframe tbody tr th {\n",
       "        vertical-align: top;\n",
       "    }\n",
       "\n",
       "    .dataframe thead th {\n",
       "        text-align: right;\n",
       "    }\n",
       "</style>\n",
       "<table border=\"1\" class=\"dataframe\">\n",
       "  <thead>\n",
       "    <tr style=\"text-align: right;\">\n",
       "      <th></th>\n",
       "      <th>category</th>\n",
       "      <th>scientific_name</th>\n",
       "      <th>common_names</th>\n",
       "      <th>conservation_status</th>\n",
       "    </tr>\n",
       "  </thead>\n",
       "  <tbody>\n",
       "    <tr>\n",
       "      <th>0</th>\n",
       "      <td>Mammal</td>\n",
       "      <td>Clethrionomys gapperi gapperi</td>\n",
       "      <td>Gapper's Red-Backed Vole</td>\n",
       "      <td>NaN</td>\n",
       "    </tr>\n",
       "    <tr>\n",
       "      <th>1</th>\n",
       "      <td>Mammal</td>\n",
       "      <td>Bos bison</td>\n",
       "      <td>American Bison, Bison</td>\n",
       "      <td>NaN</td>\n",
       "    </tr>\n",
       "    <tr>\n",
       "      <th>2</th>\n",
       "      <td>Mammal</td>\n",
       "      <td>Bos taurus</td>\n",
       "      <td>Aurochs, Aurochs, Domestic Cattle (Feral), Dom...</td>\n",
       "      <td>NaN</td>\n",
       "    </tr>\n",
       "    <tr>\n",
       "      <th>3</th>\n",
       "      <td>Mammal</td>\n",
       "      <td>Ovis aries</td>\n",
       "      <td>Domestic Sheep, Mouflon, Red Sheep, Sheep (Feral)</td>\n",
       "      <td>NaN</td>\n",
       "    </tr>\n",
       "    <tr>\n",
       "      <th>4</th>\n",
       "      <td>Mammal</td>\n",
       "      <td>Cervus elaphus</td>\n",
       "      <td>Wapiti Or Elk</td>\n",
       "      <td>NaN</td>\n",
       "    </tr>\n",
       "  </tbody>\n",
       "</table>\n",
       "</div>"
      ],
      "text/plain": [
       "  category                scientific_name  \\\n",
       "0   Mammal  Clethrionomys gapperi gapperi   \n",
       "1   Mammal                      Bos bison   \n",
       "2   Mammal                     Bos taurus   \n",
       "3   Mammal                     Ovis aries   \n",
       "4   Mammal                 Cervus elaphus   \n",
       "\n",
       "                                        common_names conservation_status  \n",
       "0                           Gapper's Red-Backed Vole                 NaN  \n",
       "1                              American Bison, Bison                 NaN  \n",
       "2  Aurochs, Aurochs, Domestic Cattle (Feral), Dom...                 NaN  \n",
       "3  Domestic Sheep, Mouflon, Red Sheep, Sheep (Feral)                 NaN  \n",
       "4                                      Wapiti Or Elk                 NaN  "
      ]
     },
     "execution_count": 15,
     "metadata": {},
     "output_type": "execute_result"
    }
   ],
   "source": [
    "species.head()"
   ]
  },
  {
   "cell_type": "code",
   "execution_count": 16,
   "metadata": {},
   "outputs": [
    {
     "name": "stdout",
     "output_type": "stream",
     "text": [
      "<class 'pandas.core.frame.DataFrame'>\n",
      "RangeIndex: 5824 entries, 0 to 5823\n",
      "Data columns (total 4 columns):\n",
      " #   Column               Non-Null Count  Dtype \n",
      "---  ------               --------------  ----- \n",
      " 0   category             5824 non-null   object\n",
      " 1   scientific_name      5824 non-null   object\n",
      " 2   common_names         5824 non-null   object\n",
      " 3   conservation_status  191 non-null    object\n",
      "dtypes: object(4)\n",
      "memory usage: 182.1+ KB\n"
     ]
    }
   ],
   "source": [
    "species.info()"
   ]
  },
  {
   "cell_type": "code",
   "execution_count": 17,
   "metadata": {},
   "outputs": [
    {
     "data": {
      "text/plain": [
       "(5824, 4)"
      ]
     },
     "execution_count": 17,
     "metadata": {},
     "output_type": "execute_result"
    }
   ],
   "source": [
    "# number of rows\n",
    "species.shape"
   ]
  },
  {
   "cell_type": "code",
   "execution_count": 18,
   "metadata": {},
   "outputs": [
    {
     "data": {
      "text/plain": [
       "category               object\n",
       "scientific_name        object\n",
       "common_names           object\n",
       "conservation_status    object\n",
       "dtype: object"
      ]
     },
     "execution_count": 18,
     "metadata": {},
     "output_type": "execute_result"
    }
   ],
   "source": [
    "# data types\n",
    "species.dtypes"
   ]
  },
  {
   "cell_type": "code",
   "execution_count": 19,
   "metadata": {},
   "outputs": [
    {
     "data": {
      "text/html": [
       "<div>\n",
       "<style scoped>\n",
       "    .dataframe tbody tr th:only-of-type {\n",
       "        vertical-align: middle;\n",
       "    }\n",
       "\n",
       "    .dataframe tbody tr th {\n",
       "        vertical-align: top;\n",
       "    }\n",
       "\n",
       "    .dataframe thead th {\n",
       "        text-align: right;\n",
       "    }\n",
       "</style>\n",
       "<table border=\"1\" class=\"dataframe\">\n",
       "  <thead>\n",
       "    <tr style=\"text-align: right;\">\n",
       "      <th></th>\n",
       "      <th>category</th>\n",
       "      <th>scientific_name</th>\n",
       "      <th>common_names</th>\n",
       "      <th>conservation_status</th>\n",
       "    </tr>\n",
       "  </thead>\n",
       "  <tbody>\n",
       "    <tr>\n",
       "      <th>count</th>\n",
       "      <td>5824</td>\n",
       "      <td>5824</td>\n",
       "      <td>5824</td>\n",
       "      <td>191</td>\n",
       "    </tr>\n",
       "    <tr>\n",
       "      <th>unique</th>\n",
       "      <td>7</td>\n",
       "      <td>5541</td>\n",
       "      <td>5504</td>\n",
       "      <td>4</td>\n",
       "    </tr>\n",
       "    <tr>\n",
       "      <th>top</th>\n",
       "      <td>Vascular Plant</td>\n",
       "      <td>Castor canadensis</td>\n",
       "      <td>Brachythecium Moss</td>\n",
       "      <td>Species of Concern</td>\n",
       "    </tr>\n",
       "    <tr>\n",
       "      <th>freq</th>\n",
       "      <td>4470</td>\n",
       "      <td>3</td>\n",
       "      <td>7</td>\n",
       "      <td>161</td>\n",
       "    </tr>\n",
       "  </tbody>\n",
       "</table>\n",
       "</div>"
      ],
      "text/plain": [
       "              category    scientific_name        common_names  \\\n",
       "count             5824               5824                5824   \n",
       "unique               7               5541                5504   \n",
       "top     Vascular Plant  Castor canadensis  Brachythecium Moss   \n",
       "freq              4470                  3                   7   \n",
       "\n",
       "       conservation_status  \n",
       "count                  191  \n",
       "unique                   4  \n",
       "top     Species of Concern  \n",
       "freq                   161  "
      ]
     },
     "execution_count": 19,
     "metadata": {},
     "output_type": "execute_result"
    }
   ],
   "source": [
    "species.describe(include = 'all')"
   ]
  },
  {
   "cell_type": "code",
   "execution_count": 20,
   "metadata": {},
   "outputs": [
    {
     "data": {
      "text/plain": [
       "category                  7\n",
       "scientific_name        5541\n",
       "common_names           5504\n",
       "conservation_status       4\n",
       "dtype: int64"
      ]
     },
     "execution_count": 20,
     "metadata": {},
     "output_type": "execute_result"
    }
   ],
   "source": [
    "# number of unique values in each column\n",
    "species.nunique()"
   ]
  },
  {
   "cell_type": "code",
   "execution_count": 21,
   "metadata": {},
   "outputs": [
    {
     "data": {
      "text/plain": [
       "array(['Mammal', 'Bird', 'Reptile', 'Amphibian', 'Fish', 'Vascular Plant',\n",
       "       'Nonvascular Plant'], dtype=object)"
      ]
     },
     "execution_count": 21,
     "metadata": {},
     "output_type": "execute_result"
    }
   ],
   "source": [
    "# values of category\n",
    "species['category'].unique()"
   ]
  },
  {
   "cell_type": "code",
   "execution_count": 22,
   "metadata": {},
   "outputs": [
    {
     "data": {
      "text/plain": [
       "array([nan, 'Species of Concern', 'Endangered', 'Threatened',\n",
       "       'In Recovery'], dtype=object)"
      ]
     },
     "execution_count": 22,
     "metadata": {},
     "output_type": "execute_result"
    }
   ],
   "source": [
    "# unique values in column coservation_status\n",
    "species.conservation_status.unique()"
   ]
  },
  {
   "cell_type": "code",
   "execution_count": 23,
   "metadata": {},
   "outputs": [
    {
     "data": {
      "text/plain": [
       "category                  0\n",
       "scientific_name           0\n",
       "common_names              0\n",
       "conservation_status    5633\n",
       "dtype: int64"
      ]
     },
     "execution_count": 23,
     "metadata": {},
     "output_type": "execute_result"
    }
   ],
   "source": [
    "# finding missing values\n",
    "species.isna().sum()"
   ]
  },
  {
   "cell_type": "code",
   "execution_count": 24,
   "metadata": {},
   "outputs": [
    {
     "data": {
      "text/plain": [
       "False    5824\n",
       "dtype: int64"
      ]
     },
     "execution_count": 24,
     "metadata": {},
     "output_type": "execute_result"
    }
   ],
   "source": [
    "# finding duplicates\n",
    "species.duplicated().value_counts()"
   ]
  },
  {
   "cell_type": "code",
   "execution_count": 25,
   "metadata": {},
   "outputs": [
    {
     "data": {
      "text/html": [
       "<div>\n",
       "<style scoped>\n",
       "    .dataframe tbody tr th:only-of-type {\n",
       "        vertical-align: middle;\n",
       "    }\n",
       "\n",
       "    .dataframe tbody tr th {\n",
       "        vertical-align: top;\n",
       "    }\n",
       "\n",
       "    .dataframe thead th {\n",
       "        text-align: right;\n",
       "    }\n",
       "</style>\n",
       "<table border=\"1\" class=\"dataframe\">\n",
       "  <thead>\n",
       "    <tr style=\"text-align: right;\">\n",
       "      <th></th>\n",
       "      <th>category</th>\n",
       "      <th>scientific_name</th>\n",
       "      <th>common_names</th>\n",
       "      <th>conservation_status</th>\n",
       "    </tr>\n",
       "  </thead>\n",
       "  <tbody>\n",
       "    <tr>\n",
       "      <th>49</th>\n",
       "      <td>Mammal</td>\n",
       "      <td>Castor canadensis</td>\n",
       "      <td>American Beaver, Beaver</td>\n",
       "      <td>NaN</td>\n",
       "    </tr>\n",
       "    <tr>\n",
       "      <th>3050</th>\n",
       "      <td>Mammal</td>\n",
       "      <td>Castor canadensis</td>\n",
       "      <td>American Beaver</td>\n",
       "      <td>NaN</td>\n",
       "    </tr>\n",
       "  </tbody>\n",
       "</table>\n",
       "</div>"
      ],
      "text/plain": [
       "     category    scientific_name             common_names conservation_status\n",
       "49     Mammal  Castor canadensis  American Beaver, Beaver                 NaN\n",
       "3050   Mammal  Castor canadensis          American Beaver                 NaN"
      ]
     },
     "execution_count": 25,
     "metadata": {},
     "output_type": "execute_result"
    }
   ],
   "source": [
    "species[species.common_names.isin(['American Beaver, Beaver', 'American Beaver'])]"
   ]
  },
  {
   "cell_type": "markdown",
   "metadata": {},
   "source": [
    "##### Description of species dataframe #####\n",
    "\n",
    "In the dataframe, there is 5824 records in 4 column:\n",
    "- category: taxonomy of species. There are 7 category: 'Mammal', 'Bird', 'Reptile', 'Amphibian', 'Fish', 'Vascular Plant', 'Nonvascular Plant'\n",
    "- scientific_name: Latin name of species\n",
    "- common_names: common used names of species\n",
    "- conservation_status: in the column there are 4 values, and a big percentof them is NaN. The other values of the variable (Species of Concern', 'Endangered', 'Threatened', 'In Recovery') mean that the animal/plant is in kind of danger. Maybe the data is missing structurally, and means that the conservation status is 'not endangered' \n",
    "\n",
    "The datatype for all columns is object. It can be maybe usful to change the datatype of columns conversation_status and category into categorical datatype to scale the values.  \n",
    "Maybe there are some duplicated records in the dataframe like American Beaver ~ Beaver."
   ]
  },
  {
   "cell_type": "markdown",
   "metadata": {},
   "source": [
    "### Data Cleaning and Organizing ###"
   ]
  },
  {
   "cell_type": "markdown",
   "metadata": {},
   "source": [
    "#### Tasks ####\n",
    "- [x] characterizing missingness in column conservation_status (df species)\n",
    "- [x] fill data in df species \n",
    "- [x] change conservation_status dtype (df species)\n",
    "- [x] change category dtype (df species)\n",
    "- [x] exploring and dropping duplications in df observations  \n",
    "- [x] cut ' National Park' - observations.park_name"
   ]
  },
  {
   "cell_type": "code",
   "execution_count": 26,
   "metadata": {},
   "outputs": [
    {
     "data": {
      "text/plain": [
       "Species of Concern    161\n",
       "Endangered             16\n",
       "Threatened             10\n",
       "In Recovery             4\n",
       "Name: conservation_status, dtype: int64"
      ]
     },
     "execution_count": 26,
     "metadata": {},
     "output_type": "execute_result"
    }
   ],
   "source": [
    "# characterizing missingness in column conservation_status\n",
    "species.conservation_status.value_counts()"
   ]
  },
  {
   "cell_type": "code",
   "execution_count": 27,
   "metadata": {},
   "outputs": [
    {
     "data": {
      "text/html": [
       "<div>\n",
       "<style scoped>\n",
       "    .dataframe tbody tr th:only-of-type {\n",
       "        vertical-align: middle;\n",
       "    }\n",
       "\n",
       "    .dataframe tbody tr th {\n",
       "        vertical-align: top;\n",
       "    }\n",
       "\n",
       "    .dataframe thead th {\n",
       "        text-align: right;\n",
       "    }\n",
       "</style>\n",
       "<table border=\"1\" class=\"dataframe\">\n",
       "  <thead>\n",
       "    <tr style=\"text-align: right;\">\n",
       "      <th>conservation is na</th>\n",
       "      <th>False</th>\n",
       "      <th>True</th>\n",
       "    </tr>\n",
       "    <tr>\n",
       "      <th>category</th>\n",
       "      <th></th>\n",
       "      <th></th>\n",
       "    </tr>\n",
       "  </thead>\n",
       "  <tbody>\n",
       "    <tr>\n",
       "      <th>Amphibian</th>\n",
       "      <td>7</td>\n",
       "      <td>73</td>\n",
       "    </tr>\n",
       "    <tr>\n",
       "      <th>Bird</th>\n",
       "      <td>79</td>\n",
       "      <td>442</td>\n",
       "    </tr>\n",
       "    <tr>\n",
       "      <th>Fish</th>\n",
       "      <td>11</td>\n",
       "      <td>116</td>\n",
       "    </tr>\n",
       "    <tr>\n",
       "      <th>Mammal</th>\n",
       "      <td>38</td>\n",
       "      <td>176</td>\n",
       "    </tr>\n",
       "    <tr>\n",
       "      <th>Nonvascular Plant</th>\n",
       "      <td>5</td>\n",
       "      <td>328</td>\n",
       "    </tr>\n",
       "    <tr>\n",
       "      <th>Reptile</th>\n",
       "      <td>5</td>\n",
       "      <td>74</td>\n",
       "    </tr>\n",
       "    <tr>\n",
       "      <th>Vascular Plant</th>\n",
       "      <td>46</td>\n",
       "      <td>4424</td>\n",
       "    </tr>\n",
       "  </tbody>\n",
       "</table>\n",
       "</div>"
      ],
      "text/plain": [
       "conservation is na  False  True\n",
       "category                       \n",
       "Amphibian               7    73\n",
       "Bird                   79   442\n",
       "Fish                   11   116\n",
       "Mammal                 38   176\n",
       "Nonvascular Plant       5   328\n",
       "Reptile                 5    74\n",
       "Vascular Plant         46  4424"
      ]
     },
     "execution_count": 27,
     "metadata": {},
     "output_type": "execute_result"
    }
   ],
   "source": [
    "# count of categories not in danger\n",
    "pd.crosstab(species['category'], species['conservation_status'].isna(),rownames=['category'], colnames=['conservation is na'])"
   ]
  },
  {
   "cell_type": "code",
   "execution_count": 28,
   "metadata": {},
   "outputs": [
    {
     "data": {
      "text/html": [
       "<div>\n",
       "<style scoped>\n",
       "    .dataframe tbody tr th:only-of-type {\n",
       "        vertical-align: middle;\n",
       "    }\n",
       "\n",
       "    .dataframe tbody tr th {\n",
       "        vertical-align: top;\n",
       "    }\n",
       "\n",
       "    .dataframe thead th {\n",
       "        text-align: right;\n",
       "    }\n",
       "</style>\n",
       "<table border=\"1\" class=\"dataframe\">\n",
       "  <thead>\n",
       "    <tr style=\"text-align: right;\">\n",
       "      <th></th>\n",
       "      <th>category</th>\n",
       "      <th>scientific_name</th>\n",
       "      <th>common_names</th>\n",
       "      <th>conservation_status</th>\n",
       "    </tr>\n",
       "  </thead>\n",
       "  <tbody>\n",
       "    <tr>\n",
       "      <th>0</th>\n",
       "      <td>Mammal</td>\n",
       "      <td>Clethrionomys gapperi gapperi</td>\n",
       "      <td>Gapper's Red-Backed Vole</td>\n",
       "      <td>Not Endangered</td>\n",
       "    </tr>\n",
       "    <tr>\n",
       "      <th>1</th>\n",
       "      <td>Mammal</td>\n",
       "      <td>Bos bison</td>\n",
       "      <td>American Bison, Bison</td>\n",
       "      <td>Not Endangered</td>\n",
       "    </tr>\n",
       "    <tr>\n",
       "      <th>2</th>\n",
       "      <td>Mammal</td>\n",
       "      <td>Bos taurus</td>\n",
       "      <td>Aurochs, Aurochs, Domestic Cattle (Feral), Dom...</td>\n",
       "      <td>Not Endangered</td>\n",
       "    </tr>\n",
       "    <tr>\n",
       "      <th>3</th>\n",
       "      <td>Mammal</td>\n",
       "      <td>Ovis aries</td>\n",
       "      <td>Domestic Sheep, Mouflon, Red Sheep, Sheep (Feral)</td>\n",
       "      <td>Not Endangered</td>\n",
       "    </tr>\n",
       "    <tr>\n",
       "      <th>4</th>\n",
       "      <td>Mammal</td>\n",
       "      <td>Cervus elaphus</td>\n",
       "      <td>Wapiti Or Elk</td>\n",
       "      <td>Not Endangered</td>\n",
       "    </tr>\n",
       "  </tbody>\n",
       "</table>\n",
       "</div>"
      ],
      "text/plain": [
       "  category                scientific_name  \\\n",
       "0   Mammal  Clethrionomys gapperi gapperi   \n",
       "1   Mammal                      Bos bison   \n",
       "2   Mammal                     Bos taurus   \n",
       "3   Mammal                     Ovis aries   \n",
       "4   Mammal                 Cervus elaphus   \n",
       "\n",
       "                                        common_names conservation_status  \n",
       "0                           Gapper's Red-Backed Vole      Not Endangered  \n",
       "1                              American Bison, Bison      Not Endangered  \n",
       "2  Aurochs, Aurochs, Domestic Cattle (Feral), Dom...      Not Endangered  \n",
       "3  Domestic Sheep, Mouflon, Red Sheep, Sheep (Feral)      Not Endangered  \n",
       "4                                      Wapiti Or Elk      Not Endangered  "
      ]
     },
     "execution_count": 28,
     "metadata": {},
     "output_type": "execute_result"
    }
   ],
   "source": [
    "# filling data\n",
    "species['conservation_status'].fillna(value = 'Not Endangered', inplace = True)\n",
    "species.head()"
   ]
  },
  {
   "cell_type": "code",
   "execution_count": 29,
   "metadata": {},
   "outputs": [
    {
     "name": "stdout",
     "output_type": "stream",
     "text": [
      "              scientific_name                            park_name  obs_num\n",
      "513             Arctium minus               Yosemite National Park      162\n",
      "10674           Arctium minus               Yosemite National Park      162\n",
      "4527   Botrychium virginianum            Yellowstone National Park      232\n",
      "20294  Botrychium virginianum            Yellowstone National Park      232\n",
      "19392       Cichorium intybus            Yellowstone National Park      266\n",
      "14142       Cichorium intybus            Yellowstone National Park      266\n",
      "7263   Echinochloa crus-galli  Great Smoky Mountains National Park       62\n",
      "1454   Echinochloa crus-galli  Great Smoky Mountains National Park       62\n",
      "1020     Eleocharis palustris  Great Smoky Mountains National Park       62\n",
      "12381    Eleocharis palustris  Great Smoky Mountains National Park       62\n",
      "1032      Hesperis matronalis                  Bryce National Park      124\n",
      "13372     Hesperis matronalis                  Bryce National Park      124\n",
      "4178     Monotropa hypopithys  Great Smoky Mountains National Park       73\n",
      "20820    Monotropa hypopithys  Great Smoky Mountains National Park       73\n",
      "10038          Plantago major  Great Smoky Mountains National Park       90\n",
      "365            Plantago major  Great Smoky Mountains National Park       90\n",
      "18141           Poa compressa  Great Smoky Mountains National Park       80\n",
      "13097           Poa compressa  Great Smoky Mountains National Park       80\n",
      "17378    Potentilla norvegica               Yosemite National Park      148\n",
      "10809    Potentilla norvegica               Yosemite National Park      148\n",
      "7219        Prunella vulgaris  Great Smoky Mountains National Park       75\n",
      "16741       Prunella vulgaris  Great Smoky Mountains National Park       75\n",
      "19575            Salix exigua               Yosemite National Park      186\n",
      "22698            Salix exigua               Yosemite National Park      186\n",
      "17577      Spilogale putorius            Yellowstone National Park      256\n",
      "627        Spilogale putorius            Yellowstone National Park      256\n",
      "8710    Streptopelia decaocto            Yellowstone National Park      255\n",
      "1635    Streptopelia decaocto            Yellowstone National Park      255\n",
      "21151     Trifolium campestre            Yellowstone National Park      239\n",
      "18435     Trifolium campestre            Yellowstone National Park      239\n"
     ]
    }
   ],
   "source": [
    "# exploring duplications\n",
    "duplicates = observations[observations.duplicated(keep=False)].sort_values(by = ['scientific_name'])\n",
    "print(duplicates)"
   ]
  },
  {
   "cell_type": "code",
   "execution_count": 30,
   "metadata": {},
   "outputs": [
    {
     "name": "stdout",
     "output_type": "stream",
     "text": [
      "Empty DataFrame\n",
      "Columns: [scientific_name, park_name, obs_num]\n",
      "Index: []\n"
     ]
    }
   ],
   "source": [
    "# drop duplicates\n",
    "observations = observations.drop_duplicates()\n",
    "duplicates = observations[observations.duplicated(keep=False)]\n",
    "print(duplicates)"
   ]
  },
  {
   "cell_type": "code",
   "execution_count": 31,
   "metadata": {},
   "outputs": [
    {
     "data": {
      "text/html": [
       "<div>\n",
       "<style scoped>\n",
       "    .dataframe tbody tr th:only-of-type {\n",
       "        vertical-align: middle;\n",
       "    }\n",
       "\n",
       "    .dataframe tbody tr th {\n",
       "        vertical-align: top;\n",
       "    }\n",
       "\n",
       "    .dataframe thead th {\n",
       "        text-align: right;\n",
       "    }\n",
       "</style>\n",
       "<table border=\"1\" class=\"dataframe\">\n",
       "  <thead>\n",
       "    <tr style=\"text-align: right;\">\n",
       "      <th></th>\n",
       "      <th>scientific_name</th>\n",
       "      <th>park_name</th>\n",
       "      <th>obs_num</th>\n",
       "    </tr>\n",
       "  </thead>\n",
       "  <tbody>\n",
       "    <tr>\n",
       "      <th>0</th>\n",
       "      <td>Vicia benghalensis</td>\n",
       "      <td>Great Smoky Mountains</td>\n",
       "      <td>68</td>\n",
       "    </tr>\n",
       "    <tr>\n",
       "      <th>1</th>\n",
       "      <td>Neovison vison</td>\n",
       "      <td>Great Smoky Mountains</td>\n",
       "      <td>77</td>\n",
       "    </tr>\n",
       "    <tr>\n",
       "      <th>2</th>\n",
       "      <td>Prunus subcordata</td>\n",
       "      <td>Yosemite</td>\n",
       "      <td>138</td>\n",
       "    </tr>\n",
       "    <tr>\n",
       "      <th>3</th>\n",
       "      <td>Abutilon theophrasti</td>\n",
       "      <td>Bryce</td>\n",
       "      <td>84</td>\n",
       "    </tr>\n",
       "    <tr>\n",
       "      <th>4</th>\n",
       "      <td>Githopsis specularioides</td>\n",
       "      <td>Great Smoky Mountains</td>\n",
       "      <td>85</td>\n",
       "    </tr>\n",
       "  </tbody>\n",
       "</table>\n",
       "</div>"
      ],
      "text/plain": [
       "            scientific_name              park_name  obs_num\n",
       "0        Vicia benghalensis  Great Smoky Mountains       68\n",
       "1            Neovison vison  Great Smoky Mountains       77\n",
       "2         Prunus subcordata               Yosemite      138\n",
       "3      Abutilon theophrasti                  Bryce       84\n",
       "4  Githopsis specularioides  Great Smoky Mountains       85"
      ]
     },
     "execution_count": 31,
     "metadata": {},
     "output_type": "execute_result"
    }
   ],
   "source": [
    "# cut 'National Park' - observations\n",
    "observations['park_name']=observations['park_name'].str.strip(' National Park')\n",
    "observations.head()"
   ]
  },
  {
   "cell_type": "code",
   "execution_count": 32,
   "metadata": {},
   "outputs": [],
   "source": [
    "# changing conservation_status dtype (df species)\n",
    "# species['conservation_status']=pd.Categorical(species['conservation_status'], ['Not Endangered', 'Species of Concern', 'Threatened', 'Endangered', 'In Recovery'], ordered=True)"
   ]
  },
  {
   "cell_type": "code",
   "execution_count": 33,
   "metadata": {},
   "outputs": [],
   "source": [
    "# changing category dtype (df species)\n",
    "species['category']=pd.Categorical(species['category'], ['Mammal', 'Bird', 'Reptile', 'Amphibian', 'Fish', 'Vascular Plant',\n",
    "       'Nonvascular Plant'], ordered=True)"
   ]
  },
  {
   "cell_type": "code",
   "execution_count": 34,
   "metadata": {},
   "outputs": [
    {
     "data": {
      "text/html": [
       "<div>\n",
       "<style scoped>\n",
       "    .dataframe tbody tr th:only-of-type {\n",
       "        vertical-align: middle;\n",
       "    }\n",
       "\n",
       "    .dataframe tbody tr th {\n",
       "        vertical-align: top;\n",
       "    }\n",
       "\n",
       "    .dataframe thead th {\n",
       "        text-align: right;\n",
       "    }\n",
       "</style>\n",
       "<table border=\"1\" class=\"dataframe\">\n",
       "  <thead>\n",
       "    <tr style=\"text-align: right;\">\n",
       "      <th></th>\n",
       "      <th>category</th>\n",
       "      <th>scientific_name</th>\n",
       "      <th>common_names</th>\n",
       "      <th>conservation_status</th>\n",
       "    </tr>\n",
       "  </thead>\n",
       "  <tbody>\n",
       "    <tr>\n",
       "      <th>3017</th>\n",
       "      <td>Mammal</td>\n",
       "      <td>Cervus elaphus</td>\n",
       "      <td>Rocky Mountain Elk</td>\n",
       "      <td>Not Endangered</td>\n",
       "    </tr>\n",
       "    <tr>\n",
       "      <th>3019</th>\n",
       "      <td>Mammal</td>\n",
       "      <td>Odocoileus virginianus</td>\n",
       "      <td>White-Tailed Deer, White-Tailed Deer</td>\n",
       "      <td>Not Endangered</td>\n",
       "    </tr>\n",
       "    <tr>\n",
       "      <th>3022</th>\n",
       "      <td>Mammal</td>\n",
       "      <td>Puma concolor</td>\n",
       "      <td>Cougar, Mountain Lion, Puma</td>\n",
       "      <td>Not Endangered</td>\n",
       "    </tr>\n",
       "    <tr>\n",
       "      <th>3025</th>\n",
       "      <td>Mammal</td>\n",
       "      <td>Lutra canadensis</td>\n",
       "      <td>River Otter</td>\n",
       "      <td>Not Endangered</td>\n",
       "    </tr>\n",
       "    <tr>\n",
       "      <th>3028</th>\n",
       "      <td>Mammal</td>\n",
       "      <td>Mustela vison</td>\n",
       "      <td>American Mink, Mink</td>\n",
       "      <td>Not Endangered</td>\n",
       "    </tr>\n",
       "    <tr>\n",
       "      <th>...</th>\n",
       "      <td>...</td>\n",
       "      <td>...</td>\n",
       "      <td>...</td>\n",
       "      <td>...</td>\n",
       "    </tr>\n",
       "    <tr>\n",
       "      <th>5619</th>\n",
       "      <td>Vascular Plant</td>\n",
       "      <td>Panicum rigidulum var. rigidulum</td>\n",
       "      <td>Redtop Panicgrass, Redtop Panicum</td>\n",
       "      <td>Not Endangered</td>\n",
       "    </tr>\n",
       "    <tr>\n",
       "      <th>5638</th>\n",
       "      <td>Vascular Plant</td>\n",
       "      <td>Setaria pumila</td>\n",
       "      <td>Cattail Grass, Yellow Bristle Grass, Yellow Br...</td>\n",
       "      <td>Not Endangered</td>\n",
       "    </tr>\n",
       "    <tr>\n",
       "      <th>5640</th>\n",
       "      <td>Vascular Plant</td>\n",
       "      <td>Vulpia bromoides</td>\n",
       "      <td>Brome Fescue, Brome Six-Weeks Grass, Desert Fe...</td>\n",
       "      <td>Not Endangered</td>\n",
       "    </tr>\n",
       "    <tr>\n",
       "      <th>5643</th>\n",
       "      <td>Vascular Plant</td>\n",
       "      <td>Vulpia myuros</td>\n",
       "      <td>Foxtail Fescue, Rattail Fescue, Rat-Tail Fescu...</td>\n",
       "      <td>Not Endangered</td>\n",
       "    </tr>\n",
       "    <tr>\n",
       "      <th>5750</th>\n",
       "      <td>Vascular Plant</td>\n",
       "      <td>Rosa eglanteria</td>\n",
       "      <td>Sweetbriar Rose</td>\n",
       "      <td>Not Endangered</td>\n",
       "    </tr>\n",
       "  </tbody>\n",
       "</table>\n",
       "<p>281 rows × 4 columns</p>\n",
       "</div>"
      ],
      "text/plain": [
       "            category                   scientific_name  \\\n",
       "3017          Mammal                    Cervus elaphus   \n",
       "3019          Mammal            Odocoileus virginianus   \n",
       "3022          Mammal                     Puma concolor   \n",
       "3025          Mammal                  Lutra canadensis   \n",
       "3028          Mammal                     Mustela vison   \n",
       "...              ...                               ...   \n",
       "5619  Vascular Plant  Panicum rigidulum var. rigidulum   \n",
       "5638  Vascular Plant                    Setaria pumila   \n",
       "5640  Vascular Plant                  Vulpia bromoides   \n",
       "5643  Vascular Plant                     Vulpia myuros   \n",
       "5750  Vascular Plant                   Rosa eglanteria   \n",
       "\n",
       "                                           common_names conservation_status  \n",
       "3017                                 Rocky Mountain Elk      Not Endangered  \n",
       "3019               White-Tailed Deer, White-Tailed Deer      Not Endangered  \n",
       "3022                        Cougar, Mountain Lion, Puma      Not Endangered  \n",
       "3025                                        River Otter      Not Endangered  \n",
       "3028                                American Mink, Mink      Not Endangered  \n",
       "...                                                 ...                 ...  \n",
       "5619                  Redtop Panicgrass, Redtop Panicum      Not Endangered  \n",
       "5638  Cattail Grass, Yellow Bristle Grass, Yellow Br...      Not Endangered  \n",
       "5640  Brome Fescue, Brome Six-Weeks Grass, Desert Fe...      Not Endangered  \n",
       "5643  Foxtail Fescue, Rattail Fescue, Rat-Tail Fescu...      Not Endangered  \n",
       "5750                                    Sweetbriar Rose      Not Endangered  \n",
       "\n",
       "[281 rows x 4 columns]"
      ]
     },
     "execution_count": 34,
     "metadata": {},
     "output_type": "execute_result"
    }
   ],
   "source": [
    "# duplicates is species\n",
    "species[species.duplicated(subset=['scientific_name', 'conservation_status'])]"
   ]
  },
  {
   "cell_type": "code",
   "execution_count": 35,
   "metadata": {},
   "outputs": [
    {
     "name": "stdout",
     "output_type": "stream",
     "text": [
      "<class 'pandas.core.frame.DataFrame'>\n",
      "Int64Index: 5543 entries, 0 to 5823\n",
      "Data columns (total 4 columns):\n",
      " #   Column               Non-Null Count  Dtype   \n",
      "---  ------               --------------  -----   \n",
      " 0   category             5543 non-null   category\n",
      " 1   scientific_name      5543 non-null   object  \n",
      " 2   common_names         5543 non-null   object  \n",
      " 3   conservation_status  5543 non-null   object  \n",
      "dtypes: category(1), object(3)\n",
      "memory usage: 179.0+ KB\n"
     ]
    }
   ],
   "source": [
    "# drop duplicates\n",
    "species.drop_duplicates(subset=['scientific_name', 'conservation_status'], inplace=True)\n",
    "species.info()"
   ]
  },
  {
   "cell_type": "code",
   "execution_count": 36,
   "metadata": {},
   "outputs": [
    {
     "data": {
      "text/html": [
       "<div>\n",
       "<style scoped>\n",
       "    .dataframe tbody tr th:only-of-type {\n",
       "        vertical-align: middle;\n",
       "    }\n",
       "\n",
       "    .dataframe tbody tr th {\n",
       "        vertical-align: top;\n",
       "    }\n",
       "\n",
       "    .dataframe thead th {\n",
       "        text-align: right;\n",
       "    }\n",
       "</style>\n",
       "<table border=\"1\" class=\"dataframe\">\n",
       "  <thead>\n",
       "    <tr style=\"text-align: right;\">\n",
       "      <th></th>\n",
       "      <th>category</th>\n",
       "      <th>scientific_name</th>\n",
       "      <th>common_names</th>\n",
       "      <th>conservation_status</th>\n",
       "    </tr>\n",
       "  </thead>\n",
       "  <tbody>\n",
       "    <tr>\n",
       "      <th>49</th>\n",
       "      <td>Mammal</td>\n",
       "      <td>Castor canadensis</td>\n",
       "      <td>American Beaver, Beaver</td>\n",
       "      <td>Not Endangered</td>\n",
       "    </tr>\n",
       "  </tbody>\n",
       "</table>\n",
       "</div>"
      ],
      "text/plain": [
       "   category    scientific_name             common_names conservation_status\n",
       "49   Mammal  Castor canadensis  American Beaver, Beaver      Not Endangered"
      ]
     },
     "execution_count": 36,
     "metadata": {},
     "output_type": "execute_result"
    }
   ],
   "source": [
    "species[species.common_names.isin(['American Beaver, Beaver', 'American Beaver'])]"
   ]
  },
  {
   "cell_type": "markdown",
   "metadata": {},
   "source": [
    "### Purposes of Analysis ###"
   ]
  },
  {
   "cell_type": "markdown",
   "metadata": {},
   "source": [
    "#### Questions ####\n",
    "-  **are there any patterns or themes to the types of species that become endangered?**\n",
    "- relation of category and endangered status\n",
    "- relation of endangered status and park name"
   ]
  },
  {
   "cell_type": "markdown",
   "metadata": {},
   "source": [
    "At first, I have to analyze the data of dataframe species bcause there are basic informations about conservation status. It could be interesting to see the relation between categories and conservation status:\n",
    "- how representative are the grades among conservation status\n",
    "- what are the proportions of categories to each other, which is the most representative category in this data,\n",
    "- how is the proportion of species in somehow endangered status to all species (by category)\n",
    "- is there a connection between categories and being in somehow endangered"
   ]
  },
  {
   "cell_type": "markdown",
   "metadata": {},
   "source": [
    "#### Tasks ####\n",
    "- [x] create a df for species in somehow danger\n",
    "- [x] create a bar chart about the number each species in danger grouped by category\n",
    "- [ ] chi-square statistic for categories and conservation_status\n",
    "- [x] merge the 2 dfs\n",
    "- [x] create a chart about the number each species in danger grouped by park name"
   ]
  },
  {
   "cell_type": "markdown",
   "metadata": {},
   "source": [
    "### Analysing of Data Species ####"
   ]
  },
  {
   "cell_type": "markdown",
   "metadata": {},
   "source": [
    "#### Inspecting Conservation Status ####\n"
   ]
  },
  {
   "cell_type": "code",
   "execution_count": 37,
   "metadata": {},
   "outputs": [
    {
     "data": {
      "text/html": [
       "<div>\n",
       "<style scoped>\n",
       "    .dataframe tbody tr th:only-of-type {\n",
       "        vertical-align: middle;\n",
       "    }\n",
       "\n",
       "    .dataframe tbody tr th {\n",
       "        vertical-align: top;\n",
       "    }\n",
       "\n",
       "    .dataframe thead th {\n",
       "        text-align: right;\n",
       "    }\n",
       "</style>\n",
       "<table border=\"1\" class=\"dataframe\">\n",
       "  <thead>\n",
       "    <tr style=\"text-align: right;\">\n",
       "      <th></th>\n",
       "      <th>category</th>\n",
       "      <th>scientific_name</th>\n",
       "      <th>common_names</th>\n",
       "      <th>conservation_status</th>\n",
       "    </tr>\n",
       "  </thead>\n",
       "  <tbody>\n",
       "    <tr>\n",
       "      <th>7</th>\n",
       "      <td>Mammal</td>\n",
       "      <td>Canis latrans</td>\n",
       "      <td>Coyote</td>\n",
       "      <td>Species of Concern</td>\n",
       "    </tr>\n",
       "    <tr>\n",
       "      <th>8</th>\n",
       "      <td>Mammal</td>\n",
       "      <td>Canis lupus</td>\n",
       "      <td>Gray Wolf</td>\n",
       "      <td>Endangered</td>\n",
       "    </tr>\n",
       "    <tr>\n",
       "      <th>9</th>\n",
       "      <td>Mammal</td>\n",
       "      <td>Canis rufus</td>\n",
       "      <td>Red Wolf</td>\n",
       "      <td>Endangered</td>\n",
       "    </tr>\n",
       "    <tr>\n",
       "      <th>29</th>\n",
       "      <td>Mammal</td>\n",
       "      <td>Eptesicus fuscus</td>\n",
       "      <td>Big Brown Bat</td>\n",
       "      <td>Species of Concern</td>\n",
       "    </tr>\n",
       "    <tr>\n",
       "      <th>30</th>\n",
       "      <td>Mammal</td>\n",
       "      <td>Lasionycteris noctivagans</td>\n",
       "      <td>Silver-Haired Bat</td>\n",
       "      <td>Species of Concern</td>\n",
       "    </tr>\n",
       "  </tbody>\n",
       "</table>\n",
       "</div>"
      ],
      "text/plain": [
       "   category            scientific_name       common_names conservation_status\n",
       "7    Mammal              Canis latrans             Coyote  Species of Concern\n",
       "8    Mammal                Canis lupus          Gray Wolf          Endangered\n",
       "9    Mammal                Canis rufus           Red Wolf          Endangered\n",
       "29   Mammal           Eptesicus fuscus      Big Brown Bat  Species of Concern\n",
       "30   Mammal  Lasionycteris noctivagans  Silver-Haired Bat  Species of Concern"
      ]
     },
     "execution_count": 37,
     "metadata": {},
     "output_type": "execute_result"
    }
   ],
   "source": [
    "# create a df for species in somehow danger\n",
    "species_in_danger = species[species['conservation_status']!='Not Endangered']\n",
    "# species_in_danger.rename(columns={'index': 'original_index'}, inplace=True)\n",
    "species_in_danger.head()"
   ]
  },
  {
   "cell_type": "code",
   "execution_count": 38,
   "metadata": {},
   "outputs": [
    {
     "data": {
      "text/plain": [
       "Species of Concern    151\n",
       "Endangered             15\n",
       "Threatened             10\n",
       "In Recovery             4\n",
       "Name: conservation_status, dtype: int64"
      ]
     },
     "execution_count": 38,
     "metadata": {},
     "output_type": "execute_result"
    }
   ],
   "source": [
    "species_in_danger.conservation_status.value_counts()"
   ]
  },
  {
   "cell_type": "code",
   "execution_count": 39,
   "metadata": {},
   "outputs": [
    {
     "data": {
      "text/plain": [
       "180"
      ]
     },
     "execution_count": 39,
     "metadata": {},
     "output_type": "execute_result"
    }
   ],
   "source": [
    "len(species_in_danger.conservation_status)"
   ]
  },
  {
   "cell_type": "code",
   "execution_count": 77,
   "metadata": {},
   "outputs": [
    {
     "data": {
      "image/png": "[encoded data removed]",
      "text/plain": [
       "<Figure size 640x480 with 1 Axes>"
      ]
     },
     "metadata": {},
     "output_type": "display_data"
    },
    {
     "data": {
      "text/plain": [
       "<Figure size 640x480 with 0 Axes>"
      ]
     },
     "metadata": {},
     "output_type": "display_data"
    }
   ],
   "source": [
    "sns.countplot(x='conservation_status', data=species_in_danger)\n",
    "plt.xticks(rotation=30)\n",
    "plt.title('Conservation Status by Species in Danger')\n",
    "plt.xlabel('Conservation Status')\n",
    "plt.ylabel('Count of Species')\n",
    "plt.savefig('cons_status_in_danger.png', bbox_inches='tight')\n",
    "plt.show()\n",
    "plt.clf()"
   ]
  },
  {
   "cell_type": "markdown",
   "metadata": {},
   "source": [
    "The most species of endangered status is by concerned grade, there are 151 species in this category of 180. This is 83 %!\n",
    "There are 15 species which are really \"endangered\", it is only 8.3 % of all species in danger. 10 species are threatened and 4 in recovery, these grades have really small numbers.\n",
    "It seems to be  effective to concentrate the grades of \"speices of concern\" and \"endangered\"."
   ]
  },
  {
   "cell_type": "markdown",
   "metadata": {},
   "source": [
    "#### Inspecting Category ####"
   ]
  },
  {
   "cell_type": "code",
   "execution_count": 65,
   "metadata": {},
   "outputs": [
    {
     "data": {
      "image/png": "[encoded data removed]",
      "text/plain": [
       "<Figure size 1000x800 with 2 Axes>"
      ]
     },
     "metadata": {},
     "output_type": "display_data"
    },
    {
     "data": {
      "text/plain": [
       "<Figure size 640x480 with 0 Axes>"
      ]
     },
     "metadata": {},
     "output_type": "display_data"
    }
   ],
   "source": [
    "# category count all species vs species in danger \n",
    "plt.figure(figsize=(10,8))\n",
    "plt.subplot(1,2,1)\n",
    "sns.countplot(x='category', data=species)\n",
    "plt.xticks(rotation=30)\n",
    "plt.title('Category Count by All Species')\n",
    "plt.xlabel('Categories')\n",
    "\n",
    "plt.subplot(1,2,2)\n",
    "sns.countplot(x='category', data=species_in_danger)\n",
    "plt.xticks(rotation=30)\n",
    "plt.title('Count of Categories in Danger')\n",
    "plt.xlabel('Categories')\n",
    "plt.savefig('category_counts.png')\n",
    "\n",
    "plt.show()\n",
    "plt.clf()"
   ]
  },
  {
   "cell_type": "code",
   "execution_count": 42,
   "metadata": {},
   "outputs": [
    {
     "data": {
      "text/plain": [
       "Vascular Plant       4262\n",
       "Bird                  488\n",
       "Nonvascular Plant     333\n",
       "Mammal                177\n",
       "Fish                  126\n",
       "Amphibian              79\n",
       "Reptile                78\n",
       "Name: category, dtype: int64"
      ]
     },
     "execution_count": 42,
     "metadata": {},
     "output_type": "execute_result"
    }
   ],
   "source": [
    "species.category.value_counts()"
   ]
  },
  {
   "cell_type": "code",
   "execution_count": 43,
   "metadata": {},
   "outputs": [
    {
     "data": {
      "text/plain": [
       "Bird                 75\n",
       "Vascular Plant       46\n",
       "Mammal               31\n",
       "Fish                 11\n",
       "Amphibian             7\n",
       "Reptile               5\n",
       "Nonvascular Plant     5\n",
       "Name: category, dtype: int64"
      ]
     },
     "execution_count": 43,
     "metadata": {},
     "output_type": "execute_result"
    }
   ],
   "source": [
    "species_in_danger.category.value_counts()"
   ]
  },
  {
   "cell_type": "markdown",
   "metadata": {},
   "source": [
    "Among species in danger, the largest number belongs to the birds (79), followed by vascular plants (46) and mammal (38). In all data birds are on second place, vascular plants are the most represented category. Nonvascular plants are at the third position in all data, among endangered species, they have the least count.  \n",
    "The most representative categories are mammals, birds and vascular plants.\n",
    "If we look at the proportion of the grades of \"somehow in danger\", we can see, that in endangered status, the most are mammal (7 of 16, 44%) and birds (4 of 16, 25%). In status \"species of concern\" we can find 72 birds, 43 vascular plants and 28 mammals - the other values are much smaller.  \n",
    "Now, I want to investigate, how relate the percentage of species in danger to all species."
   ]
  },
  {
   "cell_type": "markdown",
   "metadata": {},
   "source": [
    "##### percentage of species in danger to all species by category #####"
   ]
  },
  {
   "cell_type": "code",
   "execution_count": 44,
   "metadata": {},
   "outputs": [
    {
     "data": {
      "text/plain": [
       "['Mammal', 'Bird', 'Reptile', 'Amphibian', 'Fish', 'Vascular Plant', 'Nonvascular Plant']\n",
       "Categories (7, object): ['Mammal' < 'Bird' < 'Reptile' < 'Amphibian' < 'Fish' < 'Vascular Plant' < 'Nonvascular Plant']"
      ]
     },
     "execution_count": 44,
     "metadata": {},
     "output_type": "execute_result"
    }
   ],
   "source": [
    "species.category.unique()"
   ]
  },
  {
   "cell_type": "code",
   "execution_count": 45,
   "metadata": {},
   "outputs": [
    {
     "name": "stdout",
     "output_type": "stream",
     "text": [
      "            category  total_num  in_danger_num    percent\n",
      "0             Mammal        177             31  17.514124\n",
      "1               Bird        488             75  15.368852\n",
      "3          Amphibian         79              7   8.860759\n",
      "4               Fish        126             11   8.730159\n",
      "2            Reptile         78              5   6.410256\n",
      "6  Nonvascular Plant        333              5   1.501502\n",
      "5     Vascular Plant       4262             46   1.079305\n"
     ]
    }
   ],
   "source": [
    "# percent of species in danger in all data\n",
    "d = {'category': ['Mammal', 'Bird', 'Reptile', 'Amphibian', 'Fish', 'Vascular Plant',\n",
    "       'Nonvascular Plant'], \n",
    "     'total_num': [177, 488, 78, 79, 126, 4262, 333], \n",
    "     'in_danger_num':[31, 75, 5, 7, 11, 46, 5]}\n",
    "percent_in_danger = pd.DataFrame(data = d)\n",
    "percent_in_danger['percent']=percent_in_danger['in_danger_num']/percent_in_danger['total_num']*100\n",
    "print(percent_in_danger.sort_values('percent', ascending=False))\n"
   ]
  },
  {
   "cell_type": "code",
   "execution_count": 75,
   "metadata": {},
   "outputs": [
    {
     "data": {
      "text/plain": [
       "<Figure size 1000x1000 with 0 Axes>"
      ]
     },
     "metadata": {},
     "output_type": "display_data"
    },
    {
     "data": {
      "image/png": "[encoded data removed]",
      "text/plain": [
       "<Figure size 1000x500 with 1 Axes>"
      ]
     },
     "metadata": {},
     "output_type": "display_data"
    },
    {
     "data": {
      "text/plain": [
       "<Figure size 640x480 with 0 Axes>"
      ]
     },
     "metadata": {},
     "output_type": "display_data"
    }
   ],
   "source": [
    "# plotting percentage of endangered species by category\n",
    "plt.figure(figsize=(10, 10))\n",
    "sns.catplot(x = 'category', y = 'percent', \n",
    "            data = percent_in_danger, \n",
    "            kind = 'bar', \n",
    "            aspect =2,\n",
    "            order =percent_in_danger.sort_values('percent', ascending=False).category)\n",
    "\n",
    "plt.xticks(rotation=30)\n",
    "\n",
    "plt.title('Percent of Categories in Danger by Category')\n",
    "plt.savefig('percent_cat_in_danger.png', bbox_inches='tight')\n",
    "plt.show()\n",
    "plt.clf()"
   ]
  },
  {
   "cell_type": "markdown",
   "metadata": {},
   "source": [
    "#### Relation between Category and Conservation Status ####"
   ]
  },
  {
   "cell_type": "code",
   "execution_count": 47,
   "metadata": {},
   "outputs": [
    {
     "data": {
      "text/html": [
       "<div>\n",
       "<style scoped>\n",
       "    .dataframe tbody tr th:only-of-type {\n",
       "        vertical-align: middle;\n",
       "    }\n",
       "\n",
       "    .dataframe tbody tr th {\n",
       "        vertical-align: top;\n",
       "    }\n",
       "\n",
       "    .dataframe thead th {\n",
       "        text-align: right;\n",
       "    }\n",
       "</style>\n",
       "<table border=\"1\" class=\"dataframe\">\n",
       "  <thead>\n",
       "    <tr style=\"text-align: right;\">\n",
       "      <th>category</th>\n",
       "      <th>Mammal</th>\n",
       "      <th>Bird</th>\n",
       "      <th>Reptile</th>\n",
       "      <th>Amphibian</th>\n",
       "      <th>Fish</th>\n",
       "      <th>Vascular Plant</th>\n",
       "      <th>Nonvascular Plant</th>\n",
       "    </tr>\n",
       "    <tr>\n",
       "      <th>conservation_status</th>\n",
       "      <th></th>\n",
       "      <th></th>\n",
       "      <th></th>\n",
       "      <th></th>\n",
       "      <th></th>\n",
       "      <th></th>\n",
       "      <th></th>\n",
       "    </tr>\n",
       "  </thead>\n",
       "  <tbody>\n",
       "    <tr>\n",
       "      <th>Endangered</th>\n",
       "      <td>6</td>\n",
       "      <td>4</td>\n",
       "      <td>0</td>\n",
       "      <td>1</td>\n",
       "      <td>3</td>\n",
       "      <td>1</td>\n",
       "      <td>0</td>\n",
       "    </tr>\n",
       "    <tr>\n",
       "      <th>In Recovery</th>\n",
       "      <td>1</td>\n",
       "      <td>3</td>\n",
       "      <td>0</td>\n",
       "      <td>0</td>\n",
       "      <td>0</td>\n",
       "      <td>0</td>\n",
       "      <td>0</td>\n",
       "    </tr>\n",
       "    <tr>\n",
       "      <th>Species of Concern</th>\n",
       "      <td>22</td>\n",
       "      <td>68</td>\n",
       "      <td>5</td>\n",
       "      <td>4</td>\n",
       "      <td>4</td>\n",
       "      <td>43</td>\n",
       "      <td>5</td>\n",
       "    </tr>\n",
       "    <tr>\n",
       "      <th>Threatened</th>\n",
       "      <td>2</td>\n",
       "      <td>0</td>\n",
       "      <td>0</td>\n",
       "      <td>2</td>\n",
       "      <td>4</td>\n",
       "      <td>2</td>\n",
       "      <td>0</td>\n",
       "    </tr>\n",
       "  </tbody>\n",
       "</table>\n",
       "</div>"
      ],
      "text/plain": [
       "category             Mammal  Bird  Reptile  Amphibian  Fish  Vascular Plant  \\\n",
       "conservation_status                                                           \n",
       "Endangered                6     4        0          1     3               1   \n",
       "In Recovery               1     3        0          0     0               0   \n",
       "Species of Concern       22    68        5          4     4              43   \n",
       "Threatened                2     0        0          2     4               2   \n",
       "\n",
       "category             Nonvascular Plant  \n",
       "conservation_status                     \n",
       "Endangered                           0  \n",
       "In Recovery                          0  \n",
       "Species of Concern                   5  \n",
       "Threatened                           0  "
      ]
     },
     "execution_count": 47,
     "metadata": {},
     "output_type": "execute_result"
    }
   ],
   "source": [
    "# conservation status and categories\n",
    "cat_conservation=species_in_danger.groupby(['category', 'conservation_status']).agg({'scientific_name': 'count'})\n",
    "cat_conservation_pivot = pd.pivot_table(\n",
    "data=cat_conservation,\n",
    "    values= 'scientific_name',\n",
    "index='conservation_status',\n",
    "columns='category',\n",
    "aggfunc='sum')\n",
    "cat_conservation_pivot"
   ]
  },
  {
   "cell_type": "markdown",
   "metadata": {},
   "source": [
    "If we inspect the percentage of species in danger to all species by category, we see that mammals have the largest percent (17.51%), followed by birds (15.36%). The third and 4th positioned categories (amphibians' and fishes) have about 9 % endangered species. Only 1 % of vascular plants is in danger. \n",
    "From that we can say, that maybe mammals and birds are the most endangered categories. However, most of them are \"species of concern\" (68 birds, 22 mammals). Really endangered are 6 mammals and 4 birds of 15 endangered species.  \n",
    "I want to investigate the relation of the two variables category and conservaton status with chi-square tests.\n",
    "From variable conservation status I want to test the values \"in danger' and \"not in danger\", from category \"mammal\" and \"bird\", principally."
   ]
  },
  {
   "cell_type": "markdown",
   "metadata": {},
   "source": [
    "##### Chi-square Tests #####"
   ]
  },
  {
   "cell_type": "code",
   "execution_count": 48,
   "metadata": {},
   "outputs": [
    {
     "data": {
      "text/html": [
       "<div>\n",
       "<style scoped>\n",
       "    .dataframe tbody tr th:only-of-type {\n",
       "        vertical-align: middle;\n",
       "    }\n",
       "\n",
       "    .dataframe tbody tr th {\n",
       "        vertical-align: top;\n",
       "    }\n",
       "\n",
       "    .dataframe thead th {\n",
       "        text-align: right;\n",
       "    }\n",
       "</style>\n",
       "<table border=\"1\" class=\"dataframe\">\n",
       "  <thead>\n",
       "    <tr style=\"text-align: right;\">\n",
       "      <th></th>\n",
       "      <th>category</th>\n",
       "      <th>scientific_name</th>\n",
       "      <th>common_names</th>\n",
       "      <th>conservation_status</th>\n",
       "      <th>in_danger</th>\n",
       "    </tr>\n",
       "  </thead>\n",
       "  <tbody>\n",
       "    <tr>\n",
       "      <th>0</th>\n",
       "      <td>Mammal</td>\n",
       "      <td>Clethrionomys gapperi gapperi</td>\n",
       "      <td>Gapper's Red-Backed Vole</td>\n",
       "      <td>Not Endangered</td>\n",
       "      <td>False</td>\n",
       "    </tr>\n",
       "    <tr>\n",
       "      <th>1</th>\n",
       "      <td>Mammal</td>\n",
       "      <td>Bos bison</td>\n",
       "      <td>American Bison, Bison</td>\n",
       "      <td>Not Endangered</td>\n",
       "      <td>False</td>\n",
       "    </tr>\n",
       "    <tr>\n",
       "      <th>2</th>\n",
       "      <td>Mammal</td>\n",
       "      <td>Bos taurus</td>\n",
       "      <td>Aurochs, Aurochs, Domestic Cattle (Feral), Dom...</td>\n",
       "      <td>Not Endangered</td>\n",
       "      <td>False</td>\n",
       "    </tr>\n",
       "    <tr>\n",
       "      <th>3</th>\n",
       "      <td>Mammal</td>\n",
       "      <td>Ovis aries</td>\n",
       "      <td>Domestic Sheep, Mouflon, Red Sheep, Sheep (Feral)</td>\n",
       "      <td>Not Endangered</td>\n",
       "      <td>False</td>\n",
       "    </tr>\n",
       "    <tr>\n",
       "      <th>4</th>\n",
       "      <td>Mammal</td>\n",
       "      <td>Cervus elaphus</td>\n",
       "      <td>Wapiti Or Elk</td>\n",
       "      <td>Not Endangered</td>\n",
       "      <td>False</td>\n",
       "    </tr>\n",
       "    <tr>\n",
       "      <th>5</th>\n",
       "      <td>Mammal</td>\n",
       "      <td>Odocoileus virginianus</td>\n",
       "      <td>White-Tailed Deer</td>\n",
       "      <td>Not Endangered</td>\n",
       "      <td>False</td>\n",
       "    </tr>\n",
       "    <tr>\n",
       "      <th>6</th>\n",
       "      <td>Mammal</td>\n",
       "      <td>Sus scrofa</td>\n",
       "      <td>Feral Hog, Wild Pig</td>\n",
       "      <td>Not Endangered</td>\n",
       "      <td>False</td>\n",
       "    </tr>\n",
       "    <tr>\n",
       "      <th>7</th>\n",
       "      <td>Mammal</td>\n",
       "      <td>Canis latrans</td>\n",
       "      <td>Coyote</td>\n",
       "      <td>Species of Concern</td>\n",
       "      <td>True</td>\n",
       "    </tr>\n",
       "    <tr>\n",
       "      <th>8</th>\n",
       "      <td>Mammal</td>\n",
       "      <td>Canis lupus</td>\n",
       "      <td>Gray Wolf</td>\n",
       "      <td>Endangered</td>\n",
       "      <td>True</td>\n",
       "    </tr>\n",
       "    <tr>\n",
       "      <th>9</th>\n",
       "      <td>Mammal</td>\n",
       "      <td>Canis rufus</td>\n",
       "      <td>Red Wolf</td>\n",
       "      <td>Endangered</td>\n",
       "      <td>True</td>\n",
       "    </tr>\n",
       "  </tbody>\n",
       "</table>\n",
       "</div>"
      ],
      "text/plain": [
       "  category                scientific_name  \\\n",
       "0   Mammal  Clethrionomys gapperi gapperi   \n",
       "1   Mammal                      Bos bison   \n",
       "2   Mammal                     Bos taurus   \n",
       "3   Mammal                     Ovis aries   \n",
       "4   Mammal                 Cervus elaphus   \n",
       "5   Mammal         Odocoileus virginianus   \n",
       "6   Mammal                     Sus scrofa   \n",
       "7   Mammal                  Canis latrans   \n",
       "8   Mammal                    Canis lupus   \n",
       "9   Mammal                    Canis rufus   \n",
       "\n",
       "                                        common_names conservation_status  \\\n",
       "0                           Gapper's Red-Backed Vole      Not Endangered   \n",
       "1                              American Bison, Bison      Not Endangered   \n",
       "2  Aurochs, Aurochs, Domestic Cattle (Feral), Dom...      Not Endangered   \n",
       "3  Domestic Sheep, Mouflon, Red Sheep, Sheep (Feral)      Not Endangered   \n",
       "4                                      Wapiti Or Elk      Not Endangered   \n",
       "5                                  White-Tailed Deer      Not Endangered   \n",
       "6                                Feral Hog, Wild Pig      Not Endangered   \n",
       "7                                             Coyote  Species of Concern   \n",
       "8                                          Gray Wolf          Endangered   \n",
       "9                                           Red Wolf          Endangered   \n",
       "\n",
       "   in_danger  \n",
       "0      False  \n",
       "1      False  \n",
       "2      False  \n",
       "3      False  \n",
       "4      False  \n",
       "5      False  \n",
       "6      False  \n",
       "7       True  \n",
       "8       True  \n",
       "9       True  "
      ]
     },
     "execution_count": 48,
     "metadata": {},
     "output_type": "execute_result"
    }
   ],
   "source": [
    "# create bool column: in_danger (True if the animal/plant is somehow in danger)\n",
    "species['in_danger']=species.conservation_status.apply(lambda x: False if x == 'Not Endangered' else True)\n",
    "species.head(10)"
   ]
  },
  {
   "cell_type": "code",
   "execution_count": 49,
   "metadata": {},
   "outputs": [
    {
     "data": {
      "text/html": [
       "<div>\n",
       "<style scoped>\n",
       "    .dataframe tbody tr th:only-of-type {\n",
       "        vertical-align: middle;\n",
       "    }\n",
       "\n",
       "    .dataframe tbody tr th {\n",
       "        vertical-align: top;\n",
       "    }\n",
       "\n",
       "    .dataframe thead th {\n",
       "        text-align: right;\n",
       "    }\n",
       "</style>\n",
       "<table border=\"1\" class=\"dataframe\">\n",
       "  <thead>\n",
       "    <tr style=\"text-align: right;\">\n",
       "      <th>in_danger</th>\n",
       "      <th>False</th>\n",
       "      <th>True</th>\n",
       "    </tr>\n",
       "    <tr>\n",
       "      <th>category</th>\n",
       "      <th></th>\n",
       "      <th></th>\n",
       "    </tr>\n",
       "  </thead>\n",
       "  <tbody>\n",
       "    <tr>\n",
       "      <th>Mammal</th>\n",
       "      <td>146</td>\n",
       "      <td>31</td>\n",
       "    </tr>\n",
       "    <tr>\n",
       "      <th>Bird</th>\n",
       "      <td>413</td>\n",
       "      <td>75</td>\n",
       "    </tr>\n",
       "    <tr>\n",
       "      <th>Reptile</th>\n",
       "      <td>73</td>\n",
       "      <td>5</td>\n",
       "    </tr>\n",
       "    <tr>\n",
       "      <th>Amphibian</th>\n",
       "      <td>72</td>\n",
       "      <td>7</td>\n",
       "    </tr>\n",
       "    <tr>\n",
       "      <th>Fish</th>\n",
       "      <td>115</td>\n",
       "      <td>11</td>\n",
       "    </tr>\n",
       "    <tr>\n",
       "      <th>Vascular Plant</th>\n",
       "      <td>4216</td>\n",
       "      <td>46</td>\n",
       "    </tr>\n",
       "    <tr>\n",
       "      <th>Nonvascular Plant</th>\n",
       "      <td>328</td>\n",
       "      <td>5</td>\n",
       "    </tr>\n",
       "  </tbody>\n",
       "</table>\n",
       "</div>"
      ],
      "text/plain": [
       "in_danger          False  True\n",
       "category                      \n",
       "Mammal               146    31\n",
       "Bird                 413    75\n",
       "Reptile               73     5\n",
       "Amphibian             72     7\n",
       "Fish                 115    11\n",
       "Vascular Plant      4216    46\n",
       "Nonvascular Plant    328     5"
      ]
     },
     "execution_count": 49,
     "metadata": {},
     "output_type": "execute_result"
    }
   ],
   "source": [
    "# contingency tables: categories- in_danger in species\n",
    "categories_in_danger_freq= pd.crosstab(species.category, species.in_danger)\n",
    "categories_in_danger_freq"
   ]
  },
  {
   "cell_type": "code",
   "execution_count": 50,
   "metadata": {},
   "outputs": [
    {
     "data": {
      "text/html": [
       "<div>\n",
       "<style scoped>\n",
       "    .dataframe tbody tr th:only-of-type {\n",
       "        vertical-align: middle;\n",
       "    }\n",
       "\n",
       "    .dataframe tbody tr th {\n",
       "        vertical-align: top;\n",
       "    }\n",
       "\n",
       "    .dataframe thead th {\n",
       "        text-align: right;\n",
       "    }\n",
       "</style>\n",
       "<table border=\"1\" class=\"dataframe\">\n",
       "  <thead>\n",
       "    <tr style=\"text-align: right;\">\n",
       "      <th>in_danger</th>\n",
       "      <th>False</th>\n",
       "      <th>True</th>\n",
       "    </tr>\n",
       "    <tr>\n",
       "      <th>category</th>\n",
       "      <th></th>\n",
       "      <th></th>\n",
       "    </tr>\n",
       "  </thead>\n",
       "  <tbody>\n",
       "    <tr>\n",
       "      <th>Mammal</th>\n",
       "      <td>2.633953</td>\n",
       "      <td>0.559264</td>\n",
       "    </tr>\n",
       "    <tr>\n",
       "      <th>Bird</th>\n",
       "      <td>7.450839</td>\n",
       "      <td>1.353058</td>\n",
       "    </tr>\n",
       "    <tr>\n",
       "      <th>Reptile</th>\n",
       "      <td>1.316976</td>\n",
       "      <td>0.090204</td>\n",
       "    </tr>\n",
       "    <tr>\n",
       "      <th>Amphibian</th>\n",
       "      <td>1.298936</td>\n",
       "      <td>0.126285</td>\n",
       "    </tr>\n",
       "    <tr>\n",
       "      <th>Fish</th>\n",
       "      <td>2.074689</td>\n",
       "      <td>0.198448</td>\n",
       "    </tr>\n",
       "    <tr>\n",
       "      <th>Vascular Plant</th>\n",
       "      <td>76.059895</td>\n",
       "      <td>0.829876</td>\n",
       "    </tr>\n",
       "    <tr>\n",
       "      <th>Nonvascular Plant</th>\n",
       "      <td>5.917373</td>\n",
       "      <td>0.090204</td>\n",
       "    </tr>\n",
       "  </tbody>\n",
       "</table>\n",
       "</div>"
      ],
      "text/plain": [
       "in_danger              False      True\n",
       "category                              \n",
       "Mammal              2.633953  0.559264\n",
       "Bird                7.450839  1.353058\n",
       "Reptile             1.316976  0.090204\n",
       "Amphibian           1.298936  0.126285\n",
       "Fish                2.074689  0.198448\n",
       "Vascular Plant     76.059895  0.829876\n",
       "Nonvascular Plant   5.917373  0.090204"
      ]
     },
     "execution_count": 50,
     "metadata": {},
     "output_type": "execute_result"
    }
   ],
   "source": [
    "#proportions\n",
    "categories_in_danger_prop = categories_in_danger_freq/len(species)*100\n",
    "categories_in_danger_prop"
   ]
  },
  {
   "cell_type": "code",
   "execution_count": 51,
   "metadata": {},
   "outputs": [
    {
     "data": {
      "text/plain": [
       "in_danger\n",
       "False    96.752661\n",
       "True      3.247339\n",
       "dtype: float64"
      ]
     },
     "execution_count": 51,
     "metadata": {},
     "output_type": "execute_result"
    }
   ],
   "source": [
    "# marginals - in_danger\n",
    "in_danger_marginals=categories_in_danger_prop.sum(axis=0)\n",
    "in_danger_marginals"
   ]
  },
  {
   "cell_type": "markdown",
   "metadata": {},
   "source": [
    "From the propotional contingency table we can see, that from all species, there are 3 % species in danger, 97 % not.  1% of all species are birds in danger, and 0.65% are mammals in danger."
   ]
  },
  {
   "cell_type": "code",
   "execution_count": 52,
   "metadata": {},
   "outputs": [
    {
     "name": "stdout",
     "output_type": "stream",
     "text": [
      "expected contingency table:\n",
      "[[1.71252210e+02 5.74779001e+00]\n",
      " [4.72152986e+02 1.58470143e+01]\n",
      " [7.54670756e+01 2.53292441e+00]\n",
      " [7.64346022e+01 2.56539780e+00]\n",
      " [1.21908353e+02 4.09164712e+00]\n",
      " [4.12359841e+03 1.38401588e+02]\n",
      " [3.22186361e+02 1.08136388e+01]]\n",
      "chi2 = 432.33404829592416\n",
      "p-value = 3.107572119895922e-90\n"
     ]
    }
   ],
   "source": [
    "# chi2 contingency for all category\n",
    "from scipy.stats import chi2_contingency\n",
    "chi2, pval, dof, expected = chi2_contingency(categories_in_danger_freq)\n",
    "print('expected contingency table:')\n",
    "print(expected)\n",
    "print(f'chi2 = {chi2}')\n",
    "print(f'p-value = {pval}')"
   ]
  },
  {
   "cell_type": "code",
   "execution_count": 53,
   "metadata": {},
   "outputs": [
    {
     "data": {
      "text/html": [
       "<div>\n",
       "<style scoped>\n",
       "    .dataframe tbody tr th:only-of-type {\n",
       "        vertical-align: middle;\n",
       "    }\n",
       "\n",
       "    .dataframe tbody tr th {\n",
       "        vertical-align: top;\n",
       "    }\n",
       "\n",
       "    .dataframe thead th {\n",
       "        text-align: right;\n",
       "    }\n",
       "</style>\n",
       "<table border=\"1\" class=\"dataframe\">\n",
       "  <thead>\n",
       "    <tr style=\"text-align: right;\">\n",
       "      <th></th>\n",
       "      <th>category</th>\n",
       "      <th>observed_false</th>\n",
       "      <th>observed_true</th>\n",
       "      <th>expected_false</th>\n",
       "      <th>expected_true</th>\n",
       "      <th>difference</th>\n",
       "    </tr>\n",
       "  </thead>\n",
       "  <tbody>\n",
       "    <tr>\n",
       "      <th>0</th>\n",
       "      <td>Mammal</td>\n",
       "      <td>146</td>\n",
       "      <td>31</td>\n",
       "      <td>171.252210</td>\n",
       "      <td>5.747790</td>\n",
       "      <td>25.252210</td>\n",
       "    </tr>\n",
       "    <tr>\n",
       "      <th>1</th>\n",
       "      <td>Bird</td>\n",
       "      <td>413</td>\n",
       "      <td>75</td>\n",
       "      <td>472.152986</td>\n",
       "      <td>15.847014</td>\n",
       "      <td>59.152986</td>\n",
       "    </tr>\n",
       "    <tr>\n",
       "      <th>2</th>\n",
       "      <td>Reptile</td>\n",
       "      <td>73</td>\n",
       "      <td>5</td>\n",
       "      <td>75.467076</td>\n",
       "      <td>2.532924</td>\n",
       "      <td>2.467076</td>\n",
       "    </tr>\n",
       "    <tr>\n",
       "      <th>3</th>\n",
       "      <td>Amphibian</td>\n",
       "      <td>72</td>\n",
       "      <td>7</td>\n",
       "      <td>76.434602</td>\n",
       "      <td>2.565398</td>\n",
       "      <td>4.434602</td>\n",
       "    </tr>\n",
       "    <tr>\n",
       "      <th>4</th>\n",
       "      <td>Fish</td>\n",
       "      <td>115</td>\n",
       "      <td>11</td>\n",
       "      <td>121.908353</td>\n",
       "      <td>4.091647</td>\n",
       "      <td>6.908353</td>\n",
       "    </tr>\n",
       "    <tr>\n",
       "      <th>5</th>\n",
       "      <td>Vascular Plant</td>\n",
       "      <td>4216</td>\n",
       "      <td>46</td>\n",
       "      <td>4123.598412</td>\n",
       "      <td>138.401588</td>\n",
       "      <td>-92.401588</td>\n",
       "    </tr>\n",
       "    <tr>\n",
       "      <th>6</th>\n",
       "      <td>Nonvascular Plant</td>\n",
       "      <td>328</td>\n",
       "      <td>5</td>\n",
       "      <td>322.186361</td>\n",
       "      <td>10.813639</td>\n",
       "      <td>-5.813639</td>\n",
       "    </tr>\n",
       "  </tbody>\n",
       "</table>\n",
       "</div>"
      ],
      "text/plain": [
       "            category  observed_false  observed_true  expected_false  \\\n",
       "0             Mammal             146             31      171.252210   \n",
       "1               Bird             413             75      472.152986   \n",
       "2            Reptile              73              5       75.467076   \n",
       "3          Amphibian              72              7       76.434602   \n",
       "4               Fish             115             11      121.908353   \n",
       "5     Vascular Plant            4216             46     4123.598412   \n",
       "6  Nonvascular Plant             328              5      322.186361   \n",
       "\n",
       "   expected_true  difference  \n",
       "0       5.747790   25.252210  \n",
       "1      15.847014   59.152986  \n",
       "2       2.532924    2.467076  \n",
       "3       2.565398    4.434602  \n",
       "4       4.091647    6.908353  \n",
       "5     138.401588  -92.401588  \n",
       "6      10.813639   -5.813639  "
      ]
     },
     "execution_count": 53,
     "metadata": {},
     "output_type": "execute_result"
    }
   ],
   "source": [
    "# comparing expected and observed values\n",
    "# creating df for expected values\n",
    "category=['Mammal', 'Bird', 'Reptile', 'Amphibian', 'Fish', 'Vascular Plant',\n",
    "       'Nonvascular Plant']\n",
    "\n",
    "expected_values=pd.DataFrame(expected, columns=['expected_false', 'expected_true'])\n",
    "expected_values.insert(loc=0, column='category', value=category)\n",
    "expected_values\n",
    "\n",
    "# creating df for observed values\n",
    "categories_in_danger_freq.columns=['observed_false', 'observed_true']\n",
    "categories_in_danger_freq.reset_index(inplace=True)\n",
    "categories_in_danger_freq\n",
    "\n",
    "# merge dfs\n",
    "observed_expected=pd.merge(\n",
    "    left=categories_in_danger_freq, \n",
    "    right=expected_values,\n",
    "    how='inner'\n",
    ")\n",
    "# difference between observed and expected values\n",
    "observed_expected['difference']=observed_expected['expected_false']-observed_expected['observed_false']\n",
    "observed_expected"
   ]
  },
  {
   "cell_type": "markdown",
   "metadata": {},
   "source": [
    "From the table above can be seen the observed values, the expected values which was calculated with the chi2_contingency method, and the differences between the observed and expected values. The largest difference can be observed by vascular plants (92.4), this can be caused by the low proportion of being in danger of vascular plants. The second and third largest differences are by birds (59.15) and mammals (25.25). The smallest difference is by category reptile (2.5).  \n",
    "As next step, I will test mammal vs bird, mammal vs reptile and bird vs reptile to see whether I can see some association between the values. The significant treshold for the p-value is 0.05, for the chi2-value 4. "
   ]
  },
  {
   "cell_type": "markdown",
   "metadata": {},
   "source": [
    "##### Mammal vs Birds #####"
   ]
  },
  {
   "cell_type": "code",
   "execution_count": 54,
   "metadata": {
    "scrolled": false
   },
   "outputs": [
    {
     "name": "stdout",
     "output_type": "stream",
     "text": [
      "expected contingency table:\n",
      "[[148.78646617  28.21353383]\n",
      " [410.21353383  77.78646617]]\n",
      "chi2 = 0.3003887977788037\n",
      "p-value = 0.583638782116612\n"
     ]
    }
   ],
   "source": [
    "# contingency table mammal_bird\n",
    "contingency_mammal_bird=[[146, 31], [413, 75]]\n",
    "chi2, pval, dof, expected = chi2_contingency(contingency_mammal_bird)\n",
    "print('expected contingency table:')\n",
    "print(expected)\n",
    "print(f'chi2 = {chi2}')\n",
    "print(f'p-value = {pval}')"
   ]
  },
  {
   "cell_type": "markdown",
   "metadata": {},
   "source": [
    "The p-value is 0.58 which is much larger than the genereal significance treshold 0.05, so there does not seem to be a relation between birds and mammals being in danger. The chi-square value with 0.3 is also smaller than the in general expected value for 2x2 tables (around 4)."
   ]
  },
  {
   "cell_type": "markdown",
   "metadata": {},
   "source": [
    "##### Mammal vs Reptile #####"
   ]
  },
  {
   "cell_type": "code",
   "execution_count": 55,
   "metadata": {},
   "outputs": [
    {
     "name": "stdout",
     "output_type": "stream",
     "text": [
      "expected contingency table:\n",
      "[[152.01176471  24.98823529]\n",
      " [ 66.98823529  11.01176471]]\n",
      "chi2 = 4.627936545853599\n",
      "p-value = 0.03145537265429932\n"
     ]
    }
   ],
   "source": [
    "# contingency table mammal_reptile\n",
    "contingency_mammal_reptile=[[146, 31], [73, 5]]\n",
    "chi2, pval, dof, expected = chi2_contingency(contingency_mammal_reptile)\n",
    "print('expected contingency table:')\n",
    "print(expected)\n",
    "print(f'chi2 = {chi2}')\n",
    "print(f'p-value = {pval}')"
   ]
  },
  {
   "cell_type": "markdown",
   "metadata": {},
   "source": [
    "The p-value is 0.03 which is smaller than the genereal significance treshold 0.05, the chi-square value with 4.63 is also greater than the in general expected value for 2x2 tables (around 4). It seems to be a relation between mammal and reptile being in danger: mammal have significant greater probability of being in danger than reptile. "
   ]
  },
  {
   "cell_type": "markdown",
   "metadata": {},
   "source": [
    "##### Birds vs Reptile #####"
   ]
  },
  {
   "cell_type": "code",
   "execution_count": 56,
   "metadata": {},
   "outputs": [
    {
     "name": "stdout",
     "output_type": "stream",
     "text": [
      "expected contingency table:\n",
      "[[419.02473498  68.97526502]\n",
      " [ 66.97526502  11.02473498]]\n",
      "chi2 = 3.739654778685496\n",
      "p-value = 0.053135422321542065\n"
     ]
    }
   ],
   "source": [
    "# contingency table bird_reptile\n",
    "contingency_bird_reptile=[[413, 75], [73, 5]]\n",
    "chi2, pval, dof, expected = chi2_contingency(contingency_bird_reptile)\n",
    "print('expected contingency table:')\n",
    "print(expected)\n",
    "print(f'chi2 = {chi2}')\n",
    "print(f'p-value = {pval}')"
   ]
  },
  {
   "cell_type": "markdown",
   "metadata": {},
   "source": [
    "The p-value is in this case 0.053 which is the significance treshold. The chi2-value is 3.74 which is a little bit smaller than 4. The relation between birds and reptile being in danger is maybe significant, but the relation is weak."
   ]
  },
  {
   "cell_type": "markdown",
   "metadata": {},
   "source": [
    "### Inspecting All Data ###"
   ]
  },
  {
   "cell_type": "markdown",
   "metadata": {},
   "source": [
    "In the next section I would like to inspect in wichich national park more endangered species occure. At first, I need to merge both datasets, than clean the merged dataset if needed."
   ]
  },
  {
   "cell_type": "code",
   "execution_count": 57,
   "metadata": {},
   "outputs": [
    {
     "data": {
      "text/html": [
       "<div>\n",
       "<style scoped>\n",
       "    .dataframe tbody tr th:only-of-type {\n",
       "        vertical-align: middle;\n",
       "    }\n",
       "\n",
       "    .dataframe tbody tr th {\n",
       "        vertical-align: top;\n",
       "    }\n",
       "\n",
       "    .dataframe thead th {\n",
       "        text-align: right;\n",
       "    }\n",
       "</style>\n",
       "<table border=\"1\" class=\"dataframe\">\n",
       "  <thead>\n",
       "    <tr style=\"text-align: right;\">\n",
       "      <th></th>\n",
       "      <th>category</th>\n",
       "      <th>scientific_name</th>\n",
       "      <th>common_names</th>\n",
       "      <th>conservation_status</th>\n",
       "      <th>in_danger</th>\n",
       "      <th>park_name</th>\n",
       "      <th>obs_num</th>\n",
       "    </tr>\n",
       "  </thead>\n",
       "  <tbody>\n",
       "    <tr>\n",
       "      <th>0</th>\n",
       "      <td>Mammal</td>\n",
       "      <td>Clethrionomys gapperi gapperi</td>\n",
       "      <td>Gapper's Red-Backed Vole</td>\n",
       "      <td>Not Endangered</td>\n",
       "      <td>False</td>\n",
       "      <td>Bryce</td>\n",
       "      <td>130</td>\n",
       "    </tr>\n",
       "    <tr>\n",
       "      <th>1</th>\n",
       "      <td>Mammal</td>\n",
       "      <td>Clethrionomys gapperi gapperi</td>\n",
       "      <td>Gapper's Red-Backed Vole</td>\n",
       "      <td>Not Endangered</td>\n",
       "      <td>False</td>\n",
       "      <td>Yellowstone</td>\n",
       "      <td>270</td>\n",
       "    </tr>\n",
       "    <tr>\n",
       "      <th>2</th>\n",
       "      <td>Mammal</td>\n",
       "      <td>Clethrionomys gapperi gapperi</td>\n",
       "      <td>Gapper's Red-Backed Vole</td>\n",
       "      <td>Not Endangered</td>\n",
       "      <td>False</td>\n",
       "      <td>Great Smoky Mountains</td>\n",
       "      <td>98</td>\n",
       "    </tr>\n",
       "    <tr>\n",
       "      <th>3</th>\n",
       "      <td>Mammal</td>\n",
       "      <td>Clethrionomys gapperi gapperi</td>\n",
       "      <td>Gapper's Red-Backed Vole</td>\n",
       "      <td>Not Endangered</td>\n",
       "      <td>False</td>\n",
       "      <td>Yosemite</td>\n",
       "      <td>117</td>\n",
       "    </tr>\n",
       "    <tr>\n",
       "      <th>4</th>\n",
       "      <td>Mammal</td>\n",
       "      <td>Bos bison</td>\n",
       "      <td>American Bison, Bison</td>\n",
       "      <td>Not Endangered</td>\n",
       "      <td>False</td>\n",
       "      <td>Yosemite</td>\n",
       "      <td>128</td>\n",
       "    </tr>\n",
       "    <tr>\n",
       "      <th>5</th>\n",
       "      <td>Mammal</td>\n",
       "      <td>Bos bison</td>\n",
       "      <td>American Bison, Bison</td>\n",
       "      <td>Not Endangered</td>\n",
       "      <td>False</td>\n",
       "      <td>Yellowstone</td>\n",
       "      <td>269</td>\n",
       "    </tr>\n",
       "    <tr>\n",
       "      <th>6</th>\n",
       "      <td>Mammal</td>\n",
       "      <td>Bos bison</td>\n",
       "      <td>American Bison, Bison</td>\n",
       "      <td>Not Endangered</td>\n",
       "      <td>False</td>\n",
       "      <td>Bryce</td>\n",
       "      <td>68</td>\n",
       "    </tr>\n",
       "    <tr>\n",
       "      <th>7</th>\n",
       "      <td>Mammal</td>\n",
       "      <td>Bos bison</td>\n",
       "      <td>American Bison, Bison</td>\n",
       "      <td>Not Endangered</td>\n",
       "      <td>False</td>\n",
       "      <td>Great Smoky Mountains</td>\n",
       "      <td>77</td>\n",
       "    </tr>\n",
       "    <tr>\n",
       "      <th>8</th>\n",
       "      <td>Mammal</td>\n",
       "      <td>Bos taurus</td>\n",
       "      <td>Aurochs, Aurochs, Domestic Cattle (Feral), Dom...</td>\n",
       "      <td>Not Endangered</td>\n",
       "      <td>False</td>\n",
       "      <td>Bryce</td>\n",
       "      <td>99</td>\n",
       "    </tr>\n",
       "    <tr>\n",
       "      <th>9</th>\n",
       "      <td>Mammal</td>\n",
       "      <td>Bos taurus</td>\n",
       "      <td>Aurochs, Aurochs, Domestic Cattle (Feral), Dom...</td>\n",
       "      <td>Not Endangered</td>\n",
       "      <td>False</td>\n",
       "      <td>Yosemite</td>\n",
       "      <td>124</td>\n",
       "    </tr>\n",
       "  </tbody>\n",
       "</table>\n",
       "</div>"
      ],
      "text/plain": [
       "  category                scientific_name  \\\n",
       "0   Mammal  Clethrionomys gapperi gapperi   \n",
       "1   Mammal  Clethrionomys gapperi gapperi   \n",
       "2   Mammal  Clethrionomys gapperi gapperi   \n",
       "3   Mammal  Clethrionomys gapperi gapperi   \n",
       "4   Mammal                      Bos bison   \n",
       "5   Mammal                      Bos bison   \n",
       "6   Mammal                      Bos bison   \n",
       "7   Mammal                      Bos bison   \n",
       "8   Mammal                     Bos taurus   \n",
       "9   Mammal                     Bos taurus   \n",
       "\n",
       "                                        common_names conservation_status  \\\n",
       "0                           Gapper's Red-Backed Vole      Not Endangered   \n",
       "1                           Gapper's Red-Backed Vole      Not Endangered   \n",
       "2                           Gapper's Red-Backed Vole      Not Endangered   \n",
       "3                           Gapper's Red-Backed Vole      Not Endangered   \n",
       "4                              American Bison, Bison      Not Endangered   \n",
       "5                              American Bison, Bison      Not Endangered   \n",
       "6                              American Bison, Bison      Not Endangered   \n",
       "7                              American Bison, Bison      Not Endangered   \n",
       "8  Aurochs, Aurochs, Domestic Cattle (Feral), Dom...      Not Endangered   \n",
       "9  Aurochs, Aurochs, Domestic Cattle (Feral), Dom...      Not Endangered   \n",
       "\n",
       "   in_danger              park_name  obs_num  \n",
       "0      False                  Bryce      130  \n",
       "1      False            Yellowstone      270  \n",
       "2      False  Great Smoky Mountains       98  \n",
       "3      False               Yosemite      117  \n",
       "4      False               Yosemite      128  \n",
       "5      False            Yellowstone      269  \n",
       "6      False                  Bryce       68  \n",
       "7      False  Great Smoky Mountains       77  \n",
       "8      False                  Bryce       99  \n",
       "9      False               Yosemite      124  "
      ]
     },
     "execution_count": 57,
     "metadata": {},
     "output_type": "execute_result"
    }
   ],
   "source": [
    "# outer merge species and observations\n",
    "all_data = pd.merge(left=species, right=observations, left_on='scientific_name', right_on='scientific_name', how='outer')\n",
    "all_data.head(10)\n"
   ]
  },
  {
   "cell_type": "code",
   "execution_count": 58,
   "metadata": {},
   "outputs": [
    {
     "name": "stdout",
     "output_type": "stream",
     "text": [
      "<class 'pandas.core.frame.DataFrame'>\n",
      "Int64Index: 23301 entries, 0 to 23300\n",
      "Data columns (total 7 columns):\n",
      " #   Column               Non-Null Count  Dtype   \n",
      "---  ------               --------------  -----   \n",
      " 0   category             23301 non-null  category\n",
      " 1   scientific_name      23301 non-null  object  \n",
      " 2   common_names         23301 non-null  object  \n",
      " 3   conservation_status  23301 non-null  object  \n",
      " 4   in_danger            23301 non-null  bool    \n",
      " 5   park_name            23301 non-null  object  \n",
      " 6   obs_num              23301 non-null  int64   \n",
      "dtypes: bool(1), category(1), int64(1), object(4)\n",
      "memory usage: 1.1+ MB\n"
     ]
    }
   ],
   "source": [
    "all_data.info()"
   ]
  },
  {
   "cell_type": "code",
   "execution_count": 59,
   "metadata": {},
   "outputs": [
    {
     "data": {
      "text/plain": [
       "category  scientific_name  common_names  conservation_status  in_danger  park_name  obs_num\n",
       "False     False            False         False                False      False      False      23301\n",
       "dtype: int64"
      ]
     },
     "execution_count": 59,
     "metadata": {},
     "output_type": "execute_result"
    }
   ],
   "source": [
    "# looking for missing values\n",
    "all_data.isna().value_counts()"
   ]
  },
  {
   "cell_type": "code",
   "execution_count": 60,
   "metadata": {},
   "outputs": [
    {
     "data": {
      "text/plain": [
       "category  scientific_name  common_names  conservation_status  in_danger  park_name  obs_num\n",
       "False     False            False         False                False      False      False      23301\n",
       "dtype: int64"
      ]
     },
     "execution_count": 60,
     "metadata": {},
     "output_type": "execute_result"
    }
   ],
   "source": [
    "all_data.isnull().value_counts()"
   ]
  },
  {
   "cell_type": "code",
   "execution_count": 61,
   "metadata": {},
   "outputs": [
    {
     "data": {
      "text/plain": [
       "False    23301\n",
       "dtype: int64"
      ]
     },
     "execution_count": 61,
     "metadata": {},
     "output_type": "execute_result"
    }
   ],
   "source": [
    "# looking for duplications\n",
    "all_data.duplicated().value_counts()"
   ]
  },
  {
   "cell_type": "markdown",
   "metadata": {},
   "source": [
    "#### In Danger ####"
   ]
  },
  {
   "cell_type": "code",
   "execution_count": 78,
   "metadata": {},
   "outputs": [
    {
     "data": {
      "text/html": [
       "<div>\n",
       "<style scoped>\n",
       "    .dataframe tbody tr th:only-of-type {\n",
       "        vertical-align: middle;\n",
       "    }\n",
       "\n",
       "    .dataframe tbody tr th {\n",
       "        vertical-align: top;\n",
       "    }\n",
       "\n",
       "    .dataframe thead th {\n",
       "        text-align: right;\n",
       "    }\n",
       "</style>\n",
       "<table border=\"1\" class=\"dataframe\">\n",
       "  <thead>\n",
       "    <tr style=\"text-align: right;\">\n",
       "      <th></th>\n",
       "      <th>index</th>\n",
       "      <th>category</th>\n",
       "      <th>scientific_name</th>\n",
       "      <th>common_names</th>\n",
       "      <th>conservation_status</th>\n",
       "      <th>in_danger</th>\n",
       "      <th>park_name</th>\n",
       "      <th>obs_num</th>\n",
       "    </tr>\n",
       "  </thead>\n",
       "  <tbody>\n",
       "    <tr>\n",
       "      <th>0</th>\n",
       "      <td>40</td>\n",
       "      <td>Mammal</td>\n",
       "      <td>Canis latrans</td>\n",
       "      <td>Coyote</td>\n",
       "      <td>Species of Concern</td>\n",
       "      <td>True</td>\n",
       "      <td>Bryce</td>\n",
       "      <td>85</td>\n",
       "    </tr>\n",
       "    <tr>\n",
       "      <th>1</th>\n",
       "      <td>41</td>\n",
       "      <td>Mammal</td>\n",
       "      <td>Canis latrans</td>\n",
       "      <td>Coyote</td>\n",
       "      <td>Species of Concern</td>\n",
       "      <td>True</td>\n",
       "      <td>Yellowstone</td>\n",
       "      <td>206</td>\n",
       "    </tr>\n",
       "    <tr>\n",
       "      <th>2</th>\n",
       "      <td>42</td>\n",
       "      <td>Mammal</td>\n",
       "      <td>Canis latrans</td>\n",
       "      <td>Coyote</td>\n",
       "      <td>Species of Concern</td>\n",
       "      <td>True</td>\n",
       "      <td>Great Smoky Mountains</td>\n",
       "      <td>68</td>\n",
       "    </tr>\n",
       "    <tr>\n",
       "      <th>3</th>\n",
       "      <td>43</td>\n",
       "      <td>Mammal</td>\n",
       "      <td>Canis latrans</td>\n",
       "      <td>Coyote</td>\n",
       "      <td>Species of Concern</td>\n",
       "      <td>True</td>\n",
       "      <td>Yosemite</td>\n",
       "      <td>99</td>\n",
       "    </tr>\n",
       "    <tr>\n",
       "      <th>4</th>\n",
       "      <td>44</td>\n",
       "      <td>Mammal</td>\n",
       "      <td>Canis lupus</td>\n",
       "      <td>Gray Wolf</td>\n",
       "      <td>Endangered</td>\n",
       "      <td>True</td>\n",
       "      <td>Yosemite</td>\n",
       "      <td>35</td>\n",
       "    </tr>\n",
       "    <tr>\n",
       "      <th>5</th>\n",
       "      <td>45</td>\n",
       "      <td>Mammal</td>\n",
       "      <td>Canis lupus</td>\n",
       "      <td>Gray Wolf</td>\n",
       "      <td>Endangered</td>\n",
       "      <td>True</td>\n",
       "      <td>Bryce</td>\n",
       "      <td>27</td>\n",
       "    </tr>\n",
       "    <tr>\n",
       "      <th>6</th>\n",
       "      <td>46</td>\n",
       "      <td>Mammal</td>\n",
       "      <td>Canis lupus</td>\n",
       "      <td>Gray Wolf</td>\n",
       "      <td>Endangered</td>\n",
       "      <td>True</td>\n",
       "      <td>Bryce</td>\n",
       "      <td>29</td>\n",
       "    </tr>\n",
       "    <tr>\n",
       "      <th>7</th>\n",
       "      <td>47</td>\n",
       "      <td>Mammal</td>\n",
       "      <td>Canis lupus</td>\n",
       "      <td>Gray Wolf</td>\n",
       "      <td>Endangered</td>\n",
       "      <td>True</td>\n",
       "      <td>Bryce</td>\n",
       "      <td>74</td>\n",
       "    </tr>\n",
       "    <tr>\n",
       "      <th>8</th>\n",
       "      <td>48</td>\n",
       "      <td>Mammal</td>\n",
       "      <td>Canis lupus</td>\n",
       "      <td>Gray Wolf</td>\n",
       "      <td>Endangered</td>\n",
       "      <td>True</td>\n",
       "      <td>Great Smoky Mountains</td>\n",
       "      <td>15</td>\n",
       "    </tr>\n",
       "    <tr>\n",
       "      <th>9</th>\n",
       "      <td>49</td>\n",
       "      <td>Mammal</td>\n",
       "      <td>Canis lupus</td>\n",
       "      <td>Gray Wolf</td>\n",
       "      <td>Endangered</td>\n",
       "      <td>True</td>\n",
       "      <td>Yellowstone</td>\n",
       "      <td>60</td>\n",
       "    </tr>\n",
       "    <tr>\n",
       "      <th>10</th>\n",
       "      <td>50</td>\n",
       "      <td>Mammal</td>\n",
       "      <td>Canis lupus</td>\n",
       "      <td>Gray Wolf</td>\n",
       "      <td>Endangered</td>\n",
       "      <td>True</td>\n",
       "      <td>Yellowstone</td>\n",
       "      <td>67</td>\n",
       "    </tr>\n",
       "    <tr>\n",
       "      <th>11</th>\n",
       "      <td>51</td>\n",
       "      <td>Mammal</td>\n",
       "      <td>Canis lupus</td>\n",
       "      <td>Gray Wolf</td>\n",
       "      <td>Endangered</td>\n",
       "      <td>True</td>\n",
       "      <td>Yellowstone</td>\n",
       "      <td>203</td>\n",
       "    </tr>\n",
       "    <tr>\n",
       "      <th>12</th>\n",
       "      <td>52</td>\n",
       "      <td>Mammal</td>\n",
       "      <td>Canis lupus</td>\n",
       "      <td>Gray Wolf</td>\n",
       "      <td>Endangered</td>\n",
       "      <td>True</td>\n",
       "      <td>Great Smoky Mountains</td>\n",
       "      <td>14</td>\n",
       "    </tr>\n",
       "    <tr>\n",
       "      <th>13</th>\n",
       "      <td>53</td>\n",
       "      <td>Mammal</td>\n",
       "      <td>Canis lupus</td>\n",
       "      <td>Gray Wolf</td>\n",
       "      <td>Endangered</td>\n",
       "      <td>True</td>\n",
       "      <td>Yosemite</td>\n",
       "      <td>117</td>\n",
       "    </tr>\n",
       "    <tr>\n",
       "      <th>14</th>\n",
       "      <td>54</td>\n",
       "      <td>Mammal</td>\n",
       "      <td>Canis lupus</td>\n",
       "      <td>Gray Wolf</td>\n",
       "      <td>Endangered</td>\n",
       "      <td>True</td>\n",
       "      <td>Yosemite</td>\n",
       "      <td>44</td>\n",
       "    </tr>\n",
       "    <tr>\n",
       "      <th>15</th>\n",
       "      <td>55</td>\n",
       "      <td>Mammal</td>\n",
       "      <td>Canis lupus</td>\n",
       "      <td>Gray Wolf</td>\n",
       "      <td>Endangered</td>\n",
       "      <td>True</td>\n",
       "      <td>Great Smoky Mountains</td>\n",
       "      <td>30</td>\n",
       "    </tr>\n",
       "    <tr>\n",
       "      <th>16</th>\n",
       "      <td>56</td>\n",
       "      <td>Mammal</td>\n",
       "      <td>Canis lupus</td>\n",
       "      <td>Gray Wolf, Wolf</td>\n",
       "      <td>In Recovery</td>\n",
       "      <td>True</td>\n",
       "      <td>Yosemite</td>\n",
       "      <td>35</td>\n",
       "    </tr>\n",
       "    <tr>\n",
       "      <th>17</th>\n",
       "      <td>57</td>\n",
       "      <td>Mammal</td>\n",
       "      <td>Canis lupus</td>\n",
       "      <td>Gray Wolf, Wolf</td>\n",
       "      <td>In Recovery</td>\n",
       "      <td>True</td>\n",
       "      <td>Bryce</td>\n",
       "      <td>27</td>\n",
       "    </tr>\n",
       "    <tr>\n",
       "      <th>18</th>\n",
       "      <td>58</td>\n",
       "      <td>Mammal</td>\n",
       "      <td>Canis lupus</td>\n",
       "      <td>Gray Wolf, Wolf</td>\n",
       "      <td>In Recovery</td>\n",
       "      <td>True</td>\n",
       "      <td>Bryce</td>\n",
       "      <td>29</td>\n",
       "    </tr>\n",
       "    <tr>\n",
       "      <th>19</th>\n",
       "      <td>59</td>\n",
       "      <td>Mammal</td>\n",
       "      <td>Canis lupus</td>\n",
       "      <td>Gray Wolf, Wolf</td>\n",
       "      <td>In Recovery</td>\n",
       "      <td>True</td>\n",
       "      <td>Bryce</td>\n",
       "      <td>74</td>\n",
       "    </tr>\n",
       "  </tbody>\n",
       "</table>\n",
       "</div>"
      ],
      "text/plain": [
       "    index category scientific_name     common_names conservation_status  \\\n",
       "0      40   Mammal   Canis latrans           Coyote  Species of Concern   \n",
       "1      41   Mammal   Canis latrans           Coyote  Species of Concern   \n",
       "2      42   Mammal   Canis latrans           Coyote  Species of Concern   \n",
       "3      43   Mammal   Canis latrans           Coyote  Species of Concern   \n",
       "4      44   Mammal     Canis lupus        Gray Wolf          Endangered   \n",
       "5      45   Mammal     Canis lupus        Gray Wolf          Endangered   \n",
       "6      46   Mammal     Canis lupus        Gray Wolf          Endangered   \n",
       "7      47   Mammal     Canis lupus        Gray Wolf          Endangered   \n",
       "8      48   Mammal     Canis lupus        Gray Wolf          Endangered   \n",
       "9      49   Mammal     Canis lupus        Gray Wolf          Endangered   \n",
       "10     50   Mammal     Canis lupus        Gray Wolf          Endangered   \n",
       "11     51   Mammal     Canis lupus        Gray Wolf          Endangered   \n",
       "12     52   Mammal     Canis lupus        Gray Wolf          Endangered   \n",
       "13     53   Mammal     Canis lupus        Gray Wolf          Endangered   \n",
       "14     54   Mammal     Canis lupus        Gray Wolf          Endangered   \n",
       "15     55   Mammal     Canis lupus        Gray Wolf          Endangered   \n",
       "16     56   Mammal     Canis lupus  Gray Wolf, Wolf         In Recovery   \n",
       "17     57   Mammal     Canis lupus  Gray Wolf, Wolf         In Recovery   \n",
       "18     58   Mammal     Canis lupus  Gray Wolf, Wolf         In Recovery   \n",
       "19     59   Mammal     Canis lupus  Gray Wolf, Wolf         In Recovery   \n",
       "\n",
       "    in_danger              park_name  obs_num  \n",
       "0        True                  Bryce       85  \n",
       "1        True            Yellowstone      206  \n",
       "2        True  Great Smoky Mountains       68  \n",
       "3        True               Yosemite       99  \n",
       "4        True               Yosemite       35  \n",
       "5        True                  Bryce       27  \n",
       "6        True                  Bryce       29  \n",
       "7        True                  Bryce       74  \n",
       "8        True  Great Smoky Mountains       15  \n",
       "9        True            Yellowstone       60  \n",
       "10       True            Yellowstone       67  \n",
       "11       True            Yellowstone      203  \n",
       "12       True  Great Smoky Mountains       14  \n",
       "13       True               Yosemite      117  \n",
       "14       True               Yosemite       44  \n",
       "15       True  Great Smoky Mountains       30  \n",
       "16       True               Yosemite       35  \n",
       "17       True                  Bryce       27  \n",
       "18       True                  Bryce       29  \n",
       "19       True                  Bryce       74  "
      ]
     },
     "execution_count": 78,
     "metadata": {},
     "output_type": "execute_result"
    }
   ],
   "source": [
    "# create a df for species in somehow danger\n",
    "all_data_in_danger = all_data[all_data.conservation_status!='Not Endangered'].reset_index()\n",
    "all_data_in_danger.head(20)"
   ]
  },
  {
   "cell_type": "code",
   "execution_count": 80,
   "metadata": {},
   "outputs": [
    {
     "name": "stdout",
     "output_type": "stream",
     "text": [
      "<class 'pandas.core.frame.DataFrame'>\n",
      "RangeIndex: 780 entries, 0 to 779\n",
      "Data columns (total 8 columns):\n",
      " #   Column               Non-Null Count  Dtype   \n",
      "---  ------               --------------  -----   \n",
      " 0   index                780 non-null    int64   \n",
      " 1   category             780 non-null    category\n",
      " 2   scientific_name      780 non-null    object  \n",
      " 3   common_names         780 non-null    object  \n",
      " 4   conservation_status  780 non-null    object  \n",
      " 5   in_danger            780 non-null    bool    \n",
      " 6   park_name            780 non-null    object  \n",
      " 7   obs_num              780 non-null    int64   \n",
      "dtypes: bool(1), category(1), int64(2), object(4)\n",
      "memory usage: 38.6+ KB\n"
     ]
    }
   ],
   "source": [
    "all_data_in_danger.info()"
   ]
  },
  {
   "cell_type": "markdown",
   "metadata": {},
   "source": [
    "In the merged dataframe there are 25601 records, from which 880 records have a kind of endangered conservation status."
   ]
  },
  {
   "cell_type": "markdown",
   "metadata": {},
   "source": [
    "#### Inspecting Number of Observation ####"
   ]
  },
  {
   "cell_type": "code",
   "execution_count": 161,
   "metadata": {},
   "outputs": [
    {
     "data": {
      "image/png": "[encoded data removed]",
      "text/plain": [
       "<Figure size 640x480 with 1 Axes>"
      ]
     },
     "metadata": {},
     "output_type": "display_data"
    },
    {
     "data": {
      "text/plain": [
       "<Figure size 640x480 with 0 Axes>"
      ]
     },
     "metadata": {},
     "output_type": "display_data"
    }
   ],
   "source": [
    "plt.hist(all_data_in_danger.obs_num)\n",
    "plt.title('Distribution of Observation of Species in Danger')\n",
    "plt.ylabel('Number of Observations')\n",
    "plt.savefig('dist_obs_num.png', bbox_inches='tight')\n",
    "plt.show()\n",
    "plt.clf()"
   ]
  },
  {
   "cell_type": "markdown",
   "metadata": {},
   "source": [
    "The distribution is right-skewed, has two peaks, one between 50 and 100, the number of observations is 175, one at around 230, where the number of observations is around 80."
   ]
  },
  {
   "cell_type": "code",
   "execution_count": 81,
   "metadata": {},
   "outputs": [
    {
     "name": "stdout",
     "output_type": "stream",
     "text": [
      "park_name\n",
      "Bryce                    16393\n",
      "Great Smoky Mountains    11336\n",
      "Yellowstone              39365\n",
      "Yosemite                 23729\n",
      "Name: obs_num, dtype: int64\n"
     ]
    }
   ],
   "source": [
    "# observations in parks\n",
    "obs_park = all_data_in_danger.groupby('park_name').obs_num.sum()\n",
    "print(obs_park)"
   ]
  },
  {
   "cell_type": "code",
   "execution_count": 159,
   "metadata": {},
   "outputs": [
    {
     "data": {
      "image/png": "[encoded data removed]",
      "text/plain": [
       "<Figure size 640x480 with 1 Axes>"
      ]
     },
     "metadata": {},
     "output_type": "display_data"
    },
    {
     "data": {
      "text/plain": [
       "<Figure size 640x480 with 0 Axes>"
      ]
     },
     "metadata": {},
     "output_type": "display_data"
    }
   ],
   "source": [
    "obs_park.plot(kind='bar', color='green')\n",
    "plt.title('Number of Observations of Species in Danger in National Parks')\n",
    "plt.xticks(rotation=20)\n",
    "plt.xlabel('National Park')\n",
    "plt.ylabel('Number of Observations')\n",
    "plt.savefig('obs_parks.png', bbox_inches='tight')\n",
    "plt.show()\n",
    "plt.clf()"
   ]
  },
  {
   "cell_type": "markdown",
   "metadata": {},
   "source": [
    "The most observations was reported from Yellowstone National Park (39365). From the other parks come around the half of this observations or less than the half: 23729 from Yosemite National Park.    "
   ]
  },
  {
   "cell_type": "markdown",
   "metadata": {},
   "source": [
    "##### Observations by Categories #####"
   ]
  },
  {
   "cell_type": "code",
   "execution_count": 83,
   "metadata": {},
   "outputs": [
    {
     "name": "stdout",
     "output_type": "stream",
     "text": [
      "category\n",
      "Mammal               17164\n",
      "Bird                 38608\n",
      "Reptile               2536\n",
      "Amphibian             2752\n",
      "Fish                  4209\n",
      "Vascular Plant       22849\n",
      "Nonvascular Plant     2705\n",
      "Name: obs_num, dtype: int64\n"
     ]
    }
   ],
   "source": [
    "# observation numbers of categories\n",
    "obs_category = all_data_in_danger.groupby('category').obs_num.sum()\n",
    "print(obs_category)"
   ]
  },
  {
   "cell_type": "code",
   "execution_count": 84,
   "metadata": {},
   "outputs": [
    {
     "data": {
      "image/png": "[encoded data removed]",
      "text/plain": [
       "<Figure size 640x480 with 1 Axes>"
      ]
     },
     "metadata": {},
     "output_type": "display_data"
    },
    {
     "data": {
      "text/plain": [
       "<Figure size 640x480 with 0 Axes>"
      ]
     },
     "metadata": {},
     "output_type": "display_data"
    }
   ],
   "source": [
    "obs_category.plot(kind='bar', color='red')\n",
    "plt.title('Number of Observations of Species in Danger by Categories')\n",
    "plt.xticks(rotation=20)\n",
    "plt.xlabel('Categories')\n",
    "plt.ylabel('Number of Observations')\n",
    "plt.show()\n",
    "plt.clf()"
   ]
  },
  {
   "cell_type": "markdown",
   "metadata": {},
   "source": [
    "Among endangered species the most observation referred to birds, followed by mammals and vascular plants. The other categories had a lot less observations."
   ]
  },
  {
   "cell_type": "markdown",
   "metadata": {},
   "source": [
    "#### National Parks ####"
   ]
  },
  {
   "cell_type": "code",
   "execution_count": 85,
   "metadata": {},
   "outputs": [
    {
     "data": {
      "text/plain": [
       "Bryce                    195\n",
       "Yellowstone              195\n",
       "Great Smoky Mountains    195\n",
       "Yosemite                 195\n",
       "Name: park_name, dtype: int64"
      ]
     },
     "execution_count": 85,
     "metadata": {},
     "output_type": "execute_result"
    }
   ],
   "source": [
    "all_data_in_danger.park_name.value_counts()"
   ]
  },
  {
   "cell_type": "code",
   "execution_count": 86,
   "metadata": {},
   "outputs": [
    {
     "data": {
      "text/html": [
       "<div>\n",
       "<style scoped>\n",
       "    .dataframe tbody tr th:only-of-type {\n",
       "        vertical-align: middle;\n",
       "    }\n",
       "\n",
       "    .dataframe tbody tr th {\n",
       "        vertical-align: top;\n",
       "    }\n",
       "\n",
       "    .dataframe thead th {\n",
       "        text-align: right;\n",
       "    }\n",
       "</style>\n",
       "<table border=\"1\" class=\"dataframe\">\n",
       "  <thead>\n",
       "    <tr style=\"text-align: right;\">\n",
       "      <th>category</th>\n",
       "      <th>Mammal</th>\n",
       "      <th>Bird</th>\n",
       "      <th>Reptile</th>\n",
       "      <th>Amphibian</th>\n",
       "      <th>Fish</th>\n",
       "      <th>Vascular Plant</th>\n",
       "      <th>Nonvascular Plant</th>\n",
       "    </tr>\n",
       "    <tr>\n",
       "      <th>park_name</th>\n",
       "      <th></th>\n",
       "      <th></th>\n",
       "      <th></th>\n",
       "      <th></th>\n",
       "      <th></th>\n",
       "      <th></th>\n",
       "      <th></th>\n",
       "    </tr>\n",
       "  </thead>\n",
       "  <tbody>\n",
       "    <tr>\n",
       "      <th>Bryce</th>\n",
       "      <td>3167</td>\n",
       "      <td>6926</td>\n",
       "      <td>387</td>\n",
       "      <td>498</td>\n",
       "      <td>731</td>\n",
       "      <td>4198</td>\n",
       "      <td>486</td>\n",
       "    </tr>\n",
       "    <tr>\n",
       "      <th>Great Smoky Mountains</th>\n",
       "      <td>2027</td>\n",
       "      <td>4741</td>\n",
       "      <td>365</td>\n",
       "      <td>333</td>\n",
       "      <td>547</td>\n",
       "      <td>2950</td>\n",
       "      <td>373</td>\n",
       "    </tr>\n",
       "    <tr>\n",
       "      <th>Yellowstone</th>\n",
       "      <td>7550</td>\n",
       "      <td>16788</td>\n",
       "      <td>1100</td>\n",
       "      <td>1167</td>\n",
       "      <td>1875</td>\n",
       "      <td>9716</td>\n",
       "      <td>1169</td>\n",
       "    </tr>\n",
       "    <tr>\n",
       "      <th>Yosemite</th>\n",
       "      <td>4420</td>\n",
       "      <td>10153</td>\n",
       "      <td>684</td>\n",
       "      <td>754</td>\n",
       "      <td>1056</td>\n",
       "      <td>5985</td>\n",
       "      <td>677</td>\n",
       "    </tr>\n",
       "  </tbody>\n",
       "</table>\n",
       "</div>"
      ],
      "text/plain": [
       "category               Mammal   Bird  Reptile  Amphibian  Fish  \\\n",
       "park_name                                                        \n",
       "Bryce                    3167   6926      387        498   731   \n",
       "Great Smoky Mountains    2027   4741      365        333   547   \n",
       "Yellowstone              7550  16788     1100       1167  1875   \n",
       "Yosemite                 4420  10153      684        754  1056   \n",
       "\n",
       "category               Vascular Plant  Nonvascular Plant  \n",
       "park_name                                                 \n",
       "Bryce                            4198                486  \n",
       "Great Smoky Mountains            2950                373  \n",
       "Yellowstone                      9716               1169  \n",
       "Yosemite                         5985                677  "
      ]
     },
     "execution_count": 86,
     "metadata": {},
     "output_type": "execute_result"
    }
   ],
   "source": [
    "# number of observations of species in danger in national parks by categories\n",
    "categories_in_parks = all_data_in_danger.groupby(['park_name', 'category']).agg({'obs_num': 'sum'})\n",
    "\n",
    "categories_in_parks_pivot= pd.pivot_table(\n",
    "    data=categories_in_parks,\n",
    "    values='obs_num',\n",
    "    index='park_name',\n",
    "    columns='category',\n",
    ")\n",
    "categories_in_parks_pivot"
   ]
  },
  {
   "cell_type": "code",
   "execution_count": 88,
   "metadata": {},
   "outputs": [
    {
     "data": {
      "text/html": [
       "<div>\n",
       "<style scoped>\n",
       "    .dataframe tbody tr th:only-of-type {\n",
       "        vertical-align: middle;\n",
       "    }\n",
       "\n",
       "    .dataframe tbody tr th {\n",
       "        vertical-align: top;\n",
       "    }\n",
       "\n",
       "    .dataframe thead th {\n",
       "        text-align: right;\n",
       "    }\n",
       "</style>\n",
       "<table border=\"1\" class=\"dataframe\">\n",
       "  <thead>\n",
       "    <tr style=\"text-align: right;\">\n",
       "      <th></th>\n",
       "      <th>park_name</th>\n",
       "      <th>not_in_danger</th>\n",
       "      <th>in_danger</th>\n",
       "      <th>percent</th>\n",
       "    </tr>\n",
       "  </thead>\n",
       "  <tbody>\n",
       "    <tr>\n",
       "      <th>0</th>\n",
       "      <td>Bryce</td>\n",
       "      <td>559802</td>\n",
       "      <td>16393</td>\n",
       "      <td>2.928357</td>\n",
       "    </tr>\n",
       "    <tr>\n",
       "      <th>1</th>\n",
       "      <td>Great Smoky Mountains</td>\n",
       "      <td>420201</td>\n",
       "      <td>11336</td>\n",
       "      <td>2.697757</td>\n",
       "    </tr>\n",
       "    <tr>\n",
       "      <th>2</th>\n",
       "      <td>Yellowstone</td>\n",
       "      <td>1403651</td>\n",
       "      <td>39365</td>\n",
       "      <td>2.804472</td>\n",
       "    </tr>\n",
       "    <tr>\n",
       "      <th>3</th>\n",
       "      <td>Yosemite</td>\n",
       "      <td>839480</td>\n",
       "      <td>23729</td>\n",
       "      <td>2.826631</td>\n",
       "    </tr>\n",
       "  </tbody>\n",
       "</table>\n",
       "</div>"
      ],
      "text/plain": [
       "               park_name  not_in_danger  in_danger   percent\n",
       "0                  Bryce         559802      16393  2.928357\n",
       "1  Great Smoky Mountains         420201      11336  2.697757\n",
       "2            Yellowstone        1403651      39365  2.804472\n",
       "3               Yosemite         839480      23729  2.826631"
      ]
     },
     "execution_count": 88,
     "metadata": {},
     "output_type": "execute_result"
    }
   ],
   "source": [
    "park_obs=all_data.groupby(['park_name', 'in_danger']).agg({'obs_num': 'sum'})\n",
    "park_obs_pivot=pd.pivot_table(\n",
    "data=park_obs,\n",
    "columns='in_danger',\n",
    "index='park_name',\n",
    "values='obs_num')\n",
    "\n",
    "park_obs_pivot.columns=['not_in_danger', 'in_danger']\n",
    "park_obs_pivot.reset_index()\n",
    "park_obs_pivot['percent']=park_obs_pivot['in_danger']/park_obs_pivot['not_in_danger']*100\n",
    "park_obs_pivot.reset_index(inplace=True)\n",
    "park_obs_pivot"
   ]
  },
  {
   "cell_type": "markdown",
   "metadata": {},
   "source": [
    "The percent of observing of species in danger to those which are not in danger is the biggest in Bryce National Park (2.92 %). However, there is a small difference to the other parks (Yosemite National Park is the second with 2.83 %).  \n",
    "As next step, I would like to focus on three grades of conservation status: all - in danger - endangered."
   ]
  },
  {
   "cell_type": "markdown",
   "metadata": {},
   "source": [
    "##### Observations of Species in (endangered/ in danger/not in danger) Status in Parks"
   ]
  },
  {
   "cell_type": "code",
   "execution_count": 160,
   "metadata": {},
   "outputs": [
    {
     "data": {
      "text/html": [
       "<div>\n",
       "<style scoped>\n",
       "    .dataframe tbody tr th:only-of-type {\n",
       "        vertical-align: middle;\n",
       "    }\n",
       "\n",
       "    .dataframe tbody tr th {\n",
       "        vertical-align: top;\n",
       "    }\n",
       "\n",
       "    .dataframe thead th {\n",
       "        text-align: right;\n",
       "    }\n",
       "</style>\n",
       "<table border=\"1\" class=\"dataframe\">\n",
       "  <thead>\n",
       "    <tr style=\"text-align: right;\">\n",
       "      <th></th>\n",
       "      <th>category</th>\n",
       "      <th>scientific_name</th>\n",
       "      <th>common_names</th>\n",
       "      <th>conservation_status</th>\n",
       "      <th>in_danger</th>\n",
       "      <th>park_name</th>\n",
       "      <th>obs_num</th>\n",
       "    </tr>\n",
       "  </thead>\n",
       "  <tbody>\n",
       "    <tr>\n",
       "      <th>44</th>\n",
       "      <td>Mammal</td>\n",
       "      <td>Canis lupus</td>\n",
       "      <td>Gray Wolf</td>\n",
       "      <td>Endangered</td>\n",
       "      <td>True</td>\n",
       "      <td>Yosemite</td>\n",
       "      <td>35</td>\n",
       "    </tr>\n",
       "    <tr>\n",
       "      <th>45</th>\n",
       "      <td>Mammal</td>\n",
       "      <td>Canis lupus</td>\n",
       "      <td>Gray Wolf</td>\n",
       "      <td>Endangered</td>\n",
       "      <td>True</td>\n",
       "      <td>Bryce</td>\n",
       "      <td>27</td>\n",
       "    </tr>\n",
       "    <tr>\n",
       "      <th>46</th>\n",
       "      <td>Mammal</td>\n",
       "      <td>Canis lupus</td>\n",
       "      <td>Gray Wolf</td>\n",
       "      <td>Endangered</td>\n",
       "      <td>True</td>\n",
       "      <td>Bryce</td>\n",
       "      <td>29</td>\n",
       "    </tr>\n",
       "    <tr>\n",
       "      <th>47</th>\n",
       "      <td>Mammal</td>\n",
       "      <td>Canis lupus</td>\n",
       "      <td>Gray Wolf</td>\n",
       "      <td>Endangered</td>\n",
       "      <td>True</td>\n",
       "      <td>Bryce</td>\n",
       "      <td>74</td>\n",
       "    </tr>\n",
       "    <tr>\n",
       "      <th>48</th>\n",
       "      <td>Mammal</td>\n",
       "      <td>Canis lupus</td>\n",
       "      <td>Gray Wolf</td>\n",
       "      <td>Endangered</td>\n",
       "      <td>True</td>\n",
       "      <td>Great Smoky Mountains</td>\n",
       "      <td>15</td>\n",
       "    </tr>\n",
       "  </tbody>\n",
       "</table>\n",
       "</div>"
      ],
      "text/plain": [
       "   category scientific_name common_names conservation_status  in_danger  \\\n",
       "44   Mammal     Canis lupus    Gray Wolf          Endangered       True   \n",
       "45   Mammal     Canis lupus    Gray Wolf          Endangered       True   \n",
       "46   Mammal     Canis lupus    Gray Wolf          Endangered       True   \n",
       "47   Mammal     Canis lupus    Gray Wolf          Endangered       True   \n",
       "48   Mammal     Canis lupus    Gray Wolf          Endangered       True   \n",
       "\n",
       "                park_name  obs_num  \n",
       "44               Yosemite       35  \n",
       "45                  Bryce       27  \n",
       "46                  Bryce       29  \n",
       "47                  Bryce       74  \n",
       "48  Great Smoky Mountains       15  "
      ]
     },
     "execution_count": 160,
     "metadata": {},
     "output_type": "execute_result"
    }
   ],
   "source": [
    "# creating df for endangered obsevations\n",
    "all_data_endangered=all_data[all_data['conservation_status']=='Endangered']\n",
    "all_data_endangered.head()"
   ]
  },
  {
   "cell_type": "code",
   "execution_count": 92,
   "metadata": {},
   "outputs": [
    {
     "data": {
      "text/plain": [
       "park_name\n",
       "Bryce                     576195\n",
       "Great Smoky Mountains     431537\n",
       "Yellowstone              1443016\n",
       "Yosemite                  863209\n",
       "Name: obs_num, dtype: int64"
      ]
     },
     "execution_count": 92,
     "metadata": {},
     "output_type": "execute_result"
    }
   ],
   "source": [
    "all_obs_park=all_data.groupby('park_name').obs_num.sum()\n",
    "all_obs_park.columns"
   ]
  },
  {
   "cell_type": "code",
   "execution_count": 93,
   "metadata": {},
   "outputs": [
    {
     "data": {
      "text/plain": [
       "park_name\n",
       "Bryce                     489\n",
       "Great Smoky Mountains     334\n",
       "Yellowstone              1228\n",
       "Yosemite                  747\n",
       "Name: obs_num, dtype: int64"
      ]
     },
     "execution_count": 93,
     "metadata": {},
     "output_type": "execute_result"
    }
   ],
   "source": [
    "endangered_obs_park=all_data_endangered.groupby('park_name').obs_num.sum()\n",
    "endangered_obs_park"
   ]
  },
  {
   "cell_type": "code",
   "execution_count": 156,
   "metadata": {},
   "outputs": [
    {
     "data": {
      "text/html": [
       "<div>\n",
       "<style scoped>\n",
       "    .dataframe tbody tr th:only-of-type {\n",
       "        vertical-align: middle;\n",
       "    }\n",
       "\n",
       "    .dataframe tbody tr th {\n",
       "        vertical-align: top;\n",
       "    }\n",
       "\n",
       "    .dataframe thead th {\n",
       "        text-align: right;\n",
       "    }\n",
       "</style>\n",
       "<table border=\"1\" class=\"dataframe\">\n",
       "  <thead>\n",
       "    <tr style=\"text-align: right;\">\n",
       "      <th></th>\n",
       "      <th>park_name</th>\n",
       "      <th>all</th>\n",
       "      <th>in_danger</th>\n",
       "      <th>endangered</th>\n",
       "      <th>percent_all</th>\n",
       "      <th>percent_in_danger</th>\n",
       "      <th>percent_endangered</th>\n",
       "    </tr>\n",
       "  </thead>\n",
       "  <tbody>\n",
       "    <tr>\n",
       "      <th>0</th>\n",
       "      <td>Bryce</td>\n",
       "      <td>576195</td>\n",
       "      <td>16393</td>\n",
       "      <td>489</td>\n",
       "      <td>17.386918</td>\n",
       "      <td>18.049393</td>\n",
       "      <td>17.476769</td>\n",
       "    </tr>\n",
       "    <tr>\n",
       "      <th>1</th>\n",
       "      <td>Great Smoky Mountains</td>\n",
       "      <td>431537</td>\n",
       "      <td>11336</td>\n",
       "      <td>334</td>\n",
       "      <td>13.021804</td>\n",
       "      <td>12.481420</td>\n",
       "      <td>11.937098</td>\n",
       "    </tr>\n",
       "    <tr>\n",
       "      <th>2</th>\n",
       "      <td>Yellowstone</td>\n",
       "      <td>1443016</td>\n",
       "      <td>39365</td>\n",
       "      <td>1228</td>\n",
       "      <td>43.543595</td>\n",
       "      <td>43.342545</td>\n",
       "      <td>43.888492</td>\n",
       "    </tr>\n",
       "    <tr>\n",
       "      <th>3</th>\n",
       "      <td>Yosemite</td>\n",
       "      <td>863209</td>\n",
       "      <td>23729</td>\n",
       "      <td>747</td>\n",
       "      <td>26.047683</td>\n",
       "      <td>26.126642</td>\n",
       "      <td>26.697641</td>\n",
       "    </tr>\n",
       "  </tbody>\n",
       "</table>\n",
       "</div>"
      ],
      "text/plain": [
       "               park_name      all  in_danger  endangered  percent_all  \\\n",
       "0                  Bryce   576195      16393         489    17.386918   \n",
       "1  Great Smoky Mountains   431537      11336         334    13.021804   \n",
       "2            Yellowstone  1443016      39365        1228    43.543595   \n",
       "3               Yosemite   863209      23729         747    26.047683   \n",
       "\n",
       "   percent_in_danger  percent_endangered  \n",
       "0          18.049393           17.476769  \n",
       "1          12.481420           11.937098  \n",
       "2          43.342545           43.888492  \n",
       "3          26.126642           26.697641  "
      ]
     },
     "execution_count": 156,
     "metadata": {},
     "output_type": "execute_result"
    }
   ],
   "source": [
    "# percents of observation in different status\n",
    "data=[all_obs_park, obs_park, endangered_obs_park]\n",
    "perc_obs_park=pd.DataFrame(data=data)\n",
    "perc_obs_park=perc_obs_park.transpose()\n",
    "perc_obs_park.reset_index(inplace=True)\n",
    "perc_obs_park.columns=['park_name','all', 'in_danger', 'endangered']\n",
    "    \n",
    "perc_obs_park['percent_all']=perc_obs_park['all']/perc_obs_park['all'].sum()*100\n",
    "perc_obs_park['percent_in_danger']=perc_obs_park['in_danger']/perc_obs_park['in_danger'].sum()*100\n",
    "perc_obs_park['percent_endangered']=perc_obs_park['endangered']/perc_obs_park['endangered'].sum()*100\n",
    "perc_obs_park"
   ]
  },
  {
   "cell_type": "code",
   "execution_count": 123,
   "metadata": {},
   "outputs": [
    {
     "data": {
      "text/html": [
       "<div>\n",
       "<style scoped>\n",
       "    .dataframe tbody tr th:only-of-type {\n",
       "        vertical-align: middle;\n",
       "    }\n",
       "\n",
       "    .dataframe tbody tr th {\n",
       "        vertical-align: top;\n",
       "    }\n",
       "\n",
       "    .dataframe thead th {\n",
       "        text-align: right;\n",
       "    }\n",
       "</style>\n",
       "<table border=\"1\" class=\"dataframe\">\n",
       "  <thead>\n",
       "    <tr style=\"text-align: right;\">\n",
       "      <th></th>\n",
       "      <th>park_name</th>\n",
       "      <th>all</th>\n",
       "      <th>in_danger</th>\n",
       "      <th>endangered</th>\n",
       "      <th>diff_all_in_danger</th>\n",
       "      <th>diff_in_danger_endangered</th>\n",
       "    </tr>\n",
       "  </thead>\n",
       "  <tbody>\n",
       "    <tr>\n",
       "      <th>0</th>\n",
       "      <td>Bryce</td>\n",
       "      <td>576195</td>\n",
       "      <td>16393</td>\n",
       "      <td>489</td>\n",
       "      <td>5598.02</td>\n",
       "      <td>15904</td>\n",
       "    </tr>\n",
       "    <tr>\n",
       "      <th>1</th>\n",
       "      <td>Great Smoky Mountains</td>\n",
       "      <td>431537</td>\n",
       "      <td>11336</td>\n",
       "      <td>334</td>\n",
       "      <td>4202.01</td>\n",
       "      <td>11002</td>\n",
       "    </tr>\n",
       "    <tr>\n",
       "      <th>2</th>\n",
       "      <td>Yellowstone</td>\n",
       "      <td>1443016</td>\n",
       "      <td>39365</td>\n",
       "      <td>1228</td>\n",
       "      <td>14036.51</td>\n",
       "      <td>38137</td>\n",
       "    </tr>\n",
       "    <tr>\n",
       "      <th>3</th>\n",
       "      <td>Yosemite</td>\n",
       "      <td>863209</td>\n",
       "      <td>23729</td>\n",
       "      <td>747</td>\n",
       "      <td>8394.80</td>\n",
       "      <td>22982</td>\n",
       "    </tr>\n",
       "  </tbody>\n",
       "</table>\n",
       "</div>"
      ],
      "text/plain": [
       "               park_name      all  in_danger  endangered  diff_all_in_danger  \\\n",
       "0                  Bryce   576195      16393         489             5598.02   \n",
       "1  Great Smoky Mountains   431537      11336         334             4202.01   \n",
       "2            Yellowstone  1443016      39365        1228            14036.51   \n",
       "3               Yosemite   863209      23729         747             8394.80   \n",
       "\n",
       "   diff_in_danger_endangered  \n",
       "0                      15904  \n",
       "1                      11002  \n",
       "2                      38137  \n",
       "3                      22982  "
      ]
     },
     "execution_count": 123,
     "metadata": {},
     "output_type": "execute_result"
    }
   ],
   "source": [
    "# create df for visualization of proportion of observation in different status\n",
    "data=[all_obs_park, obs_park, endangered_obs_park]\n",
    "diff_obs_park=pd.DataFrame(data=data)\n",
    "diff_obs_park=diff_obs_park.transpose()\n",
    "diff_obs_park.reset_index(inplace=True)\n",
    "diff_obs_park.columns=['park_name','all', 'in_danger', 'endangered']\n",
    "diff_obs_park['diff_all_in_danger']=(diff_obs_park['all']-diff_obs_park['in_danger'])/100\n",
    "\n",
    "diff_obs_park['diff_in_danger_endangered']=(diff_obs_park['in_danger']-diff_obs_park['endangered'])\n",
    "diff_obs_park"
   ]
  },
  {
   "cell_type": "code",
   "execution_count": 158,
   "metadata": {},
   "outputs": [
    {
     "data": {
      "image/png": "[encoded data removed]",
      "text/plain": [
       "<Figure size 1000x800 with 1 Axes>"
      ]
     },
     "metadata": {},
     "output_type": "display_data"
    },
    {
     "data": {
      "text/plain": [
       "<Figure size 640x480 with 0 Axes>"
      ]
     },
     "metadata": {},
     "output_type": "display_data"
    }
   ],
   "source": [
    "# visualization of proportions of observations in parks by conservation status\n",
    "\n",
    "given_bottom=np.add(diff_obs_park['diff_all_in_danger'], diff_obs_park['diff_in_danger_endangered'])\n",
    "_,ax=plt.subplots(figsize=(10,8))\n",
    "plt.bar(diff_obs_park['park_name'], diff_obs_park['diff_all_in_danger'])\n",
    "plt.bar(diff_obs_park['park_name'], \n",
    "        diff_obs_park['diff_in_danger_endangered'], bottom=diff_obs_park['diff_all_in_danger'])\n",
    "plt.bar(diff_obs_park['park_name'], diff_obs_park['endangered'], bottom=given_bottom)\n",
    "ax.set_ylabel('Number of Observations')\n",
    "ax.set_xlabel('National Parks')\n",
    "plt.title('Proportion of Observation in Different Status in National Parks')\n",
    "labels_legend=['Not in Danger/100', 'In Danger', 'Endangered']\n",
    "ax.legend(labels=labels_legend)\n",
    "plt.savefig('prop_obs_num_parks_status.png', bbox_inches='tight')\n",
    "plt.show()\n",
    "plt.clf()"
   ]
  },
  {
   "cell_type": "markdown",
   "metadata": {},
   "source": [
    "The number of observations are the highest in Yellostone National Park, as among all observations (43.54%) as among species in danger (43.34%) and among endangered species (43.88%). The same situation can be observed in other national parks. On the vizualisation above I devided the number of all observations by 100 to show better the top of the bars where you can see the number of observation of endangered species.  \n",
    "As the final step I will analyze the relation of the common names and the observationnumbers in the different national parks. "
   ]
  },
  {
   "cell_type": "markdown",
   "metadata": {},
   "source": [
    "###### Observations of Common Names in National Parks #####"
   ]
  },
  {
   "cell_type": "code",
   "execution_count": 95,
   "metadata": {},
   "outputs": [
    {
     "data": {
      "text/plain": [
       "category        common_names                                               \n",
       "Mammal          Gray Wolf                                                      715\n",
       "Fish            Duskytail Darter                                               166\n",
       "Vascular Plant  Mountain Avens, Spreading Avens                                162\n",
       "Mammal          Gray Myotis                                                    160\n",
       "Bird            California Condor                                              156\n",
       "Mammal          Carolina Northern Flying Squirrel, Northern Flying Squirrel    153\n",
       "                Sierra Nevada Bighorn Sheep                                    153\n",
       "Fish            June Sucker                                                    146\n",
       "Bird            Red-Cockaded Woodpecker                                        146\n",
       "Mammal          Indiana Bat, Indiana Or Social Myotis                          145\n",
       "Amphibian       Sierra Nevada Yellow-Legged Frog                               144\n",
       "Fish            Smoky Madtom                                                   143\n",
       "Bird            Bachman's Warbler, Bachman's Wood Warbler                      141\n",
       "Mammal          Red Wolf                                                       137\n",
       "Bird            Whooping Crane                                                 131\n",
       "Name: obs_num, dtype: int64"
      ]
     },
     "execution_count": 95,
     "metadata": {},
     "output_type": "execute_result"
    }
   ],
   "source": [
    "all_data_endangered.groupby(['category','common_names'])['obs_num'].sum().sort_values(ascending=False)[:15]"
   ]
  },
  {
   "cell_type": "markdown",
   "metadata": {},
   "source": [
    "The most observed endangered animal is the Grey Wolf with 715 observations. This number is an outlier, the other observation numbers are between 131 and 166. Among the endangered species, there are mammals, birds, fishes, one amphibian and one vascular plant."
   ]
  },
  {
   "cell_type": "code",
   "execution_count": 96,
   "metadata": {},
   "outputs": [
    {
     "data": {
      "text/html": [
       "<div>\n",
       "<style scoped>\n",
       "    .dataframe tbody tr th:only-of-type {\n",
       "        vertical-align: middle;\n",
       "    }\n",
       "\n",
       "    .dataframe tbody tr th {\n",
       "        vertical-align: top;\n",
       "    }\n",
       "\n",
       "    .dataframe thead th {\n",
       "        text-align: right;\n",
       "    }\n",
       "</style>\n",
       "<table border=\"1\" class=\"dataframe\">\n",
       "  <thead>\n",
       "    <tr style=\"text-align: right;\">\n",
       "      <th></th>\n",
       "      <th>common_name</th>\n",
       "      <th>Bryce</th>\n",
       "      <th>GSM</th>\n",
       "      <th>Yellowstone</th>\n",
       "      <th>Yosemite</th>\n",
       "      <th>sum</th>\n",
       "    </tr>\n",
       "  </thead>\n",
       "  <tbody>\n",
       "    <tr>\n",
       "      <th>5</th>\n",
       "      <td>Gray Wolf</td>\n",
       "      <td>130</td>\n",
       "      <td>59</td>\n",
       "      <td>330</td>\n",
       "      <td>196</td>\n",
       "      <td>715</td>\n",
       "    </tr>\n",
       "    <tr>\n",
       "      <th>3</th>\n",
       "      <td>Duskytail Darter</td>\n",
       "      <td>25</td>\n",
       "      <td>31</td>\n",
       "      <td>70</td>\n",
       "      <td>40</td>\n",
       "      <td>166</td>\n",
       "    </tr>\n",
       "    <tr>\n",
       "      <th>8</th>\n",
       "      <td>Mountain Avens, Spreading Avens</td>\n",
       "      <td>25</td>\n",
       "      <td>27</td>\n",
       "      <td>63</td>\n",
       "      <td>47</td>\n",
       "      <td>162</td>\n",
       "    </tr>\n",
       "    <tr>\n",
       "      <th>4</th>\n",
       "      <td>Gray Myotis</td>\n",
       "      <td>27</td>\n",
       "      <td>26</td>\n",
       "      <td>68</td>\n",
       "      <td>39</td>\n",
       "      <td>160</td>\n",
       "    </tr>\n",
       "    <tr>\n",
       "      <th>1</th>\n",
       "      <td>California Condor</td>\n",
       "      <td>30</td>\n",
       "      <td>15</td>\n",
       "      <td>64</td>\n",
       "      <td>47</td>\n",
       "      <td>156</td>\n",
       "    </tr>\n",
       "    <tr>\n",
       "      <th>2</th>\n",
       "      <td>Carolina Northern Flying Squirrel, Northern Fl...</td>\n",
       "      <td>29</td>\n",
       "      <td>21</td>\n",
       "      <td>67</td>\n",
       "      <td>36</td>\n",
       "      <td>153</td>\n",
       "    </tr>\n",
       "    <tr>\n",
       "      <th>11</th>\n",
       "      <td>Sierra Nevada Bighorn Sheep</td>\n",
       "      <td>22</td>\n",
       "      <td>25</td>\n",
       "      <td>67</td>\n",
       "      <td>39</td>\n",
       "      <td>153</td>\n",
       "    </tr>\n",
       "    <tr>\n",
       "      <th>7</th>\n",
       "      <td>June Sucker</td>\n",
       "      <td>23</td>\n",
       "      <td>23</td>\n",
       "      <td>65</td>\n",
       "      <td>35</td>\n",
       "      <td>146</td>\n",
       "    </tr>\n",
       "    <tr>\n",
       "      <th>10</th>\n",
       "      <td>Red-Cockaded Woodpecker</td>\n",
       "      <td>24</td>\n",
       "      <td>15</td>\n",
       "      <td>64</td>\n",
       "      <td>43</td>\n",
       "      <td>146</td>\n",
       "    </tr>\n",
       "    <tr>\n",
       "      <th>6</th>\n",
       "      <td>Indiana Bat, Indiana Or Social Myotis</td>\n",
       "      <td>27</td>\n",
       "      <td>14</td>\n",
       "      <td>68</td>\n",
       "      <td>36</td>\n",
       "      <td>145</td>\n",
       "    </tr>\n",
       "    <tr>\n",
       "      <th>12</th>\n",
       "      <td>Sierra Nevada Yellow-Legged Frog</td>\n",
       "      <td>31</td>\n",
       "      <td>11</td>\n",
       "      <td>60</td>\n",
       "      <td>42</td>\n",
       "      <td>144</td>\n",
       "    </tr>\n",
       "    <tr>\n",
       "      <th>13</th>\n",
       "      <td>Smoky Madtom</td>\n",
       "      <td>22</td>\n",
       "      <td>23</td>\n",
       "      <td>67</td>\n",
       "      <td>31</td>\n",
       "      <td>143</td>\n",
       "    </tr>\n",
       "    <tr>\n",
       "      <th>0</th>\n",
       "      <td>Bachman's Warbler, Bachman's Wood Warbler</td>\n",
       "      <td>20</td>\n",
       "      <td>18</td>\n",
       "      <td>58</td>\n",
       "      <td>45</td>\n",
       "      <td>141</td>\n",
       "    </tr>\n",
       "    <tr>\n",
       "      <th>9</th>\n",
       "      <td>Red Wolf</td>\n",
       "      <td>30</td>\n",
       "      <td>13</td>\n",
       "      <td>60</td>\n",
       "      <td>34</td>\n",
       "      <td>137</td>\n",
       "    </tr>\n",
       "    <tr>\n",
       "      <th>14</th>\n",
       "      <td>Whooping Crane</td>\n",
       "      <td>24</td>\n",
       "      <td>13</td>\n",
       "      <td>57</td>\n",
       "      <td>37</td>\n",
       "      <td>131</td>\n",
       "    </tr>\n",
       "  </tbody>\n",
       "</table>\n",
       "</div>"
      ],
      "text/plain": [
       "                                          common_name  Bryce  GSM  \\\n",
       "5                                           Gray Wolf    130   59   \n",
       "3                                    Duskytail Darter     25   31   \n",
       "8                     Mountain Avens, Spreading Avens     25   27   \n",
       "4                                         Gray Myotis     27   26   \n",
       "1                                   California Condor     30   15   \n",
       "2   Carolina Northern Flying Squirrel, Northern Fl...     29   21   \n",
       "11                        Sierra Nevada Bighorn Sheep     22   25   \n",
       "7                                         June Sucker     23   23   \n",
       "10                            Red-Cockaded Woodpecker     24   15   \n",
       "6               Indiana Bat, Indiana Or Social Myotis     27   14   \n",
       "12                   Sierra Nevada Yellow-Legged Frog     31   11   \n",
       "13                                       Smoky Madtom     22   23   \n",
       "0           Bachman's Warbler, Bachman's Wood Warbler     20   18   \n",
       "9                                            Red Wolf     30   13   \n",
       "14                                     Whooping Crane     24   13   \n",
       "\n",
       "    Yellowstone  Yosemite  sum  \n",
       "5           330       196  715  \n",
       "3            70        40  166  \n",
       "8            63        47  162  \n",
       "4            68        39  160  \n",
       "1            64        47  156  \n",
       "2            67        36  153  \n",
       "11           67        39  153  \n",
       "7            65        35  146  \n",
       "10           64        43  146  \n",
       "6            68        36  145  \n",
       "12           60        42  144  \n",
       "13           67        31  143  \n",
       "0            58        45  141  \n",
       "9            60        34  137  \n",
       "14           57        37  131  "
      ]
     },
     "execution_count": 96,
     "metadata": {},
     "output_type": "execute_result"
    }
   ],
   "source": [
    "danger_spec_park=all_data_endangered.groupby(['park_name', 'common_names']).agg({'obs_num': 'sum'})\n",
    "\n",
    "# danger_spec_park.columns=['park_name', 'common_name', 'obs_num']\n",
    "danger_spec_park.reset_index(inplace=True)\n",
    "\n",
    "danger_spec_park= pd.pivot_table(\n",
    "data=danger_spec_park,\n",
    "values='obs_num',\n",
    "columns='park_name',\n",
    "index='common_names')\n",
    "danger_spec_park.reset_index(inplace=True)\n",
    "danger_spec_park.columns=['common_name','Bryce', 'GSM', 'Yellowstone', 'Yosemite']\n",
    "danger_spec_park['sum']=danger_spec_park['Bryce']+danger_spec_park['GSM']+danger_spec_park['Yellowstone']+danger_spec_park['Yosemite']\n",
    "danger_spec_park.sort_values(by=['sum'], ascending=False)"
   ]
  },
  {
   "cell_type": "markdown",
   "metadata": {},
   "source": [
    "The observations of the Gray Wolf are in all National Parks high. The numbers are in Yellowstone National Park the highest, but proportionately they are the same for each record. It can not be observed any relations between endangered status and national parks."
   ]
  }
 ],
 "metadata": {
  "kernelspec": {
   "display_name": "Python 3 (ipykernel)",
   "language": "python",
   "name": "python3"
  },
  "language_info": {
   "codemirror_mode": {
    "name": "ipython",
    "version": 3
   },
   "file_extension": ".py",
   "mimetype": "text/x-python",
   "name": "python",
   "nbconvert_exporter": "python",
   "pygments_lexer": "ipython3",
   "version": "3.9.13"
  }
 },
 "nbformat": 4,
 "nbformat_minor": 4
}
